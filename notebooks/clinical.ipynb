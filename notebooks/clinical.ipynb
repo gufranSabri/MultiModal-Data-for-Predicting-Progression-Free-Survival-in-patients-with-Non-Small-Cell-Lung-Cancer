{
 "cells": [
  {
   "cell_type": "code",
   "execution_count": 136,
   "id": "e29ff160-882c-4918-8bb4-2eb22b0b0f23",
   "metadata": {
    "tags": []
   },
   "outputs": [],
   "source": [
    "import pandas as pd\n",
    "\n",
    "from sklearn.preprocessing import StandardScaler\n",
    "\n",
    "from sklearn.model_selection import train_test_split\n",
    "from sklearn.svm import SVR\n",
    "from sklearn.metrics import mean_squared_error\n",
    "from scipy.stats import pearsonr\n",
    "from sklearn.model_selection import GridSearchCV\n",
    "from sklearn.naive_bayes import MultinomialNB\n",
    "from sklearn.neighbors import KNeighborsRegressor\n",
    "from sklearn.linear_model import LogisticRegression, LinearRegression\n",
    "from sklearn.svm import SVR\n",
    "from xgboost import XGBRegressor\n",
    "from sklearn.ensemble import AdaBoostRegressor, RandomForestRegressor\n",
    "from sklearn.tree import DecisionTreeRegressor"
   ]
  },
  {
   "cell_type": "code",
   "execution_count": 137,
   "id": "ea097548-6818-443d-ad29-b7a256b11ff6",
   "metadata": {
    "tags": []
   },
   "outputs": [],
   "source": [
    "# data = pd.read_parquet('/Users/gufran/Desktop/PfsPredictionLungCancer/clinical_data/PDL1_SCORE.parquet', engine='pyarrow')\n",
    "# data = pd.DataFrame(data[\"Sauter PD-L1 Score\"]).reset_index()\n",
    "# data.columns = [\"dmp_pt_id\",\"Sauter PD-L1 Score\"]\n",
    "\n",
    "# data.dmp_pt_id.unique()"
   ]
  },
  {
   "cell_type": "markdown",
   "id": "c6911047-4c97-4e4c-a989-2e302b37374d",
   "metadata": {},
   "source": [
    "### Reading Dataframes and separating test and train"
   ]
  },
  {
   "cell_type": "code",
   "execution_count": 138,
   "id": "bc88cc96-34ca-4fa3-b4ab-2a9193a66132",
   "metadata": {
    "tags": []
   },
   "outputs": [
    {
     "data": {
      "text/plain": [
       "(366, 53)"
      ]
     },
     "execution_count": 138,
     "metadata": {},
     "output_type": "execute_result"
    }
   ],
   "source": [
    "df = pd.read_csv('/Users/gufran/Desktop/PfsPredictionLungCancer/clinical_data/clinical_data.csv')\n",
    "\n",
    "# df[\"dmp_pt_id\"] = pd.to_numeric(df[\"dmp_pt_id\"], errors='coerce').astype(int)\n",
    "df = df[(df['pfs'] != 0) | (df['pfs_censor'] == 1)]\n",
    "df.shape"
   ]
  },
  {
   "cell_type": "code",
   "execution_count": 139,
   "id": "fcc9b5a8-aecf-412b-a57c-89fc0b4c5181",
   "metadata": {
    "scrolled": true,
    "tags": []
   },
   "outputs": [
    {
     "name": "stdout",
     "output_type": "stream",
     "text": [
      "<class 'pandas.core.frame.DataFrame'>\n",
      "RangeIndex: 366 entries, 0 to 365\n",
      "Data columns (total 53 columns):\n",
      " #   Column                      Non-Null Count  Dtype  \n",
      "---  ------                      --------------  -----  \n",
      " 0   radiology_accession_number  297 non-null    float64\n",
      " 1   dmp_pt_id                   332 non-null    object \n",
      " 2   main_index                  366 non-null    object \n",
      " 3   record_id                   366 non-null    int64  \n",
      " 4   de_i_id                     247 non-null    float64\n",
      " 5   albumin                     365 non-null    float64\n",
      " 6   smoking_status              366 non-null    int64  \n",
      " 7   pack_years                  366 non-null    object \n",
      " 8   dnlr                        364 non-null    float64\n",
      " 9   pfs                         366 non-null    float64\n",
      " 10  pfs_censor                  366 non-null    int64  \n",
      " 11  os_int                      232 non-null    float64\n",
      " 12  age                         366 non-null    int64  \n",
      " 13  histo                       366 non-null    object \n",
      " 14  ecog                        366 non-null    int64  \n",
      " 15  bor                         366 non-null    int64  \n",
      " 16  sex                         366 non-null    int64  \n",
      " 17  dicom_path                  246 non-null    object \n",
      " 18  did_mrn                     296 non-null    object \n",
      " 19  did_acc                     297 non-null    float64\n",
      " 20  has_radiology_segmentation  246 non-null    float64\n",
      " 21  radiologysegmentationpath   189 non-null    object \n",
      " 22  deid                        247 non-null    float64\n",
      " 23  n_lesions                   189 non-null    float64\n",
      " 24  impact_pdl1_same            246 non-null    float64\n",
      " 25  clinical_pdl1_score         317 non-null    float64\n",
      " 26  pdl1_image_id               269 non-null    object \n",
      " 27  slide_id                    262 non-null    object \n",
      " 28  pdl1_tiss_site              317 non-null    object \n",
      " 29  hobbit_id                   246 non-null    object \n",
      " 30  pdl1_acc                    317 non-null    object \n",
      " 31  halo_tumor_quality          235 non-null    object \n",
      " 32  js_pdl1_score               201 non-null    float64\n",
      " 33  impact_tissue_acc           246 non-null    object \n",
      " 34  site_lung                   317 non-null    object \n",
      " 35  hist_adeno                  366 non-null    bool   \n",
      " 36  label                       366 non-null    int64  \n",
      " 37  liver_mets                  247 non-null    float64\n",
      " 38  brain_mets                  247 non-null    float64\n",
      " 39  tumor_burden                247 non-null    float64\n",
      " 40  therapy_line                247 non-null    float64\n",
      " 41  recieves_pdl1_therapy       247 non-null    float64\n",
      " 42  recieves_pd1_therapy        247 non-null    float64\n",
      " 43  recieves_combo_therapy      247 non-null    float64\n",
      " 44  Exposure                    237 non-null    float64\n",
      " 45  TableSpeed                  237 non-null    float64\n",
      " 46  TotalCollimationWidth       237 non-null    float64\n",
      " 47  XRayTubeCurrent_min         237 non-null    float64\n",
      " 48  XRayTubeCurrent_max         237 non-null    float64\n",
      " 49  XRayTubeCurrent_range       237 non-null    float64\n",
      " 50  scanner_discovery           237 non-null    object \n",
      " 51  scanner_lightspeed          237 non-null    object \n",
      " 52  scanner_revolution          237 non-null    object \n",
      "dtypes: bool(1), float64(26), int64(8), object(18)\n",
      "memory usage: 149.2+ KB\n"
     ]
    }
   ],
   "source": [
    "df.info()"
   ]
  },
  {
   "cell_type": "code",
   "execution_count": 140,
   "id": "670c4847-bfc5-422a-89dc-d2c2b7c13246",
   "metadata": {
    "tags": []
   },
   "outputs": [],
   "source": [
    "df_splits = pd.read_csv('/Users/gufran/Desktop/PfsPredictionLungCancer/clinical_data/train_test_splits.csv')\n",
    "df_splits = df_splits.rename(columns={'patient_id': 'id'})\n",
    "\n",
    "train_ids = df_splits[df_splits.split == 'train']\n",
    "train_ids = train_ids.rename(columns={'id': 'dmp_pt_id'})\n",
    "\n",
    "test_ids1 = df_splits[df_splits.split == 'rad_valid']\n",
    "test_ids1 = test_ids1.rename(columns={'id': 'radiology_accession_number'})\n",
    "test_ids1[\"radiology_accession_number\"] = pd.to_numeric(test_ids1[\"radiology_accession_number\"], errors='coerce').astype(float)\n",
    "\n",
    "test_ids2 = df_splits[df_splits.split == 'path_valid']\n",
    "test_ids2 = test_ids2.rename(columns={'id': 'pdl1_image_id'})\n",
    "# test_ids2[\"pdl1_image_id\"] = pd.to_numeric(test_ids2[\"pdl1_image_id\"], errors='coerce').astype(float)"
   ]
  },
  {
   "cell_type": "code",
   "execution_count": 141,
   "id": "b317dc98-299c-49d5-9f20-25e7ea8c8041",
   "metadata": {
    "tags": []
   },
   "outputs": [
    {
     "data": {
      "text/plain": [
       "(247, 54)"
      ]
     },
     "execution_count": 141,
     "metadata": {},
     "output_type": "execute_result"
    }
   ],
   "source": [
    "df_train = pd.merge(df, train_ids, on='dmp_pt_id', how='inner')\n",
    "df_train.shape"
   ]
  },
  {
   "cell_type": "code",
   "execution_count": 142,
   "id": "c7a804fa-fe45-40b2-81bb-15371c4599d8",
   "metadata": {
    "tags": []
   },
   "outputs": [
    {
     "data": {
      "text/plain": [
       "(50, 53)"
      ]
     },
     "execution_count": 142,
     "metadata": {},
     "output_type": "execute_result"
    }
   ],
   "source": [
    "df_test1 = pd.merge(df.drop([\"dmp_pt_id\"], axis=1), test_ids1, on='radiology_accession_number', how='inner')\n",
    "df_test1.shape"
   ]
  },
  {
   "cell_type": "code",
   "execution_count": 143,
   "id": "632cf118-0611-474a-9812-7b6d1110d755",
   "metadata": {
    "tags": []
   },
   "outputs": [
    {
     "data": {
      "text/plain": [
       "(71, 53)"
      ]
     },
     "execution_count": 143,
     "metadata": {},
     "output_type": "execute_result"
    }
   ],
   "source": [
    "df_test2 = pd.merge(df.drop([\"dmp_pt_id\"], axis=1), test_ids2, on='pdl1_image_id', how='inner')\n",
    "df_test2.shape"
   ]
  },
  {
   "cell_type": "code",
   "execution_count": 144,
   "id": "2874ed48-9d48-4518-98a6-4e4077ee0fd7",
   "metadata": {
    "tags": []
   },
   "outputs": [],
   "source": [
    "# df = pd.merge(df, data, on='dmp_pt_id', how='inner')"
   ]
  },
  {
   "cell_type": "code",
   "execution_count": 145,
   "id": "341c4fe7-8197-4422-bf36-ce96779d1f0b",
   "metadata": {
    "tags": []
   },
   "outputs": [],
   "source": [
    "def process_clinical(df, selected_columns=None, correlation_threshold = 0.2, drop_na = True):\n",
    "    object_float_columns = [\"pack_years\",\"halo_tumor_quality\"]\n",
    "    good_object_columns = [\"histo\",\"pdl1_tiss_site\"]\n",
    "    \n",
    "    remove_columns = list(df.select_dtypes(include=['object']).columns)\n",
    "    if \"dmp_pt_id\" in remove_columns: remove_columns.append(\"dmp_pt_id\")\n",
    "    remove_columns.append(\"record_id\")\n",
    "    remove_columns.append(\"pfs_censor\")\n",
    "    remove_columns.append(\"radiology_accession_number\")\n",
    "    remove_columns.append(\"did_acc\")\n",
    "    remove_columns.append(\"os_int\")\n",
    "    remove_columns.append(\"bor\")\n",
    "    remove_columns.append(\"sex\")\n",
    "    remove_columns.append(\"deid\")\n",
    "    remove_columns.append(\"label\")\n",
    "    remove_columns.append(\"clinical_pdl1_score\") #removing because of empty cells in test data\n",
    "    remove_columns.append(\"js_pdl1_score\") #removing because of empty cells in test data\n",
    "    \n",
    "    for c in object_float_columns:\n",
    "        remove_columns.remove(c)\n",
    "        \n",
    "    df = df.drop(columns=remove_columns)\n",
    "    \n",
    "    for c in object_float_columns:\n",
    "        df[c] = pd.to_numeric(df[c], errors='coerce').astype(float)\n",
    "    df[\"hist_adeno\"] = df[\"hist_adeno\"].astype(int)\n",
    "    \n",
    "    if selected_columns is None:\n",
    "        correlations = df.corrwith(df['pfs'])\n",
    "        selected_columns = correlations[(correlations >= correlation_threshold) | (correlations <= -correlation_threshold)].index\n",
    "\n",
    "        selected_columns = list(selected_columns)\n",
    "        \n",
    "    for sc in selected_columns:\n",
    "        # if sc in [\"dmp_pt_id\", \"pfs\"]: continue\n",
    "        print(f\"Correlation with {sc}: {df['pfs'].corr(df[sc])}\")\n",
    "    \n",
    "    df = df[selected_columns]        \n",
    "    if drop_na: df = df.dropna().reset_index(drop=True)\n",
    "    \n",
    "    return df, selected_columns"
   ]
  },
  {
   "cell_type": "code",
   "execution_count": 146,
   "id": "a8838db8-3d6e-4e72-bf65-db126ee369ae",
   "metadata": {
    "tags": []
   },
   "outputs": [
    {
     "name": "stdout",
     "output_type": "stream",
     "text": [
      "Correlation with albumin: 0.2965218696773043\n",
      "Correlation with dnlr: -0.11224287020620409\n",
      "Correlation with pfs: 1.0\n",
      "Correlation with ecog: -0.14838845503946382\n",
      "Correlation with XRayTubeCurrent_min: 0.11137950438058856\n"
     ]
    },
    {
     "data": {
      "text/html": [
       "<div>\n",
       "<style scoped>\n",
       "    .dataframe tbody tr th:only-of-type {\n",
       "        vertical-align: middle;\n",
       "    }\n",
       "\n",
       "    .dataframe tbody tr th {\n",
       "        vertical-align: top;\n",
       "    }\n",
       "\n",
       "    .dataframe thead th {\n",
       "        text-align: right;\n",
       "    }\n",
       "</style>\n",
       "<table border=\"1\" class=\"dataframe\">\n",
       "  <thead>\n",
       "    <tr style=\"text-align: right;\">\n",
       "      <th></th>\n",
       "      <th>albumin</th>\n",
       "      <th>dnlr</th>\n",
       "      <th>pfs</th>\n",
       "      <th>ecog</th>\n",
       "      <th>XRayTubeCurrent_min</th>\n",
       "    </tr>\n",
       "  </thead>\n",
       "  <tbody>\n",
       "    <tr>\n",
       "      <th>0</th>\n",
       "      <td>4.0</td>\n",
       "      <td>1.8</td>\n",
       "      <td>5.6</td>\n",
       "      <td>1</td>\n",
       "      <td>120.0</td>\n",
       "    </tr>\n",
       "    <tr>\n",
       "      <th>1</th>\n",
       "      <td>3.4</td>\n",
       "      <td>2.2</td>\n",
       "      <td>7.5</td>\n",
       "      <td>1</td>\n",
       "      <td>122.0</td>\n",
       "    </tr>\n",
       "    <tr>\n",
       "      <th>2</th>\n",
       "      <td>4.4</td>\n",
       "      <td>1.6</td>\n",
       "      <td>1.2</td>\n",
       "      <td>1</td>\n",
       "      <td>123.0</td>\n",
       "    </tr>\n",
       "    <tr>\n",
       "      <th>3</th>\n",
       "      <td>3.2</td>\n",
       "      <td>3.1</td>\n",
       "      <td>5.0</td>\n",
       "      <td>1</td>\n",
       "      <td>121.0</td>\n",
       "    </tr>\n",
       "    <tr>\n",
       "      <th>4</th>\n",
       "      <td>2.7</td>\n",
       "      <td>4.9</td>\n",
       "      <td>5.5</td>\n",
       "      <td>1</td>\n",
       "      <td>201.0</td>\n",
       "    </tr>\n",
       "    <tr>\n",
       "      <th>...</th>\n",
       "      <td>...</td>\n",
       "      <td>...</td>\n",
       "      <td>...</td>\n",
       "      <td>...</td>\n",
       "      <td>...</td>\n",
       "    </tr>\n",
       "    <tr>\n",
       "      <th>185</th>\n",
       "      <td>3.5</td>\n",
       "      <td>0.9</td>\n",
       "      <td>8.7</td>\n",
       "      <td>1</td>\n",
       "      <td>119.0</td>\n",
       "    </tr>\n",
       "    <tr>\n",
       "      <th>186</th>\n",
       "      <td>3.8</td>\n",
       "      <td>1.7</td>\n",
       "      <td>6.4</td>\n",
       "      <td>1</td>\n",
       "      <td>119.0</td>\n",
       "    </tr>\n",
       "    <tr>\n",
       "      <th>187</th>\n",
       "      <td>3.6</td>\n",
       "      <td>2.2</td>\n",
       "      <td>1.2</td>\n",
       "      <td>1</td>\n",
       "      <td>121.0</td>\n",
       "    </tr>\n",
       "    <tr>\n",
       "      <th>188</th>\n",
       "      <td>4.1</td>\n",
       "      <td>6.3</td>\n",
       "      <td>5.0</td>\n",
       "      <td>1</td>\n",
       "      <td>119.0</td>\n",
       "    </tr>\n",
       "    <tr>\n",
       "      <th>189</th>\n",
       "      <td>3.4</td>\n",
       "      <td>1.6</td>\n",
       "      <td>11.0</td>\n",
       "      <td>1</td>\n",
       "      <td>210.0</td>\n",
       "    </tr>\n",
       "  </tbody>\n",
       "</table>\n",
       "<p>190 rows × 5 columns</p>\n",
       "</div>"
      ],
      "text/plain": [
       "     albumin  dnlr   pfs  ecog  XRayTubeCurrent_min\n",
       "0        4.0   1.8   5.6     1                120.0\n",
       "1        3.4   2.2   7.5     1                122.0\n",
       "2        4.4   1.6   1.2     1                123.0\n",
       "3        3.2   3.1   5.0     1                121.0\n",
       "4        2.7   4.9   5.5     1                201.0\n",
       "..       ...   ...   ...   ...                  ...\n",
       "185      3.5   0.9   8.7     1                119.0\n",
       "186      3.8   1.7   6.4     1                119.0\n",
       "187      3.6   2.2   1.2     1                121.0\n",
       "188      4.1   6.3   5.0     1                119.0\n",
       "189      3.4   1.6  11.0     1                210.0\n",
       "\n",
       "[190 rows x 5 columns]"
      ]
     },
     "execution_count": 146,
     "metadata": {},
     "output_type": "execute_result"
    }
   ],
   "source": [
    "df_train, selected_columns = process_clinical(df_train, correlation_threshold = 0.11)\n",
    "df_train"
   ]
  },
  {
   "cell_type": "code",
   "execution_count": 147,
   "id": "a3205932-8168-4d3f-b268-6009a276542d",
   "metadata": {
    "tags": []
   },
   "outputs": [
    {
     "name": "stdout",
     "output_type": "stream",
     "text": [
      "Correlation with albumin: 0.20610220760106246\n",
      "Correlation with dnlr: -0.13985836604572588\n",
      "Correlation with pfs: 1.0\n",
      "Correlation with ecog: -0.21912375505835752\n",
      "Correlation with XRayTubeCurrent_min: -0.05612062151252564\n"
     ]
    },
    {
     "data": {
      "text/html": [
       "<div>\n",
       "<style scoped>\n",
       "    .dataframe tbody tr th:only-of-type {\n",
       "        vertical-align: middle;\n",
       "    }\n",
       "\n",
       "    .dataframe tbody tr th {\n",
       "        vertical-align: top;\n",
       "    }\n",
       "\n",
       "    .dataframe thead th {\n",
       "        text-align: right;\n",
       "    }\n",
       "</style>\n",
       "<table border=\"1\" class=\"dataframe\">\n",
       "  <thead>\n",
       "    <tr style=\"text-align: right;\">\n",
       "      <th></th>\n",
       "      <th>albumin</th>\n",
       "      <th>dnlr</th>\n",
       "      <th>pfs</th>\n",
       "      <th>ecog</th>\n",
       "      <th>XRayTubeCurrent_min</th>\n",
       "    </tr>\n",
       "  </thead>\n",
       "  <tbody>\n",
       "    <tr>\n",
       "      <th>0</th>\n",
       "      <td>3.9</td>\n",
       "      <td>2.5</td>\n",
       "      <td>26.1</td>\n",
       "      <td>1</td>\n",
       "      <td>119.0</td>\n",
       "    </tr>\n",
       "    <tr>\n",
       "      <th>1</th>\n",
       "      <td>3.6</td>\n",
       "      <td>3.2</td>\n",
       "      <td>1.8</td>\n",
       "      <td>0</td>\n",
       "      <td>220.0</td>\n",
       "    </tr>\n",
       "    <tr>\n",
       "      <th>2</th>\n",
       "      <td>3.8</td>\n",
       "      <td>2.8</td>\n",
       "      <td>1.3</td>\n",
       "      <td>0</td>\n",
       "      <td>120.0</td>\n",
       "    </tr>\n",
       "    <tr>\n",
       "      <th>3</th>\n",
       "      <td>3.7</td>\n",
       "      <td>1.5</td>\n",
       "      <td>5.7</td>\n",
       "      <td>1</td>\n",
       "      <td>119.0</td>\n",
       "    </tr>\n",
       "    <tr>\n",
       "      <th>4</th>\n",
       "      <td>3.9</td>\n",
       "      <td>7.9</td>\n",
       "      <td>1.7</td>\n",
       "      <td>1</td>\n",
       "      <td>119.0</td>\n",
       "    </tr>\n",
       "  </tbody>\n",
       "</table>\n",
       "</div>"
      ],
      "text/plain": [
       "   albumin  dnlr   pfs  ecog  XRayTubeCurrent_min\n",
       "0      3.9   2.5  26.1     1                119.0\n",
       "1      3.6   3.2   1.8     0                220.0\n",
       "2      3.8   2.8   1.3     0                120.0\n",
       "3      3.7   1.5   5.7     1                119.0\n",
       "4      3.9   7.9   1.7     1                119.0"
      ]
     },
     "execution_count": 147,
     "metadata": {},
     "output_type": "execute_result"
    }
   ],
   "source": [
    "df_test1, _ = process_clinical(df_test1, selected_columns=selected_columns)\n",
    "df_test1.head()"
   ]
  },
  {
   "cell_type": "code",
   "execution_count": 148,
   "id": "f68b5edf-b3b5-4548-8605-4cb011bca01e",
   "metadata": {
    "tags": []
   },
   "outputs": [
    {
     "name": "stdout",
     "output_type": "stream",
     "text": [
      "Correlation with albumin: 0.21085271678339737\n",
      "Correlation with dnlr: -0.1844024048305425\n",
      "Correlation with pfs: 1.0\n",
      "Correlation with ecog: -0.17093905723503425\n",
      "Correlation with XRayTubeCurrent_min: nan\n"
     ]
    },
    {
     "data": {
      "text/html": [
       "<div>\n",
       "<style scoped>\n",
       "    .dataframe tbody tr th:only-of-type {\n",
       "        vertical-align: middle;\n",
       "    }\n",
       "\n",
       "    .dataframe tbody tr th {\n",
       "        vertical-align: top;\n",
       "    }\n",
       "\n",
       "    .dataframe thead th {\n",
       "        text-align: right;\n",
       "    }\n",
       "</style>\n",
       "<table border=\"1\" class=\"dataframe\">\n",
       "  <thead>\n",
       "    <tr style=\"text-align: right;\">\n",
       "      <th></th>\n",
       "      <th>albumin</th>\n",
       "      <th>dnlr</th>\n",
       "      <th>pfs</th>\n",
       "      <th>ecog</th>\n",
       "      <th>XRayTubeCurrent_min</th>\n",
       "    </tr>\n",
       "  </thead>\n",
       "  <tbody>\n",
       "    <tr>\n",
       "      <th>0</th>\n",
       "      <td>3.9</td>\n",
       "      <td>2.0</td>\n",
       "      <td>26.0</td>\n",
       "      <td>1</td>\n",
       "      <td>120.0</td>\n",
       "    </tr>\n",
       "    <tr>\n",
       "      <th>1</th>\n",
       "      <td>3.8</td>\n",
       "      <td>3.0</td>\n",
       "      <td>2.1</td>\n",
       "      <td>1</td>\n",
       "      <td>120.0</td>\n",
       "    </tr>\n",
       "  </tbody>\n",
       "</table>\n",
       "</div>"
      ],
      "text/plain": [
       "   albumin  dnlr   pfs  ecog  XRayTubeCurrent_min\n",
       "0      3.9   2.0  26.0     1                120.0\n",
       "1      3.8   3.0   2.1     1                120.0"
      ]
     },
     "execution_count": 148,
     "metadata": {},
     "output_type": "execute_result"
    }
   ],
   "source": [
    "df_test2, _ = process_clinical(df_test2, selected_columns=selected_columns)\n",
    "df_test2.head()"
   ]
  },
  {
   "cell_type": "code",
   "execution_count": 149,
   "id": "4b0fc280-d72b-4768-a4ca-84d89844daac",
   "metadata": {
    "tags": []
   },
   "outputs": [],
   "source": [
    "df_test = pd.concat([df_test1, df_test1], axis=0)"
   ]
  },
  {
   "cell_type": "code",
   "execution_count": 150,
   "id": "7611d7c1-2c17-4133-b1ab-c9010b5724f2",
   "metadata": {
    "tags": []
   },
   "outputs": [
    {
     "data": {
      "text/plain": [
       "((190, 5), (94, 5))"
      ]
     },
     "execution_count": 150,
     "metadata": {},
     "output_type": "execute_result"
    }
   ],
   "source": [
    "df_train.shape, df_test.shape"
   ]
  },
  {
   "cell_type": "markdown",
   "id": "bd3bae2e-2e98-439d-b77d-d11a18cb79b9",
   "metadata": {
    "tags": []
   },
   "source": [
    "### Training and Testing"
   ]
  },
  {
   "cell_type": "code",
   "execution_count": 151,
   "id": "9efa7b70-a1c3-494d-ac66-34ceb8ca4f9d",
   "metadata": {
    "tags": []
   },
   "outputs": [],
   "source": [
    "X_train, y_train = df_train.drop([\"pfs\"], axis=1), df_train[\"pfs\"]\n",
    "X_test, y_test = df_test.drop([\"pfs\"], axis=1), df_test[\"pfs\"]"
   ]
  },
  {
   "cell_type": "code",
   "execution_count": 152,
   "id": "8a29809e-60ca-4a6d-9ef4-805c549eaec5",
   "metadata": {
    "tags": []
   },
   "outputs": [],
   "source": [
    "scaler = StandardScaler()\n",
    "\n",
    "X_train = scaler.fit_transform(X_train)\n",
    "X_test= scaler.transform(X_test)"
   ]
  },
  {
   "cell_type": "code",
   "execution_count": 153,
   "id": "8db1364a-9ade-4d89-bf8e-8e95feb9fd4c",
   "metadata": {},
   "outputs": [
    {
     "name": "stdout",
     "output_type": "stream",
     "text": [
      "Mean Squared Error: 147.6788214017885\n",
      "Pearson Correlation Coefficient: 0.03483433773817122\n"
     ]
    }
   ],
   "source": [
    "svm_regressor = SVR(kernel='linear', C=1.0)\n",
    "svm_regressor.fit(X_train, y_train)\n",
    "\n",
    "y_pred = svm_regressor.predict(X_test)\n",
    "\n",
    "mse = mean_squared_error(y_test, y_pred)\n",
    "print(f'Mean Squared Error: {mse}')\n",
    "\n",
    "pearson_coefficient, _ = pearsonr(y_test, y_pred)\n",
    "print(f'Pearson Correlation Coefficient: {pearson_coefficient}')"
   ]
  },
  {
   "cell_type": "code",
   "execution_count": 154,
   "id": "d784b3b0-0f1a-4c83-bd9d-56ce7a13b547",
   "metadata": {
    "tags": []
   },
   "outputs": [],
   "source": [
    "classifiers_reg = {\n",
    "    'SVM': {\n",
    "        'name': 'Support Vector Machine',\n",
    "        'classifier': SVR(),\n",
    "        'param_grid': {'C': [0.1, 1.0, 10.0], 'kernel': ['linear', 'rbf']}\n",
    "    },\n",
    "    'XGBoost': {\n",
    "        'name': 'XGBoost',\n",
    "        'classifier': XGBRegressor(),\n",
    "        'param_grid': {'n_estimators': [50, 100, 200], 'max_depth': [3, 4, 5]}\n",
    "    },\n",
    "    'AdaBoost': {\n",
    "        'name': 'AdaBoost',\n",
    "        'classifier': AdaBoostRegressor(),\n",
    "        'param_grid': {'n_estimators': [50, 100, 200], 'learning_rate': [0.1, 0.5, 1.0]}\n",
    "    },\n",
    "    'RandomForest': {\n",
    "        'name': 'Random Forest',\n",
    "        'classifier': RandomForestRegressor(),\n",
    "        'param_grid': {'n_estimators': [50, 100, 200], 'max_depth': [None, 10, 20]}\n",
    "    },\n",
    "    'DecisionTree': {\n",
    "        'name': 'Decision Tree',\n",
    "        'classifier': DecisionTreeRegressor(),\n",
    "        'param_grid': {'max_depth': [None, 10, 20]}\n",
    "    }\n",
    "}"
   ]
  },
  {
   "cell_type": "code",
   "execution_count": 155,
   "id": "9bc8505b-f05f-4165-b501-76dd5c71dece",
   "metadata": {
    "tags": []
   },
   "outputs": [
    {
     "name": "stdout",
     "output_type": "stream",
     "text": [
      "Performing GridSearchCV for Support Vector Machine...\n",
      "Performing GridSearchCV for XGBoost...\n",
      "Performing GridSearchCV for AdaBoost...\n",
      "Performing GridSearchCV for Random Forest...\n",
      "Performing GridSearchCV for Decision Tree...\n",
      "\n",
      "Evaluating SVM on test data...\n",
      "Mean Squared Error on Test Data: 147.8898\n",
      "Pearson Correlation Coefficient on Test Data: 0.0322\n",
      "\n",
      "Evaluating XGBoost on test data...\n",
      "Mean Squared Error on Test Data: 152.4918\n",
      "Pearson Correlation Coefficient on Test Data: 0.1010\n",
      "\n",
      "Evaluating AdaBoost on test data...\n",
      "Mean Squared Error on Test Data: 126.7059\n",
      "Pearson Correlation Coefficient on Test Data: 0.2536\n",
      "\n",
      "Evaluating RandomForest on test data...\n",
      "Mean Squared Error on Test Data: 140.0427\n",
      "Pearson Correlation Coefficient on Test Data: 0.1265\n",
      "\n",
      "Evaluating DecisionTree on test data...\n",
      "Mean Squared Error on Test Data: 210.2549\n",
      "Pearson Correlation Coefficient on Test Data: 0.1704\n",
      "\n"
     ]
    }
   ],
   "source": [
    "from sklearn.metrics import mean_squared_error\n",
    "from scipy.stats import pearsonr\n",
    "\n",
    "best_models = {}\n",
    "\n",
    "for clf_name, clf_info in classifiers_reg.items():\n",
    "    print(f\"Performing GridSearchCV for {clf_info['name']}...\")\n",
    "    \n",
    "    clf = clf_info['classifier']\n",
    "    param_grid = clf_info['param_grid']\n",
    "    \n",
    "    grid_search = GridSearchCV(clf, param_grid, cv=5, scoring='neg_mean_squared_error', n_jobs=-1)\n",
    "    grid_search.fit(X_train, y_train)\n",
    "\n",
    "    best_models[clf_name] = grid_search.best_estimator_\n",
    "\n",
    "print()\n",
    "\n",
    "for clf_name, best_model in best_models.items():\n",
    "    print(f\"Evaluating {clf_name} on test data...\")\n",
    "    \n",
    "    y_pred = best_model.predict(X_test)\n",
    "\n",
    "    mse = mean_squared_error(y_test, y_pred)\n",
    "    pearson_coefficient, _ = pearsonr(y_test, y_pred)\n",
    "    \n",
    "    print(f\"Mean Squared Error on Test Data: {mse:.4f}\")\n",
    "    print(f\"Pearson Correlation Coefficient on Test Data: {pearson_coefficient:.4f}\\n\")"
   ]
  },
  {
   "cell_type": "code",
   "execution_count": null,
   "id": "4549ee44-1173-4ab0-a764-371bf7a5715c",
   "metadata": {},
   "outputs": [],
   "source": []
  }
 ],
 "metadata": {
  "kernelspec": {
   "display_name": "Python 3 (ipykernel)",
   "language": "python",
   "name": "python3"
  },
  "language_info": {
   "codemirror_mode": {
    "name": "ipython",
    "version": 3
   },
   "file_extension": ".py",
   "mimetype": "text/x-python",
   "name": "python",
   "nbconvert_exporter": "python",
   "pygments_lexer": "ipython3",
   "version": "3.11.5"
  }
 },
 "nbformat": 4,
 "nbformat_minor": 5
}
