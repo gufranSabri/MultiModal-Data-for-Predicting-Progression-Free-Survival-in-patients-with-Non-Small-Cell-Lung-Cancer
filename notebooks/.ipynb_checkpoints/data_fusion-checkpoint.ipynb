{
 "cells": [
  {
   "cell_type": "code",
   "execution_count": 246,
   "id": "dcbda6d8-3417-4c3a-b196-014179952973",
   "metadata": {
    "tags": []
   },
   "outputs": [],
   "source": [
    "import os\n",
    "import torch\n",
    "import torch.nn as nn\n",
    "import torch.nn.functional as F\n",
    "from torch.utils.data import Dataset, DataLoader\n",
    "from torchvision import transforms\n",
    "from efficientnet_pytorch import EfficientNet\n",
    "from PIL import Image\n",
    "from sklearn.metrics import mean_squared_error\n",
    "from scipy.stats import pearsonr\n",
    "import numpy as np\n",
    "from tqdm import tqdm\n",
    "import pandas as pd\n",
    "from torchvision import models\n",
    "from torch.optim.lr_scheduler import _LRScheduler\n",
    "\n",
    "from sklearn.model_selection import train_test_split\n",
    "from sklearn.svm import SVR\n",
    "from sklearn.metrics import mean_squared_error\n",
    "from scipy.stats import pearsonr\n",
    "from sklearn.model_selection import GridSearchCV\n",
    "from sklearn.naive_bayes import MultinomialNB\n",
    "from sklearn.neighbors import KNeighborsRegressor\n",
    "from sklearn.linear_model import LogisticRegression, LinearRegression\n",
    "from sklearn.svm import SVR\n",
    "from xgboost import XGBRegressor\n",
    "from sklearn.ensemble import AdaBoostRegressor, RandomForestRegressor\n",
    "from sklearn.tree import DecisionTreeRegressor\n",
    "from sklearn.ensemble import VotingRegressor, BaggingRegressor, GradientBoostingRegressor\n",
    "from sklearn.ensemble import BaggingRegressor\n",
    "from sklearn.metrics import mean_squared_error\n",
    "from scipy.stats import pearsonr\n",
    "\n",
    "\n",
    "\n",
    "import warnings\n",
    "warnings.filterwarnings(\"ignore\")"
   ]
  },
  {
   "cell_type": "code",
   "execution_count": 2,
   "id": "7fc2c16e-b8d4-47cd-82bd-5f92be18b59c",
   "metadata": {
    "tags": []
   },
   "outputs": [],
   "source": [
    "device = torch.device(\"mps\")"
   ]
  },
  {
   "cell_type": "code",
   "execution_count": 3,
   "id": "488af4c6-ce8b-43b9-838e-2d94f6d8d16d",
   "metadata": {
    "tags": []
   },
   "outputs": [],
   "source": [
    "DATA_DIR = '/Users/gufran/Desktop/PfsPredictionLungCancer/data/pathology_patches'"
   ]
  },
  {
   "cell_type": "code",
   "execution_count": 4,
   "id": "dc4bc4da-c217-417b-a237-9cf9cbe2394e",
   "metadata": {
    "tags": []
   },
   "outputs": [],
   "source": [
    "class MultiModalData(Dataset):\n",
    "    def __init__(self, root_dir, df_path=None, num_patches=10, transform=None):\n",
    "        self.root_dir = root_dir\n",
    "        self.transform = transform\n",
    "        self.num_patches = num_patches\n",
    "        self.slide_dirs = [d for d in os.listdir(root_dir) if os.path.isdir(os.path.join(root_dir, d))]\n",
    "        self.df = pd.read_csv(df_path)\n",
    "        \n",
    "        self.df_id = \"id\"\n",
    "        self.df.drop([\"pfs\", \"dmp_pt_id\" if \"dmp_pt_id\" in self.df.columns else \"pdl1_image_id\"],axis=1, inplace=True)\n",
    "\n",
    "    def __len__(self):\n",
    "        return len(self.slide_dirs)\n",
    "\n",
    "    def __getitem__(self, idx):\n",
    "        slide_dir = self.slide_dirs[idx]\n",
    "        pfs_label = float(slide_dir.split('_')[-1])\n",
    "\n",
    "        patch_paths = [os.path.join(self.root_dir, slide_dir, patch) for patch in os.listdir(os.path.join(self.root_dir, slide_dir))]\n",
    "        patch_paths = patch_paths[:self.num_patches]  # Take the first 'num_patches' patches\n",
    "\n",
    "        patches = [self.transform(Image.open(patch)) for patch in patch_paths]\n",
    "\n",
    "        while len(patches) < self.num_patches:\n",
    "            patches.append(patches[-1])\n",
    "        \n",
    "        path_clin_features = np.array(self.df[self.df[self.df_id] == int(slide_dir.split('_')[0])].drop([\"id\"], axis=1).iloc[0])\n",
    "        return {'patches': torch.stack(patches), 'pfs_label': torch.tensor(pfs_label, dtype=torch.float32), \"pcf\": torch.tensor(path_clin_features, dtype=torch.float32)}"
   ]
  },
  {
   "cell_type": "code",
   "execution_count": 5,
   "id": "317ca1fc-29dd-4140-ad01-7393ffde3242",
   "metadata": {
    "tags": []
   },
   "outputs": [],
   "source": [
    "transform = transforms.Compose([\n",
    "    # transforms.Resize((64, 64)),\n",
    "    transforms.ToTensor(),\n",
    "    transforms.Normalize(mean=[0.485, 0.456, 0.406], std=[0.229, 0.224, 0.225])\n",
    "])"
   ]
  },
  {
   "cell_type": "code",
   "execution_count": 23,
   "id": "698d4de3-64db-4ca2-81d3-56c626004025",
   "metadata": {
    "tags": []
   },
   "outputs": [],
   "source": [
    "batch_size = 8\n",
    "\n",
    "train_dataset = MultiModalData(root_dir=os.path.join(DATA_DIR, \"train\"), df_path=\"/Users/gufran/Desktop/PfsPredictionLungCancer/data/train_path_clin_filtered.csv\", transform=transform)\n",
    "val_dataset = MultiModalData(root_dir=os.path.join(DATA_DIR, \"val\"), df_path=\"/Users/gufran/Desktop/PfsPredictionLungCancer/data/val_path_clin_filtered.csv\", transform=transform)\n",
    "\n",
    "train_loader = DataLoader(train_dataset, batch_size=batch_size, shuffle=True)\n",
    "val_loader = DataLoader(val_dataset, batch_size=batch_size, shuffle=False)"
   ]
  },
  {
   "cell_type": "code",
   "execution_count": 7,
   "id": "4b5199fe-01cc-4365-8b6f-c5214df539c8",
   "metadata": {},
   "outputs": [
    {
     "data": {
      "text/plain": [
       "torch.Size([8, 10, 3, 128, 128])"
      ]
     },
     "execution_count": 7,
     "metadata": {},
     "output_type": "execute_result"
    }
   ],
   "source": [
    "next(iter(train_loader))[\"patches\"].shape"
   ]
  },
  {
   "cell_type": "code",
   "execution_count": 133,
   "id": "0e545de6-4914-4bc3-854a-9f67a29e6a01",
   "metadata": {
    "tags": []
   },
   "outputs": [],
   "source": [
    "class DataFusionModel(nn.Module):\n",
    "    def __init__(self, currently_training=True):\n",
    "        super(DataFusionModel, self).__init__()\n",
    "        self.currently_training = currently_training\n",
    "        \n",
    "        self.resnet = models.resnet50(pretrained=True)\n",
    "        in_features = self.resnet.fc.in_features\n",
    "        self.resnet.fc = nn.Identity()\n",
    "        \n",
    "        self.mnet = models.mobilenet_v2(pretrained=True)\n",
    "        mobilenet_in_features = self.mnet.classifier[1].in_features\n",
    "        self.mnet.classifier = nn.Identity()\n",
    "        \n",
    "        self.fc = nn.Linear(in_features + mobilenet_in_features + 15, 256)\n",
    "        \n",
    "        self.regressor = nn.Sequential(\n",
    "            nn.ReLU(),\n",
    "            nn.Linear(256, 1)\n",
    "        )\n",
    "        \n",
    "    def forward(self, img_batch, pcf_batch):\n",
    "        image_features_resnet = []\n",
    "        for patches in img_batch:\n",
    "            patch_outputs = [self.resnet(patch.unsqueeze(0)) for patch in patches]\n",
    "            aggregated_output = torch.stack(patch_outputs).mean(dim=0)\n",
    "            aggregated_output = aggregated_output.squeeze()\n",
    "            image_features_resnet.append(aggregated_output)\n",
    "            \n",
    "        image_features_mnet = []\n",
    "        for patches in img_batch:\n",
    "            patch_outputs = [self.mnet(patch.unsqueeze(0)) for patch in patches]\n",
    "            aggregated_output = torch.stack(patch_outputs).mean(dim=0)\n",
    "            aggregated_output = aggregated_output.squeeze()\n",
    "            image_features_mnet.append(aggregated_output)\n",
    "        \n",
    "        multimodal_features = []\n",
    "        for i in range(len(img_batch)):\n",
    "            multimodal_features.append(torch.cat((image_features_resnet[i], image_features_mnet[i], pcf_batch[i]), dim=0))\n",
    "        \n",
    "        multimodal_features = torch.stack(multimodal_features)\n",
    "\n",
    "        final_features = self.fc(multimodal_features)\n",
    "        if self.currently_training: final_features = self.regressor(final_features)\n",
    "        # else: final_features = F.relu(final_features)\n",
    "        \n",
    "        return final_features"
   ]
  },
  {
   "cell_type": "code",
   "execution_count": 26,
   "id": "2a416b58-ffb7-44ee-a9e1-a598d53f8041",
   "metadata": {
    "scrolled": true,
    "tags": []
   },
   "outputs": [],
   "source": [
    "model = DataFusionModel().to(device)\n",
    "\n",
    "criterion = nn.MSELoss()\n",
    "optimizer = torch.optim.Adam(model.parameters(), lr=0.00001)\n",
    "\n",
    "num_epochs = 100"
   ]
  },
  {
   "cell_type": "code",
   "execution_count": 27,
   "id": "5223daef-8cd8-4bd2-b5f3-9c64f7bff343",
   "metadata": {},
   "outputs": [],
   "source": [
    "class LinearDecayLR(_LRScheduler):\n",
    "    def __init__(self, optimizer, n_epoch, start_decay, last_epoch=-1):\n",
    "        self.start_decay=start_decay\n",
    "        self.n_epoch=n_epoch\n",
    "        super(LinearDecayLR, self).__init__(optimizer, last_epoch)\n",
    "\n",
    "    def get_lr(self):\n",
    "        last_epoch = self.last_epoch\n",
    "        n_epoch=self.n_epoch\n",
    "        b_lr=self.base_lrs[0]\n",
    "        start_decay=self.start_decay\n",
    "        if last_epoch>start_decay:\n",
    "            lr=b_lr-b_lr/(n_epoch-start_decay)*(last_epoch-start_decay)\n",
    "        else:\n",
    "            lr=b_lr\n",
    "        return [lr]\n",
    "    \n",
    "lr_scheduler=LinearDecayLR(optimizer, num_epochs, 10)"
   ]
  },
  {
   "cell_type": "code",
   "execution_count": 11,
   "id": "6ab54212-d85a-473d-a73b-1c883b0a81f9",
   "metadata": {
    "scrolled": true,
    "tags": []
   },
   "outputs": [
    {
     "name": "stderr",
     "output_type": "stream",
     "text": [
      "100%|███████████████████████████████████████████| 12/12 [01:04<00:00,  5.38s/it]\n"
     ]
    },
    {
     "name": "stdout",
     "output_type": "stream",
     "text": [
      "Epoch [1/100]\n",
      "MSE: 174.23263907077663 - Pearson Correlation: 0.1250376785978919\n",
      "Learning Rate: [5e-05]\n",
      "\n"
     ]
    },
    {
     "name": "stderr",
     "output_type": "stream",
     "text": [
      "100%|███████████████████████████████████████████| 12/12 [01:02<00:00,  5.17s/it]\n"
     ]
    },
    {
     "name": "stdout",
     "output_type": "stream",
     "text": [
      "Epoch [2/100]\n",
      "MSE: 103.6848539237711 - Pearson Correlation: 0.0798068383199664\n",
      "Learning Rate: [5e-05]\n",
      "\n"
     ]
    },
    {
     "name": "stderr",
     "output_type": "stream",
     "text": [
      "100%|███████████████████████████████████████████| 12/12 [01:04<00:00,  5.37s/it]\n"
     ]
    },
    {
     "name": "stdout",
     "output_type": "stream",
     "text": [
      "Epoch [3/100]\n",
      "MSE: 89.9541158066473 - Pearson Correlation: 0.1639376375182244\n",
      "Learning Rate: [5e-05]\n",
      "\n"
     ]
    },
    {
     "name": "stderr",
     "output_type": "stream",
     "text": [
      "100%|███████████████████████████████████████████| 12/12 [01:02<00:00,  5.18s/it]\n"
     ]
    },
    {
     "name": "stdout",
     "output_type": "stream",
     "text": [
      "Epoch [4/100]\n",
      "MSE: 79.39935971920085 - Pearson Correlation: 0.16562692496645906\n",
      "Learning Rate: [5e-05]\n",
      "\n"
     ]
    },
    {
     "name": "stderr",
     "output_type": "stream",
     "text": [
      "100%|███████████████████████████████████████████| 12/12 [01:04<00:00,  5.36s/it]\n"
     ]
    },
    {
     "name": "stdout",
     "output_type": "stream",
     "text": [
      "Epoch [5/100]\n",
      "MSE: 77.91795566243046 - Pearson Correlation: 0.14752934724932298\n",
      "Learning Rate: [5e-05]\n",
      "\n"
     ]
    },
    {
     "name": "stderr",
     "output_type": "stream",
     "text": [
      "100%|███████████████████████████████████████████| 12/12 [01:03<00:00,  5.33s/it]\n"
     ]
    },
    {
     "name": "stdout",
     "output_type": "stream",
     "text": [
      "Epoch [6/100]\n",
      "MSE: 77.89744576479038 - Pearson Correlation: 0.14320411514438816\n",
      "Learning Rate: [5e-05]\n",
      "\n"
     ]
    },
    {
     "name": "stderr",
     "output_type": "stream",
     "text": [
      "100%|███████████████████████████████████████████| 12/12 [01:04<00:00,  5.34s/it]\n"
     ]
    },
    {
     "name": "stdout",
     "output_type": "stream",
     "text": [
      "Epoch [7/100]\n",
      "MSE: 78.26358229346023 - Pearson Correlation: 0.1355395153512915\n",
      "Learning Rate: [5e-05]\n",
      "\n"
     ]
    },
    {
     "name": "stderr",
     "output_type": "stream",
     "text": [
      "100%|███████████████████████████████████████████| 12/12 [01:02<00:00,  5.18s/it]\n"
     ]
    },
    {
     "name": "stdout",
     "output_type": "stream",
     "text": [
      "Epoch [8/100]\n",
      "MSE: 79.07952785808143 - Pearson Correlation: 0.08722082493572068\n",
      "Learning Rate: [5e-05]\n",
      "\n"
     ]
    },
    {
     "name": "stderr",
     "output_type": "stream",
     "text": [
      "100%|███████████████████████████████████████████| 12/12 [01:04<00:00,  5.36s/it]\n"
     ]
    },
    {
     "name": "stdout",
     "output_type": "stream",
     "text": [
      "Epoch [9/100]\n",
      "MSE: 79.4698915066396 - Pearson Correlation: 0.04642090294791669\n",
      "Learning Rate: [5e-05]\n",
      "\n"
     ]
    },
    {
     "name": "stderr",
     "output_type": "stream",
     "text": [
      "100%|███████████████████████████████████████████| 12/12 [01:02<00:00,  5.20s/it]\n"
     ]
    },
    {
     "name": "stdout",
     "output_type": "stream",
     "text": [
      "Epoch [10/100]\n",
      "MSE: 78.1094272561746 - Pearson Correlation: 0.1354197725325443\n",
      "Learning Rate: [5e-05]\n",
      "\n"
     ]
    },
    {
     "name": "stderr",
     "output_type": "stream",
     "text": [
      "100%|███████████████████████████████████████████| 12/12 [01:04<00:00,  5.36s/it]\n"
     ]
    },
    {
     "name": "stdout",
     "output_type": "stream",
     "text": [
      "Epoch [11/100]\n",
      "MSE: 78.51849482283001 - Pearson Correlation: 0.1066488460224826\n",
      "Learning Rate: [4.9444444444444446e-05]\n",
      "\n"
     ]
    },
    {
     "name": "stderr",
     "output_type": "stream",
     "text": [
      "100%|███████████████████████████████████████████| 12/12 [01:03<00:00,  5.28s/it]\n"
     ]
    },
    {
     "name": "stdout",
     "output_type": "stream",
     "text": [
      "Epoch [12/100]\n",
      "MSE: 77.53932646939842 - Pearson Correlation: 0.17573582759787523\n",
      "Learning Rate: [4.888888888888889e-05]\n",
      "\n"
     ]
    },
    {
     "name": "stderr",
     "output_type": "stream",
     "text": [
      "100%|███████████████████████████████████████████| 12/12 [01:04<00:00,  5.41s/it]\n"
     ]
    },
    {
     "name": "stdout",
     "output_type": "stream",
     "text": [
      "Epoch [13/100]\n",
      "MSE: 77.53215240088001 - Pearson Correlation: 0.1860637546877938\n",
      "Learning Rate: [4.8333333333333334e-05]\n",
      "\n"
     ]
    },
    {
     "name": "stderr",
     "output_type": "stream",
     "text": [
      "100%|███████████████████████████████████████████| 12/12 [01:02<00:00,  5.19s/it]\n"
     ]
    },
    {
     "name": "stdout",
     "output_type": "stream",
     "text": [
      "Epoch [14/100]\n",
      "MSE: 77.97342552349096 - Pearson Correlation: 0.1458720007006441\n",
      "Learning Rate: [4.777777777777778e-05]\n",
      "\n"
     ]
    },
    {
     "name": "stderr",
     "output_type": "stream",
     "text": [
      "100%|███████████████████████████████████████████| 12/12 [01:05<00:00,  5.45s/it]\n"
     ]
    },
    {
     "name": "stdout",
     "output_type": "stream",
     "text": [
      "Epoch [15/100]\n",
      "MSE: 78.17561521435609 - Pearson Correlation: 0.14371884259001502\n",
      "Learning Rate: [4.722222222222222e-05]\n",
      "\n"
     ]
    },
    {
     "name": "stderr",
     "output_type": "stream",
     "text": [
      "100%|███████████████████████████████████████████| 12/12 [01:03<00:00,  5.27s/it]\n"
     ]
    },
    {
     "name": "stdout",
     "output_type": "stream",
     "text": [
      "Epoch [16/100]\n",
      "MSE: 77.13598696163866 - Pearson Correlation: 0.21451442931849718\n",
      "Learning Rate: [4.666666666666667e-05]\n",
      "\n"
     ]
    },
    {
     "name": "stderr",
     "output_type": "stream",
     "text": [
      "100%|███████████████████████████████████████████| 12/12 [01:03<00:00,  5.32s/it]\n"
     ]
    },
    {
     "name": "stdout",
     "output_type": "stream",
     "text": [
      "Epoch [17/100]\n",
      "MSE: 77.92872646133436 - Pearson Correlation: 0.1522620711960016\n",
      "Learning Rate: [4.6111111111111115e-05]\n",
      "\n"
     ]
    },
    {
     "name": "stderr",
     "output_type": "stream",
     "text": [
      "100%|███████████████████████████████████████████| 12/12 [01:02<00:00,  5.25s/it]\n"
     ]
    },
    {
     "name": "stdout",
     "output_type": "stream",
     "text": [
      "Epoch [18/100]\n",
      "MSE: 78.15628239881282 - Pearson Correlation: 0.14680422870391469\n",
      "Learning Rate: [4.555555555555556e-05]\n",
      "\n"
     ]
    },
    {
     "name": "stderr",
     "output_type": "stream",
     "text": [
      "100%|███████████████████████████████████████████| 12/12 [01:04<00:00,  5.35s/it]\n"
     ]
    },
    {
     "name": "stdout",
     "output_type": "stream",
     "text": [
      "Epoch [19/100]\n",
      "MSE: 77.49518876261128 - Pearson Correlation: 0.19522217409185114\n",
      "Learning Rate: [4.5e-05]\n",
      "\n"
     ]
    },
    {
     "name": "stderr",
     "output_type": "stream",
     "text": [
      "100%|███████████████████████████████████████████| 12/12 [01:02<00:00,  5.24s/it]\n"
     ]
    },
    {
     "name": "stdout",
     "output_type": "stream",
     "text": [
      "Epoch [20/100]\n",
      "MSE: 76.46055211195079 - Pearson Correlation: 0.21503611610731155\n",
      "Learning Rate: [4.4444444444444447e-05]\n",
      "\n"
     ]
    },
    {
     "name": "stderr",
     "output_type": "stream",
     "text": [
      "100%|███████████████████████████████████████████| 12/12 [01:04<00:00,  5.37s/it]\n"
     ]
    },
    {
     "name": "stdout",
     "output_type": "stream",
     "text": [
      "Epoch [21/100]\n",
      "MSE: 79.15759257050274 - Pearson Correlation: 0.14345755744629826\n",
      "Learning Rate: [4.388888888888889e-05]\n",
      "\n"
     ]
    },
    {
     "name": "stderr",
     "output_type": "stream",
     "text": [
      "100%|███████████████████████████████████████████| 12/12 [01:02<00:00,  5.22s/it]\n"
     ]
    },
    {
     "name": "stdout",
     "output_type": "stream",
     "text": [
      "Epoch [22/100]\n",
      "MSE: 77.65494074712913 - Pearson Correlation: 0.16672460567969044\n",
      "Learning Rate: [4.3333333333333334e-05]\n",
      "\n"
     ]
    },
    {
     "name": "stderr",
     "output_type": "stream",
     "text": [
      "100%|███████████████████████████████████████████| 12/12 [01:04<00:00,  5.35s/it]\n"
     ]
    },
    {
     "name": "stdout",
     "output_type": "stream",
     "text": [
      "Epoch [23/100]\n",
      "MSE: 76.81701972008815 - Pearson Correlation: 0.22052895459243105\n",
      "Learning Rate: [4.277777777777778e-05]\n",
      "\n"
     ]
    },
    {
     "name": "stderr",
     "output_type": "stream",
     "text": [
      "100%|███████████████████████████████████████████| 12/12 [01:02<00:00,  5.19s/it]\n"
     ]
    },
    {
     "name": "stdout",
     "output_type": "stream",
     "text": [
      "Epoch [24/100]\n",
      "MSE: 76.6095801444461 - Pearson Correlation: 0.32343083279757084\n",
      "Learning Rate: [4.222222222222222e-05]\n",
      "\n"
     ]
    },
    {
     "name": "stderr",
     "output_type": "stream",
     "text": [
      "100%|███████████████████████████████████████████| 12/12 [01:04<00:00,  5.38s/it]\n"
     ]
    },
    {
     "name": "stdout",
     "output_type": "stream",
     "text": [
      "Epoch [25/100]\n",
      "MSE: 76.83207740340923 - Pearson Correlation: 0.27895220264836396\n",
      "Learning Rate: [4.166666666666667e-05]\n",
      "\n"
     ]
    },
    {
     "name": "stderr",
     "output_type": "stream",
     "text": [
      "100%|███████████████████████████████████████████| 12/12 [01:04<00:00,  5.40s/it]\n"
     ]
    },
    {
     "name": "stdout",
     "output_type": "stream",
     "text": [
      "Epoch [26/100]\n",
      "MSE: 76.84236513169473 - Pearson Correlation: 0.2795869754730711\n",
      "Learning Rate: [4.111111111111111e-05]\n",
      "\n"
     ]
    },
    {
     "name": "stderr",
     "output_type": "stream",
     "text": [
      "100%|███████████████████████████████████████████| 12/12 [01:05<00:00,  5.44s/it]\n"
     ]
    },
    {
     "name": "stdout",
     "output_type": "stream",
     "text": [
      "Epoch [27/100]\n",
      "MSE: 75.82365861598258 - Pearson Correlation: 0.308522049871519\n",
      "Learning Rate: [4.055555555555556e-05]\n",
      "\n"
     ]
    },
    {
     "name": "stderr",
     "output_type": "stream",
     "text": [
      "100%|███████████████████████████████████████████| 12/12 [01:02<00:00,  5.18s/it]\n"
     ]
    },
    {
     "name": "stdout",
     "output_type": "stream",
     "text": [
      "Epoch [28/100]\n",
      "MSE: 75.94458371009507 - Pearson Correlation: 0.35384927852230147\n",
      "Learning Rate: [4e-05]\n",
      "\n"
     ]
    },
    {
     "name": "stderr",
     "output_type": "stream",
     "text": [
      "100%|███████████████████████████████████████████| 12/12 [01:04<00:00,  5.36s/it]\n"
     ]
    },
    {
     "name": "stdout",
     "output_type": "stream",
     "text": [
      "Epoch [29/100]\n",
      "MSE: 77.92658027036973 - Pearson Correlation: 0.24465027489944316\n",
      "Learning Rate: [3.944444444444445e-05]\n",
      "\n"
     ]
    },
    {
     "name": "stderr",
     "output_type": "stream",
     "text": [
      "100%|███████████████████████████████████████████| 12/12 [01:03<00:00,  5.29s/it]\n"
     ]
    },
    {
     "name": "stdout",
     "output_type": "stream",
     "text": [
      "Epoch [30/100]\n",
      "MSE: 75.54914318566627 - Pearson Correlation: 0.33358446774514766\n",
      "Learning Rate: [3.888888888888889e-05]\n",
      "\n"
     ]
    },
    {
     "name": "stderr",
     "output_type": "stream",
     "text": [
      "100%|███████████████████████████████████████████| 12/12 [01:05<00:00,  5.42s/it]\n"
     ]
    },
    {
     "name": "stdout",
     "output_type": "stream",
     "text": [
      "Epoch [31/100]\n",
      "MSE: 75.89377759796118 - Pearson Correlation: 0.2911629083595744\n",
      "Learning Rate: [3.8333333333333334e-05]\n",
      "\n"
     ]
    },
    {
     "name": "stderr",
     "output_type": "stream",
     "text": [
      "100%|███████████████████████████████████████████| 12/12 [01:02<00:00,  5.19s/it]\n"
     ]
    },
    {
     "name": "stdout",
     "output_type": "stream",
     "text": [
      "Epoch [32/100]\n",
      "MSE: 76.8209773757571 - Pearson Correlation: 0.30533573231393285\n",
      "Learning Rate: [3.777777777777778e-05]\n",
      "\n"
     ]
    },
    {
     "name": "stderr",
     "output_type": "stream",
     "text": [
      "100%|███████████████████████████████████████████| 12/12 [01:03<00:00,  5.31s/it]\n"
     ]
    },
    {
     "name": "stdout",
     "output_type": "stream",
     "text": [
      "Epoch [33/100]\n",
      "MSE: 76.9529038484775 - Pearson Correlation: 0.27102394385755824\n",
      "Learning Rate: [3.722222222222222e-05]\n",
      "\n"
     ]
    },
    {
     "name": "stderr",
     "output_type": "stream",
     "text": [
      "100%|███████████████████████████████████████████| 12/12 [01:02<00:00,  5.24s/it]\n"
     ]
    },
    {
     "name": "stdout",
     "output_type": "stream",
     "text": [
      "Epoch [34/100]\n",
      "MSE: 76.19350369308005 - Pearson Correlation: 0.32709288063651387\n",
      "Learning Rate: [3.6666666666666666e-05]\n",
      "\n"
     ]
    },
    {
     "name": "stderr",
     "output_type": "stream",
     "text": [
      "100%|███████████████████████████████████████████| 12/12 [01:07<00:00,  5.60s/it]\n"
     ]
    },
    {
     "name": "stdout",
     "output_type": "stream",
     "text": [
      "Epoch [35/100]\n",
      "MSE: 76.63407889949977 - Pearson Correlation: 0.3291046851880026\n",
      "Learning Rate: [3.611111111111111e-05]\n",
      "\n"
     ]
    },
    {
     "name": "stderr",
     "output_type": "stream",
     "text": [
      "100%|███████████████████████████████████████████| 12/12 [01:03<00:00,  5.31s/it]\n"
     ]
    },
    {
     "name": "stdout",
     "output_type": "stream",
     "text": [
      "Epoch [36/100]\n",
      "MSE: 76.92740058294497 - Pearson Correlation: 0.23943656244770042\n",
      "Learning Rate: [3.555555555555556e-05]\n",
      "\n"
     ]
    },
    {
     "name": "stderr",
     "output_type": "stream",
     "text": [
      "100%|███████████████████████████████████████████| 12/12 [01:06<00:00,  5.56s/it]\n"
     ]
    },
    {
     "name": "stdout",
     "output_type": "stream",
     "text": [
      "Epoch [37/100]\n",
      "MSE: 74.87494988419637 - Pearson Correlation: 0.43949267364124056\n",
      "Learning Rate: [3.5e-05]\n",
      "\n"
     ]
    },
    {
     "name": "stderr",
     "output_type": "stream",
     "text": [
      "100%|███████████████████████████████████████████| 12/12 [01:03<00:00,  5.29s/it]\n"
     ]
    },
    {
     "name": "stdout",
     "output_type": "stream",
     "text": [
      "Epoch [38/100]\n",
      "MSE: 78.20121398981152 - Pearson Correlation: 0.18397785140667056\n",
      "Learning Rate: [3.444444444444445e-05]\n",
      "\n"
     ]
    },
    {
     "name": "stderr",
     "output_type": "stream",
     "text": [
      "100%|███████████████████████████████████████████| 12/12 [01:04<00:00,  5.38s/it]\n"
     ]
    },
    {
     "name": "stdout",
     "output_type": "stream",
     "text": [
      "Epoch [39/100]\n",
      "MSE: 75.54766273589438 - Pearson Correlation: 0.36816895374110326\n",
      "Learning Rate: [3.3888888888888884e-05]\n",
      "\n"
     ]
    },
    {
     "name": "stderr",
     "output_type": "stream",
     "text": [
      "100%|███████████████████████████████████████████| 12/12 [01:01<00:00,  5.16s/it]\n"
     ]
    },
    {
     "name": "stdout",
     "output_type": "stream",
     "text": [
      "Epoch [40/100]\n",
      "MSE: 75.92765837387395 - Pearson Correlation: 0.35587983361232717\n",
      "Learning Rate: [3.3333333333333335e-05]\n",
      "\n"
     ]
    },
    {
     "name": "stderr",
     "output_type": "stream",
     "text": [
      "100%|███████████████████████████████████████████| 12/12 [01:04<00:00,  5.34s/it]\n"
     ]
    },
    {
     "name": "stdout",
     "output_type": "stream",
     "text": [
      "Epoch [41/100]\n",
      "MSE: 75.44570849811244 - Pearson Correlation: 0.4172387870276071\n",
      "Learning Rate: [3.277777777777778e-05]\n",
      "\n"
     ]
    },
    {
     "name": "stderr",
     "output_type": "stream",
     "text": [
      "100%|███████████████████████████████████████████| 12/12 [01:02<00:00,  5.23s/it]\n"
     ]
    },
    {
     "name": "stdout",
     "output_type": "stream",
     "text": [
      "Epoch [42/100]\n",
      "MSE: 76.08436108261783 - Pearson Correlation: 0.32842020300915414\n",
      "Learning Rate: [3.222222222222222e-05]\n",
      "\n"
     ]
    },
    {
     "name": "stderr",
     "output_type": "stream",
     "text": [
      "100%|███████████████████████████████████████████| 12/12 [01:04<00:00,  5.35s/it]\n"
     ]
    },
    {
     "name": "stdout",
     "output_type": "stream",
     "text": [
      "Epoch [43/100]\n",
      "MSE: 75.05115720372928 - Pearson Correlation: 0.35195182486689663\n",
      "Learning Rate: [3.1666666666666666e-05]\n",
      "\n"
     ]
    },
    {
     "name": "stderr",
     "output_type": "stream",
     "text": [
      "100%|███████████████████████████████████████████| 12/12 [01:02<00:00,  5.20s/it]\n"
     ]
    },
    {
     "name": "stdout",
     "output_type": "stream",
     "text": [
      "Epoch [44/100]\n",
      "MSE: 75.98777614388294 - Pearson Correlation: 0.4286864830621773\n",
      "Learning Rate: [3.111111111111111e-05]\n",
      "\n"
     ]
    },
    {
     "name": "stderr",
     "output_type": "stream",
     "text": [
      "100%|███████████████████████████████████████████| 12/12 [01:05<00:00,  5.46s/it]\n"
     ]
    },
    {
     "name": "stdout",
     "output_type": "stream",
     "text": [
      "Epoch [45/100]\n",
      "MSE: 75.22617962766545 - Pearson Correlation: 0.4081106317908021\n",
      "Learning Rate: [3.055555555555556e-05]\n",
      "\n"
     ]
    },
    {
     "name": "stderr",
     "output_type": "stream",
     "text": [
      "100%|███████████████████████████████████████████| 12/12 [01:02<00:00,  5.24s/it]\n"
     ]
    },
    {
     "name": "stdout",
     "output_type": "stream",
     "text": [
      "Epoch [46/100]\n",
      "MSE: 74.89322608585282 - Pearson Correlation: 0.4698422081517724\n",
      "Learning Rate: [3e-05]\n",
      "\n"
     ]
    },
    {
     "name": "stderr",
     "output_type": "stream",
     "text": [
      "100%|███████████████████████████████████████████| 12/12 [01:04<00:00,  5.39s/it]\n"
     ]
    },
    {
     "name": "stdout",
     "output_type": "stream",
     "text": [
      "Epoch [47/100]\n",
      "MSE: 75.19271246520383 - Pearson Correlation: 0.4481835793369756\n",
      "Learning Rate: [2.9444444444444445e-05]\n",
      "\n"
     ]
    },
    {
     "name": "stderr",
     "output_type": "stream",
     "text": [
      "100%|███████████████████████████████████████████| 12/12 [01:02<00:00,  5.20s/it]\n"
     ]
    },
    {
     "name": "stdout",
     "output_type": "stream",
     "text": [
      "Epoch [48/100]\n",
      "MSE: 74.13761760386595 - Pearson Correlation: 0.4731940389163902\n",
      "Learning Rate: [2.8888888888888888e-05]\n",
      "\n"
     ]
    },
    {
     "name": "stderr",
     "output_type": "stream",
     "text": [
      "100%|███████████████████████████████████████████| 12/12 [01:05<00:00,  5.42s/it]\n"
     ]
    },
    {
     "name": "stdout",
     "output_type": "stream",
     "text": [
      "Epoch [49/100]\n",
      "MSE: 73.69995719239422 - Pearson Correlation: 0.45602064999860425\n",
      "Learning Rate: [2.8333333333333332e-05]\n",
      "\n"
     ]
    },
    {
     "name": "stderr",
     "output_type": "stream",
     "text": [
      "100%|███████████████████████████████████████████| 12/12 [01:02<00:00,  5.18s/it]\n"
     ]
    },
    {
     "name": "stdout",
     "output_type": "stream",
     "text": [
      "Epoch [50/100]\n",
      "MSE: 75.04995696518407 - Pearson Correlation: 0.4085274532460641\n",
      "Learning Rate: [2.777777777777778e-05]\n",
      "\n"
     ]
    },
    {
     "name": "stderr",
     "output_type": "stream",
     "text": [
      "100%|███████████████████████████████████████████| 12/12 [01:06<00:00,  5.58s/it]\n"
     ]
    },
    {
     "name": "stdout",
     "output_type": "stream",
     "text": [
      "Epoch [51/100]\n",
      "MSE: 74.86485704683162 - Pearson Correlation: 0.5054611141502366\n",
      "Learning Rate: [2.7222222222222223e-05]\n",
      "\n"
     ]
    },
    {
     "name": "stderr",
     "output_type": "stream",
     "text": [
      "100%|███████████████████████████████████████████| 12/12 [01:09<00:00,  5.82s/it]\n"
     ]
    },
    {
     "name": "stdout",
     "output_type": "stream",
     "text": [
      "Epoch [52/100]\n",
      "MSE: 74.47131259630481 - Pearson Correlation: 0.5330366371915976\n",
      "Learning Rate: [2.6666666666666667e-05]\n",
      "\n"
     ]
    },
    {
     "name": "stderr",
     "output_type": "stream",
     "text": [
      "100%|███████████████████████████████████████████| 12/12 [01:11<00:00,  5.93s/it]\n"
     ]
    },
    {
     "name": "stdout",
     "output_type": "stream",
     "text": [
      "Epoch [53/100]\n",
      "MSE: 74.54308194311551 - Pearson Correlation: 0.531908066624032\n",
      "Learning Rate: [2.611111111111111e-05]\n",
      "\n"
     ]
    },
    {
     "name": "stderr",
     "output_type": "stream",
     "text": [
      "100%|███████████████████████████████████████████| 12/12 [01:09<00:00,  5.79s/it]\n"
     ]
    },
    {
     "name": "stdout",
     "output_type": "stream",
     "text": [
      "Epoch [54/100]\n",
      "MSE: 74.67507953651064 - Pearson Correlation: 0.5058367022007613\n",
      "Learning Rate: [2.5555555555555554e-05]\n",
      "\n"
     ]
    },
    {
     "name": "stderr",
     "output_type": "stream",
     "text": [
      "100%|███████████████████████████████████████████| 12/12 [01:11<00:00,  5.93s/it]\n"
     ]
    },
    {
     "name": "stdout",
     "output_type": "stream",
     "text": [
      "Epoch [55/100]\n",
      "MSE: 75.03502147329915 - Pearson Correlation: 0.44566045169774166\n",
      "Learning Rate: [2.4999999999999998e-05]\n",
      "\n"
     ]
    },
    {
     "name": "stderr",
     "output_type": "stream",
     "text": [
      "100%|███████████████████████████████████████████| 12/12 [01:09<00:00,  5.76s/it]\n"
     ]
    },
    {
     "name": "stdout",
     "output_type": "stream",
     "text": [
      "Epoch [56/100]\n",
      "MSE: 77.01137130798078 - Pearson Correlation: 0.22607645382113556\n",
      "Learning Rate: [2.4444444444444445e-05]\n",
      "\n"
     ]
    },
    {
     "name": "stderr",
     "output_type": "stream",
     "text": [
      "100%|███████████████████████████████████████████| 12/12 [01:11<00:00,  5.93s/it]\n"
     ]
    },
    {
     "name": "stdout",
     "output_type": "stream",
     "text": [
      "Epoch [57/100]\n",
      "MSE: 73.67654550818592 - Pearson Correlation: 0.5786573645726906\n",
      "Learning Rate: [2.388888888888889e-05]\n",
      "\n"
     ]
    },
    {
     "name": "stderr",
     "output_type": "stream",
     "text": [
      "100%|███████████████████████████████████████████| 12/12 [01:06<00:00,  5.53s/it]\n"
     ]
    },
    {
     "name": "stdout",
     "output_type": "stream",
     "text": [
      "Epoch [58/100]\n",
      "MSE: 73.83004153235377 - Pearson Correlation: 0.5998905902898753\n",
      "Learning Rate: [2.3333333333333332e-05]\n",
      "\n"
     ]
    },
    {
     "name": "stderr",
     "output_type": "stream",
     "text": [
      "100%|███████████████████████████████████████████| 12/12 [01:04<00:00,  5.37s/it]\n"
     ]
    },
    {
     "name": "stdout",
     "output_type": "stream",
     "text": [
      "Epoch [59/100]\n",
      "MSE: 73.10392773630774 - Pearson Correlation: 0.603703379040097\n",
      "Learning Rate: [2.2777777777777776e-05]\n",
      "\n"
     ]
    },
    {
     "name": "stderr",
     "output_type": "stream",
     "text": [
      "100%|███████████████████████████████████████████| 12/12 [01:02<00:00,  5.24s/it]\n"
     ]
    },
    {
     "name": "stdout",
     "output_type": "stream",
     "text": [
      "Epoch [60/100]\n",
      "MSE: 72.76904022827378 - Pearson Correlation: 0.5882490363080606\n",
      "Learning Rate: [2.222222222222222e-05]\n",
      "\n"
     ]
    },
    {
     "name": "stderr",
     "output_type": "stream",
     "text": [
      "100%|███████████████████████████████████████████| 12/12 [01:04<00:00,  5.35s/it]\n"
     ]
    },
    {
     "name": "stdout",
     "output_type": "stream",
     "text": [
      "Epoch [61/100]\n",
      "MSE: 73.08164310267729 - Pearson Correlation: 0.6738229336031474\n",
      "Learning Rate: [2.1666666666666667e-05]\n",
      "\n"
     ]
    },
    {
     "name": "stderr",
     "output_type": "stream",
     "text": [
      "100%|███████████████████████████████████████████| 12/12 [01:02<00:00,  5.21s/it]\n"
     ]
    },
    {
     "name": "stdout",
     "output_type": "stream",
     "text": [
      "Epoch [62/100]\n",
      "MSE: 74.04661990938159 - Pearson Correlation: 0.651744141944015\n",
      "Learning Rate: [2.111111111111111e-05]\n",
      "\n"
     ]
    },
    {
     "name": "stderr",
     "output_type": "stream",
     "text": [
      "100%|███████████████████████████████████████████| 12/12 [01:04<00:00,  5.38s/it]\n"
     ]
    },
    {
     "name": "stdout",
     "output_type": "stream",
     "text": [
      "Epoch [63/100]\n",
      "MSE: 74.10116917228402 - Pearson Correlation: 0.6536858830097851\n",
      "Learning Rate: [2.0555555555555555e-05]\n",
      "\n"
     ]
    },
    {
     "name": "stderr",
     "output_type": "stream",
     "text": [
      "100%|███████████████████████████████████████████| 12/12 [01:02<00:00,  5.25s/it]\n"
     ]
    },
    {
     "name": "stdout",
     "output_type": "stream",
     "text": [
      "Epoch [64/100]\n",
      "MSE: 73.90082350788332 - Pearson Correlation: 0.7053872688429368\n",
      "Learning Rate: [1.9999999999999998e-05]\n",
      "\n"
     ]
    },
    {
     "name": "stderr",
     "output_type": "stream",
     "text": [
      "100%|███████████████████████████████████████████| 12/12 [01:03<00:00,  5.32s/it]\n"
     ]
    },
    {
     "name": "stdout",
     "output_type": "stream",
     "text": [
      "Epoch [65/100]\n",
      "MSE: 73.24519692390176 - Pearson Correlation: 0.6988582548459459\n",
      "Learning Rate: [1.9444444444444442e-05]\n",
      "\n"
     ]
    },
    {
     "name": "stderr",
     "output_type": "stream",
     "text": [
      "100%|███████████████████████████████████████████| 12/12 [01:02<00:00,  5.22s/it]\n"
     ]
    },
    {
     "name": "stdout",
     "output_type": "stream",
     "text": [
      "Epoch [66/100]\n",
      "MSE: 73.08699547638773 - Pearson Correlation: 0.671015951581321\n",
      "Learning Rate: [1.8888888888888886e-05]\n",
      "\n"
     ]
    },
    {
     "name": "stderr",
     "output_type": "stream",
     "text": [
      "100%|███████████████████████████████████████████| 12/12 [01:03<00:00,  5.32s/it]\n"
     ]
    },
    {
     "name": "stdout",
     "output_type": "stream",
     "text": [
      "Epoch [67/100]\n",
      "MSE: 72.8329658293521 - Pearson Correlation: 0.6826247180629346\n",
      "Learning Rate: [1.833333333333333e-05]\n",
      "\n"
     ]
    },
    {
     "name": "stderr",
     "output_type": "stream",
     "text": [
      "100%|███████████████████████████████████████████| 12/12 [01:02<00:00,  5.21s/it]\n"
     ]
    },
    {
     "name": "stdout",
     "output_type": "stream",
     "text": [
      "Epoch [68/100]\n",
      "MSE: 73.43711520472812 - Pearson Correlation: 0.7008750835684969\n",
      "Learning Rate: [1.7777777777777773e-05]\n",
      "\n"
     ]
    },
    {
     "name": "stderr",
     "output_type": "stream",
     "text": [
      "100%|███████████████████████████████████████████| 12/12 [01:03<00:00,  5.32s/it]\n"
     ]
    },
    {
     "name": "stdout",
     "output_type": "stream",
     "text": [
      "Epoch [69/100]\n",
      "MSE: 73.03404598113688 - Pearson Correlation: 0.7314333944137822\n",
      "Learning Rate: [1.7222222222222224e-05]\n",
      "\n"
     ]
    },
    {
     "name": "stderr",
     "output_type": "stream",
     "text": [
      "100%|███████████████████████████████████████████| 12/12 [01:02<00:00,  5.24s/it]\n"
     ]
    },
    {
     "name": "stdout",
     "output_type": "stream",
     "text": [
      "Epoch [70/100]\n",
      "MSE: 73.14925267475684 - Pearson Correlation: 0.6926621562855637\n",
      "Learning Rate: [1.6666666666666667e-05]\n",
      "\n"
     ]
    },
    {
     "name": "stderr",
     "output_type": "stream",
     "text": [
      "100%|███████████████████████████████████████████| 12/12 [01:03<00:00,  5.30s/it]\n"
     ]
    },
    {
     "name": "stdout",
     "output_type": "stream",
     "text": [
      "Epoch [71/100]\n",
      "MSE: 72.90716094607897 - Pearson Correlation: 0.7138298988530709\n",
      "Learning Rate: [1.611111111111111e-05]\n",
      "\n"
     ]
    },
    {
     "name": "stderr",
     "output_type": "stream",
     "text": [
      "100%|███████████████████████████████████████████| 12/12 [01:02<00:00,  5.25s/it]\n"
     ]
    },
    {
     "name": "stdout",
     "output_type": "stream",
     "text": [
      "Epoch [72/100]\n",
      "MSE: 73.28138288819474 - Pearson Correlation: 0.6958395658578677\n",
      "Learning Rate: [1.5555555555555555e-05]\n",
      "\n"
     ]
    },
    {
     "name": "stderr",
     "output_type": "stream",
     "text": [
      "100%|███████████████████████████████████████████| 12/12 [01:03<00:00,  5.27s/it]\n"
     ]
    },
    {
     "name": "stdout",
     "output_type": "stream",
     "text": [
      "Epoch [73/100]\n",
      "MSE: 72.65938877137329 - Pearson Correlation: 0.7379015294480301\n",
      "Learning Rate: [1.4999999999999999e-05]\n",
      "\n"
     ]
    },
    {
     "name": "stderr",
     "output_type": "stream",
     "text": [
      "100%|███████████████████████████████████████████| 12/12 [01:02<00:00,  5.25s/it]\n"
     ]
    },
    {
     "name": "stdout",
     "output_type": "stream",
     "text": [
      "Epoch [74/100]\n",
      "MSE: 73.36303335155543 - Pearson Correlation: 0.7111660121591132\n",
      "Learning Rate: [1.4444444444444442e-05]\n",
      "\n"
     ]
    },
    {
     "name": "stderr",
     "output_type": "stream",
     "text": [
      "100%|███████████████████████████████████████████| 12/12 [01:03<00:00,  5.31s/it]\n"
     ]
    },
    {
     "name": "stdout",
     "output_type": "stream",
     "text": [
      "Epoch [75/100]\n",
      "MSE: 73.0793942614066 - Pearson Correlation: 0.7158901061797323\n",
      "Learning Rate: [1.3888888888888886e-05]\n",
      "\n"
     ]
    },
    {
     "name": "stderr",
     "output_type": "stream",
     "text": [
      "100%|███████████████████████████████████████████| 12/12 [01:03<00:00,  5.26s/it]\n"
     ]
    },
    {
     "name": "stdout",
     "output_type": "stream",
     "text": [
      "Epoch [76/100]\n",
      "MSE: 72.84926629810288 - Pearson Correlation: 0.7256047511910007\n",
      "Learning Rate: [1.333333333333333e-05]\n",
      "\n"
     ]
    },
    {
     "name": "stderr",
     "output_type": "stream",
     "text": [
      "100%|███████████████████████████████████████████| 12/12 [01:04<00:00,  5.40s/it]\n"
     ]
    },
    {
     "name": "stdout",
     "output_type": "stream",
     "text": [
      "Epoch [77/100]\n",
      "MSE: 72.8776174636464 - Pearson Correlation: 0.6671497738823072\n",
      "Learning Rate: [1.2777777777777774e-05]\n",
      "\n"
     ]
    },
    {
     "name": "stderr",
     "output_type": "stream",
     "text": [
      "100%|███████████████████████████████████████████| 12/12 [01:03<00:00,  5.31s/it]\n"
     ]
    },
    {
     "name": "stdout",
     "output_type": "stream",
     "text": [
      "Epoch [78/100]\n",
      "MSE: 72.48884771533314 - Pearson Correlation: 0.7163734839877434\n",
      "Learning Rate: [1.2222222222222217e-05]\n",
      "\n"
     ]
    },
    {
     "name": "stderr",
     "output_type": "stream",
     "text": [
      "100%|███████████████████████████████████████████| 12/12 [01:02<00:00,  5.23s/it]\n"
     ]
    },
    {
     "name": "stdout",
     "output_type": "stream",
     "text": [
      "Epoch [79/100]\n",
      "MSE: 74.05442265280738 - Pearson Correlation: 0.5561801883064533\n",
      "Learning Rate: [1.1666666666666661e-05]\n",
      "\n"
     ]
    },
    {
     "name": "stderr",
     "output_type": "stream",
     "text": [
      "100%|███████████████████████████████████████████| 12/12 [01:04<00:00,  5.36s/it]\n"
     ]
    },
    {
     "name": "stdout",
     "output_type": "stream",
     "text": [
      "Epoch [80/100]\n",
      "MSE: 72.87287574895393 - Pearson Correlation: 0.7216256143305664\n",
      "Learning Rate: [1.1111111111111112e-05]\n",
      "\n"
     ]
    },
    {
     "name": "stderr",
     "output_type": "stream",
     "text": [
      "100%|███████████████████████████████████████████| 12/12 [01:04<00:00,  5.36s/it]\n"
     ]
    },
    {
     "name": "stdout",
     "output_type": "stream",
     "text": [
      "Epoch [81/100]\n",
      "MSE: 72.26193249339892 - Pearson Correlation: 0.7514610877610912\n",
      "Learning Rate: [1.0555555555555555e-05]\n",
      "\n"
     ]
    },
    {
     "name": "stderr",
     "output_type": "stream",
     "text": [
      "100%|███████████████████████████████████████████| 12/12 [01:06<00:00,  5.56s/it]\n"
     ]
    },
    {
     "name": "stdout",
     "output_type": "stream",
     "text": [
      "Epoch [82/100]\n",
      "MSE: 72.00038586733159 - Pearson Correlation: 0.7835098814994926\n",
      "Learning Rate: [9.999999999999999e-06]\n",
      "\n"
     ]
    },
    {
     "name": "stderr",
     "output_type": "stream",
     "text": [
      "100%|███████████████████████████████████████████| 12/12 [01:05<00:00,  5.42s/it]\n"
     ]
    },
    {
     "name": "stdout",
     "output_type": "stream",
     "text": [
      "Epoch [83/100]\n",
      "MSE: 72.20820457097516 - Pearson Correlation: 0.7830241022902007\n",
      "Learning Rate: [9.444444444444443e-06]\n",
      "\n"
     ]
    },
    {
     "name": "stderr",
     "output_type": "stream",
     "text": [
      "100%|███████████████████████████████████████████| 12/12 [01:04<00:00,  5.35s/it]\n"
     ]
    },
    {
     "name": "stdout",
     "output_type": "stream",
     "text": [
      "Epoch [84/100]\n",
      "MSE: 72.1698918278113 - Pearson Correlation: 0.8074730731006808\n",
      "Learning Rate: [8.888888888888887e-06]\n",
      "\n"
     ]
    },
    {
     "name": "stderr",
     "output_type": "stream",
     "text": [
      "100%|███████████████████████████████████████████| 12/12 [01:04<00:00,  5.34s/it]\n"
     ]
    },
    {
     "name": "stdout",
     "output_type": "stream",
     "text": [
      "Epoch [85/100]\n",
      "MSE: 71.94119989690724 - Pearson Correlation: 0.7871696590300575\n",
      "Learning Rate: [8.33333333333333e-06]\n",
      "\n"
     ]
    },
    {
     "name": "stderr",
     "output_type": "stream",
     "text": [
      "100%|███████████████████████████████████████████| 12/12 [01:04<00:00,  5.38s/it]\n"
     ]
    },
    {
     "name": "stdout",
     "output_type": "stream",
     "text": [
      "Epoch [86/100]\n",
      "MSE: 72.23658500241817 - Pearson Correlation: 0.8007752560582847\n",
      "Learning Rate: [7.777777777777774e-06]\n",
      "\n"
     ]
    },
    {
     "name": "stderr",
     "output_type": "stream",
     "text": [
      "100%|███████████████████████████████████████████| 12/12 [01:03<00:00,  5.28s/it]\n"
     ]
    },
    {
     "name": "stdout",
     "output_type": "stream",
     "text": [
      "Epoch [87/100]\n",
      "MSE: 72.01007183753137 - Pearson Correlation: 0.8064283860061023\n",
      "Learning Rate: [7.222222222222218e-06]\n",
      "\n"
     ]
    },
    {
     "name": "stderr",
     "output_type": "stream",
     "text": [
      "100%|███████████████████████████████████████████| 12/12 [01:04<00:00,  5.37s/it]\n"
     ]
    },
    {
     "name": "stdout",
     "output_type": "stream",
     "text": [
      "Epoch [88/100]\n",
      "MSE: 71.91273126986441 - Pearson Correlation: 0.8027991729471121\n",
      "Learning Rate: [6.6666666666666616e-06]\n",
      "\n"
     ]
    },
    {
     "name": "stderr",
     "output_type": "stream",
     "text": [
      "100%|███████████████████████████████████████████| 12/12 [01:05<00:00,  5.47s/it]\n"
     ]
    },
    {
     "name": "stdout",
     "output_type": "stream",
     "text": [
      "Epoch [89/100]\n",
      "MSE: 71.8665059141885 - Pearson Correlation: 0.8043151631741561\n",
      "Learning Rate: [6.111111111111105e-06]\n",
      "\n"
     ]
    },
    {
     "name": "stderr",
     "output_type": "stream",
     "text": [
      "100%|███████████████████████████████████████████| 12/12 [01:07<00:00,  5.60s/it]\n"
     ]
    },
    {
     "name": "stdout",
     "output_type": "stream",
     "text": [
      "Epoch [90/100]\n",
      "MSE: 72.01275586380777 - Pearson Correlation: 0.8061694649087342\n",
      "Learning Rate: [5.555555555555556e-06]\n",
      "\n"
     ]
    },
    {
     "name": "stderr",
     "output_type": "stream",
     "text": [
      "100%|███████████████████████████████████████████| 12/12 [01:08<00:00,  5.70s/it]\n"
     ]
    },
    {
     "name": "stdout",
     "output_type": "stream",
     "text": [
      "Epoch [91/100]\n",
      "MSE: 71.95230046024471 - Pearson Correlation: 0.8084453411716838\n",
      "Learning Rate: [4.9999999999999996e-06]\n",
      "\n"
     ]
    },
    {
     "name": "stderr",
     "output_type": "stream",
     "text": [
      "100%|███████████████████████████████████████████| 12/12 [01:07<00:00,  5.62s/it]\n"
     ]
    },
    {
     "name": "stdout",
     "output_type": "stream",
     "text": [
      "Epoch [92/100]\n",
      "MSE: 71.7467348341079 - Pearson Correlation: 0.8086958712826973\n",
      "Learning Rate: [4.444444444444443e-06]\n",
      "\n"
     ]
    },
    {
     "name": "stderr",
     "output_type": "stream",
     "text": [
      "100%|███████████████████████████████████████████| 12/12 [01:08<00:00,  5.73s/it]\n"
     ]
    },
    {
     "name": "stdout",
     "output_type": "stream",
     "text": [
      "Epoch [93/100]\n",
      "MSE: 71.62751838798953 - Pearson Correlation: 0.8222832069529389\n",
      "Learning Rate: [3.888888888888887e-06]\n",
      "\n"
     ]
    },
    {
     "name": "stderr",
     "output_type": "stream",
     "text": [
      "100%|███████████████████████████████████████████| 12/12 [01:07<00:00,  5.63s/it]\n"
     ]
    },
    {
     "name": "stdout",
     "output_type": "stream",
     "text": [
      "Epoch [94/100]\n",
      "MSE: 71.56686353731057 - Pearson Correlation: 0.8238828903961928\n",
      "Learning Rate: [3.3333333333333308e-06]\n",
      "\n"
     ]
    },
    {
     "name": "stderr",
     "output_type": "stream",
     "text": [
      "100%|███████████████████████████████████████████| 12/12 [01:09<00:00,  5.82s/it]\n"
     ]
    },
    {
     "name": "stdout",
     "output_type": "stream",
     "text": [
      "Epoch [95/100]\n",
      "MSE: 71.54359299558172 - Pearson Correlation: 0.8305595293637439\n",
      "Learning Rate: [2.7777777777777745e-06]\n",
      "\n"
     ]
    },
    {
     "name": "stderr",
     "output_type": "stream",
     "text": [
      "100%|███████████████████████████████████████████| 12/12 [01:11<00:00,  5.98s/it]\n"
     ]
    },
    {
     "name": "stdout",
     "output_type": "stream",
     "text": [
      "Epoch [96/100]\n",
      "MSE: 71.61176883473658 - Pearson Correlation: 0.8321286794952172\n",
      "Learning Rate: [2.2222222222222183e-06]\n",
      "\n"
     ]
    },
    {
     "name": "stderr",
     "output_type": "stream",
     "text": [
      "100%|███████████████████████████████████████████| 12/12 [01:13<00:00,  6.16s/it]\n"
     ]
    },
    {
     "name": "stdout",
     "output_type": "stream",
     "text": [
      "Epoch [97/100]\n",
      "MSE: 71.69255581548295 - Pearson Correlation: 0.8291619895336405\n",
      "Learning Rate: [1.666666666666662e-06]\n",
      "\n"
     ]
    },
    {
     "name": "stderr",
     "output_type": "stream",
     "text": [
      "100%|███████████████████████████████████████████| 12/12 [01:16<00:00,  6.40s/it]\n"
     ]
    },
    {
     "name": "stdout",
     "output_type": "stream",
     "text": [
      "Epoch [98/100]\n",
      "MSE: 71.53693732162591 - Pearson Correlation: 0.833741445759859\n",
      "Learning Rate: [1.1111111111111057e-06]\n",
      "\n"
     ]
    },
    {
     "name": "stderr",
     "output_type": "stream",
     "text": [
      "100%|███████████████████████████████████████████| 12/12 [01:10<00:00,  5.87s/it]\n"
     ]
    },
    {
     "name": "stdout",
     "output_type": "stream",
     "text": [
      "Epoch [99/100]\n",
      "MSE: 71.51733206104463 - Pearson Correlation: 0.8353437301656723\n",
      "Learning Rate: [5.555555555555495e-07]\n",
      "\n"
     ]
    },
    {
     "name": "stderr",
     "output_type": "stream",
     "text": [
      "100%|███████████████████████████████████████████| 12/12 [01:04<00:00,  5.38s/it]\n"
     ]
    },
    {
     "name": "stdout",
     "output_type": "stream",
     "text": [
      "Epoch [100/100]\n",
      "MSE: 71.49900769051669 - Pearson Correlation: 0.8349957451865692\n",
      "Learning Rate: [-6.776263578034403e-21]\n",
      "\n"
     ]
    }
   ],
   "source": [
    "for epoch in range(num_epochs):\n",
    "    model.train()\n",
    "\n",
    "    y_true_train = []\n",
    "    y_pred_train = []\n",
    "    \n",
    "    best_mse = 9999999\n",
    "    for batch in tqdm(train_loader):\n",
    "        patches = batch['patches'].to(device)\n",
    "        pfs_labels = batch['pfs_label'].to(device)\n",
    "        pcf_data = batch['pcf'].to(device)\n",
    "\n",
    "        optimizer.zero_grad()\n",
    "        outputs = model(patches, pcf_data)\n",
    "        loss = criterion(outputs, pfs_labels)\n",
    "        loss.backward()\n",
    "        optimizer.step()\n",
    "\n",
    "        y_true_train.extend(pfs_labels.cpu().numpy())\n",
    "        \n",
    "        for pred_val in outputs.detach().cpu().numpy():\n",
    "            y_pred_train.append(float(pred_val))\n",
    "      \n",
    "    lr_scheduler.step()\n",
    "    \n",
    "    mse_train = mean_squared_error(y_true_train, y_pred_train)\n",
    "    pearson_corr_train, _ = pearsonr(y_true_train, y_pred_train)\n",
    "    print(f\"Epoch [{epoch + 1}/{num_epochs}]\")\n",
    "    print(f\"MSE: {mse_train} - Pearson Correlation: {pearson_corr_train}\")\n",
    "    print(f\"Learning Rate: {lr_scheduler.get_lr()}\", end=\"\\n\\n\")\n",
    "    \n",
    "    if mse_train<best_mse:\n",
    "        best_mse = mse_train\n",
    "        torch.save(model.state_dict(), f\"/Users/gufran/Desktop/PfsPredictionLungCancer/notebooks/checkpoint/multimodal.pt\")"
   ]
  },
  {
   "cell_type": "code",
   "execution_count": 30,
   "id": "2f682d57-d6df-478e-b8df-905f844fa662",
   "metadata": {
    "scrolled": true,
    "tags": []
   },
   "outputs": [
    {
     "name": "stderr",
     "output_type": "stream",
     "text": [
      "100%|███████████████████████████████████████████| 12/12 [01:05<00:00,  5.43s/it]\n"
     ]
    },
    {
     "name": "stdout",
     "output_type": "stream",
     "text": [
      "Epoch [1/100]\n",
      "MSE: 72.04992576772663 - Pearson Correlation: 0.6396412682269137\n",
      "Learning Rate: [1e-05]\n",
      "\n"
     ]
    },
    {
     "name": "stderr",
     "output_type": "stream",
     "text": [
      "100%|███████████████████████████████████████████| 12/12 [01:04<00:00,  5.40s/it]\n"
     ]
    },
    {
     "name": "stdout",
     "output_type": "stream",
     "text": [
      "Epoch [2/100]\n",
      "MSE: 71.40840023543183 - Pearson Correlation: 0.8058354704341856\n",
      "Learning Rate: [1e-05]\n",
      "\n"
     ]
    },
    {
     "name": "stderr",
     "output_type": "stream",
     "text": [
      "100%|███████████████████████████████████████████| 12/12 [01:07<00:00,  5.60s/it]\n"
     ]
    },
    {
     "name": "stdout",
     "output_type": "stream",
     "text": [
      "Epoch [3/100]\n",
      "MSE: 71.50424801580701 - Pearson Correlation: 0.8194996004888343\n",
      "Learning Rate: [1e-05]\n",
      "\n"
     ]
    },
    {
     "name": "stderr",
     "output_type": "stream",
     "text": [
      "100%|███████████████████████████████████████████| 12/12 [01:03<00:00,  5.30s/it]\n"
     ]
    },
    {
     "name": "stdout",
     "output_type": "stream",
     "text": [
      "Epoch [4/100]\n",
      "MSE: 71.47579552613811 - Pearson Correlation: 0.8005195635927533\n",
      "Learning Rate: [1e-05]\n",
      "\n"
     ]
    },
    {
     "name": "stderr",
     "output_type": "stream",
     "text": [
      "100%|███████████████████████████████████████████| 12/12 [01:06<00:00,  5.57s/it]\n"
     ]
    },
    {
     "name": "stdout",
     "output_type": "stream",
     "text": [
      "Epoch [5/100]\n",
      "MSE: 71.38600025356047 - Pearson Correlation: 0.8222239509346302\n",
      "Learning Rate: [1e-05]\n",
      "\n"
     ]
    },
    {
     "name": "stderr",
     "output_type": "stream",
     "text": [
      "100%|███████████████████████████████████████████| 12/12 [01:03<00:00,  5.27s/it]\n"
     ]
    },
    {
     "name": "stdout",
     "output_type": "stream",
     "text": [
      "Epoch [6/100]\n",
      "MSE: 71.990726506076 - Pearson Correlation: 0.8179873405113912\n",
      "Learning Rate: [1e-05]\n",
      "\n"
     ]
    },
    {
     "name": "stderr",
     "output_type": "stream",
     "text": [
      "100%|███████████████████████████████████████████| 12/12 [01:07<00:00,  5.59s/it]\n"
     ]
    },
    {
     "name": "stdout",
     "output_type": "stream",
     "text": [
      "Epoch [7/100]\n",
      "MSE: 71.78531385160542 - Pearson Correlation: 0.8140082320562266\n",
      "Learning Rate: [1e-05]\n",
      "\n"
     ]
    },
    {
     "name": "stderr",
     "output_type": "stream",
     "text": [
      "100%|███████████████████████████████████████████| 12/12 [01:03<00:00,  5.25s/it]\n"
     ]
    },
    {
     "name": "stdout",
     "output_type": "stream",
     "text": [
      "Epoch [8/100]\n",
      "MSE: 71.15970103690161 - Pearson Correlation: 0.7479374003575195\n",
      "Learning Rate: [1e-05]\n",
      "\n"
     ]
    },
    {
     "name": "stderr",
     "output_type": "stream",
     "text": [
      "100%|███████████████████████████████████████████| 12/12 [01:06<00:00,  5.52s/it]\n"
     ]
    },
    {
     "name": "stdout",
     "output_type": "stream",
     "text": [
      "Epoch [9/100]\n",
      "MSE: 71.27849685668524 - Pearson Correlation: 0.7622184560524998\n",
      "Learning Rate: [1e-05]\n",
      "\n"
     ]
    },
    {
     "name": "stderr",
     "output_type": "stream",
     "text": [
      "100%|███████████████████████████████████████████| 12/12 [01:07<00:00,  5.61s/it]\n"
     ]
    },
    {
     "name": "stdout",
     "output_type": "stream",
     "text": [
      "Epoch [10/100]\n",
      "MSE: 71.41537656342375 - Pearson Correlation: 0.7697376925886051\n",
      "Learning Rate: [1e-05]\n",
      "\n"
     ]
    },
    {
     "name": "stderr",
     "output_type": "stream",
     "text": [
      "100%|███████████████████████████████████████████| 12/12 [01:05<00:00,  5.49s/it]\n"
     ]
    },
    {
     "name": "stdout",
     "output_type": "stream",
     "text": [
      "Epoch [11/100]\n",
      "MSE: 71.23168986739442 - Pearson Correlation: 0.8069832571610904\n",
      "Learning Rate: [9.888888888888889e-06]\n",
      "\n"
     ]
    },
    {
     "name": "stderr",
     "output_type": "stream",
     "text": [
      "100%|███████████████████████████████████████████| 12/12 [01:06<00:00,  5.57s/it]\n"
     ]
    },
    {
     "name": "stdout",
     "output_type": "stream",
     "text": [
      "Epoch [12/100]\n",
      "MSE: 71.22362140601567 - Pearson Correlation: 0.7338641974352145\n",
      "Learning Rate: [9.777777777777779e-06]\n",
      "\n"
     ]
    },
    {
     "name": "stderr",
     "output_type": "stream",
     "text": [
      "100%|███████████████████████████████████████████| 12/12 [01:04<00:00,  5.39s/it]\n"
     ]
    },
    {
     "name": "stdout",
     "output_type": "stream",
     "text": [
      "Epoch [13/100]\n",
      "MSE: 71.13423256626261 - Pearson Correlation: 0.7354017037204627\n",
      "Learning Rate: [9.666666666666667e-06]\n",
      "\n"
     ]
    },
    {
     "name": "stderr",
     "output_type": "stream",
     "text": [
      "100%|███████████████████████████████████████████| 12/12 [01:07<00:00,  5.59s/it]\n"
     ]
    },
    {
     "name": "stdout",
     "output_type": "stream",
     "text": [
      "Epoch [14/100]\n",
      "MSE: 71.3846499152818 - Pearson Correlation: 0.8323995239738357\n",
      "Learning Rate: [9.555555555555556e-06]\n",
      "\n"
     ]
    },
    {
     "name": "stderr",
     "output_type": "stream",
     "text": [
      "100%|███████████████████████████████████████████| 12/12 [01:05<00:00,  5.47s/it]\n"
     ]
    },
    {
     "name": "stdout",
     "output_type": "stream",
     "text": [
      "Epoch [15/100]\n",
      "MSE: 71.06439963219219 - Pearson Correlation: 0.8427193771350274\n",
      "Learning Rate: [9.444444444444445e-06]\n",
      "\n"
     ]
    },
    {
     "name": "stderr",
     "output_type": "stream",
     "text": [
      "100%|███████████████████████████████████████████| 12/12 [01:08<00:00,  5.71s/it]\n"
     ]
    },
    {
     "name": "stdout",
     "output_type": "stream",
     "text": [
      "Epoch [16/100]\n",
      "MSE: 71.5955381163756 - Pearson Correlation: 0.8309032097603677\n",
      "Learning Rate: [9.333333333333334e-06]\n",
      "\n"
     ]
    },
    {
     "name": "stderr",
     "output_type": "stream",
     "text": [
      "100%|███████████████████████████████████████████| 12/12 [01:05<00:00,  5.45s/it]\n"
     ]
    },
    {
     "name": "stdout",
     "output_type": "stream",
     "text": [
      "Epoch [17/100]\n",
      "MSE: 71.6279570242259 - Pearson Correlation: 0.8381520146959214\n",
      "Learning Rate: [9.222222222222222e-06]\n",
      "\n"
     ]
    },
    {
     "name": "stderr",
     "output_type": "stream",
     "text": [
      "100%|███████████████████████████████████████████| 12/12 [01:08<00:00,  5.73s/it]\n"
     ]
    },
    {
     "name": "stdout",
     "output_type": "stream",
     "text": [
      "Epoch [18/100]\n",
      "MSE: 70.91857035698854 - Pearson Correlation: 0.8582301007207753\n",
      "Learning Rate: [9.111111111111112e-06]\n",
      "\n"
     ]
    },
    {
     "name": "stderr",
     "output_type": "stream",
     "text": [
      "100%|███████████████████████████████████████████| 12/12 [01:03<00:00,  5.32s/it]\n"
     ]
    },
    {
     "name": "stdout",
     "output_type": "stream",
     "text": [
      "Epoch [19/100]\n",
      "MSE: 70.81551462465202 - Pearson Correlation: 0.8235113380895607\n",
      "Learning Rate: [9e-06]\n",
      "\n"
     ]
    },
    {
     "name": "stderr",
     "output_type": "stream",
     "text": [
      "100%|███████████████████████████████████████████| 12/12 [01:05<00:00,  5.48s/it]\n"
     ]
    },
    {
     "name": "stdout",
     "output_type": "stream",
     "text": [
      "Epoch [20/100]\n",
      "MSE: 70.72130269306791 - Pearson Correlation: 0.7854649091387901\n",
      "Learning Rate: [8.88888888888889e-06]\n",
      "\n"
     ]
    },
    {
     "name": "stderr",
     "output_type": "stream",
     "text": [
      "100%|███████████████████████████████████████████| 12/12 [01:04<00:00,  5.39s/it]\n"
     ]
    },
    {
     "name": "stdout",
     "output_type": "stream",
     "text": [
      "Epoch [21/100]\n",
      "MSE: 70.8143895003784 - Pearson Correlation: 0.8028127694547411\n",
      "Learning Rate: [8.777777777777778e-06]\n",
      "\n"
     ]
    },
    {
     "name": "stderr",
     "output_type": "stream",
     "text": [
      "100%|███████████████████████████████████████████| 12/12 [01:05<00:00,  5.46s/it]\n"
     ]
    },
    {
     "name": "stdout",
     "output_type": "stream",
     "text": [
      "Epoch [22/100]\n",
      "MSE: 71.13243667901563 - Pearson Correlation: 0.85032554816621\n",
      "Learning Rate: [8.666666666666668e-06]\n",
      "\n"
     ]
    },
    {
     "name": "stderr",
     "output_type": "stream",
     "text": [
      "100%|███████████████████████████████████████████| 12/12 [01:06<00:00,  5.54s/it]\n"
     ]
    },
    {
     "name": "stdout",
     "output_type": "stream",
     "text": [
      "Epoch [23/100]\n",
      "MSE: 71.27027758792173 - Pearson Correlation: 0.8587675983306532\n",
      "Learning Rate: [8.555555555555556e-06]\n",
      "\n"
     ]
    },
    {
     "name": "stderr",
     "output_type": "stream",
     "text": [
      "100%|███████████████████████████████████████████| 12/12 [01:04<00:00,  5.34s/it]\n"
     ]
    },
    {
     "name": "stdout",
     "output_type": "stream",
     "text": [
      "Epoch [24/100]\n",
      "MSE: 70.97246850729515 - Pearson Correlation: 0.8552370362892824\n",
      "Learning Rate: [8.444444444444446e-06]\n",
      "\n"
     ]
    },
    {
     "name": "stderr",
     "output_type": "stream",
     "text": [
      "100%|███████████████████████████████████████████| 12/12 [01:05<00:00,  5.48s/it]\n"
     ]
    },
    {
     "name": "stdout",
     "output_type": "stream",
     "text": [
      "Epoch [25/100]\n",
      "MSE: 70.89352418988477 - Pearson Correlation: 0.8260649862919666\n",
      "Learning Rate: [8.333333333333334e-06]\n",
      "\n"
     ]
    },
    {
     "name": "stderr",
     "output_type": "stream",
     "text": [
      "100%|███████████████████████████████████████████| 12/12 [01:04<00:00,  5.34s/it]\n"
     ]
    },
    {
     "name": "stdout",
     "output_type": "stream",
     "text": [
      "Epoch [26/100]\n",
      "MSE: 70.87856864693741 - Pearson Correlation: 0.8395218880026926\n",
      "Learning Rate: [8.222222222222223e-06]\n",
      "\n"
     ]
    },
    {
     "name": "stderr",
     "output_type": "stream",
     "text": [
      "100%|███████████████████████████████████████████| 12/12 [01:06<00:00,  5.56s/it]\n"
     ]
    },
    {
     "name": "stdout",
     "output_type": "stream",
     "text": [
      "Epoch [27/100]\n",
      "MSE: 71.01960356107148 - Pearson Correlation: 0.8477614662589092\n",
      "Learning Rate: [8.111111111111112e-06]\n",
      "\n"
     ]
    },
    {
     "name": "stderr",
     "output_type": "stream",
     "text": [
      "100%|███████████████████████████████████████████| 12/12 [01:03<00:00,  5.31s/it]\n"
     ]
    },
    {
     "name": "stdout",
     "output_type": "stream",
     "text": [
      "Epoch [28/100]\n",
      "MSE: 71.07020422322748 - Pearson Correlation: 0.8342613316659031\n",
      "Learning Rate: [8.000000000000001e-06]\n",
      "\n"
     ]
    },
    {
     "name": "stderr",
     "output_type": "stream",
     "text": [
      "100%|███████████████████████████████████████████| 12/12 [01:07<00:00,  5.61s/it]\n"
     ]
    },
    {
     "name": "stdout",
     "output_type": "stream",
     "text": [
      "Epoch [29/100]\n",
      "MSE: 71.41267927010684 - Pearson Correlation: 0.82836105836822\n",
      "Learning Rate: [7.88888888888889e-06]\n",
      "\n"
     ]
    },
    {
     "name": "stderr",
     "output_type": "stream",
     "text": [
      "100%|███████████████████████████████████████████| 12/12 [01:03<00:00,  5.32s/it]\n"
     ]
    },
    {
     "name": "stdout",
     "output_type": "stream",
     "text": [
      "Epoch [30/100]\n",
      "MSE: 71.42501462245168 - Pearson Correlation: 0.8256569417520134\n",
      "Learning Rate: [7.777777777777777e-06]\n",
      "\n"
     ]
    },
    {
     "name": "stderr",
     "output_type": "stream",
     "text": [
      "100%|███████████████████████████████████████████| 12/12 [01:05<00:00,  5.46s/it]\n"
     ]
    },
    {
     "name": "stdout",
     "output_type": "stream",
     "text": [
      "Epoch [31/100]\n",
      "MSE: 70.65997663006051 - Pearson Correlation: 0.8353722423041772\n",
      "Learning Rate: [7.666666666666667e-06]\n",
      "\n"
     ]
    },
    {
     "name": "stderr",
     "output_type": "stream",
     "text": [
      "100%|███████████████████████████████████████████| 12/12 [01:05<00:00,  5.43s/it]\n"
     ]
    },
    {
     "name": "stdout",
     "output_type": "stream",
     "text": [
      "Epoch [32/100]\n",
      "MSE: 70.6286581397296 - Pearson Correlation: 0.8462807100828443\n",
      "Learning Rate: [7.555555555555556e-06]\n",
      "\n"
     ]
    },
    {
     "name": "stderr",
     "output_type": "stream",
     "text": [
      "100%|███████████████████████████████████████████| 12/12 [01:04<00:00,  5.39s/it]\n"
     ]
    },
    {
     "name": "stdout",
     "output_type": "stream",
     "text": [
      "Epoch [33/100]\n",
      "MSE: 70.50107994740836 - Pearson Correlation: 0.8413607709735521\n",
      "Learning Rate: [7.444444444444445e-06]\n",
      "\n"
     ]
    },
    {
     "name": "stderr",
     "output_type": "stream",
     "text": [
      "100%|███████████████████████████████████████████| 12/12 [01:05<00:00,  5.47s/it]\n"
     ]
    },
    {
     "name": "stdout",
     "output_type": "stream",
     "text": [
      "Epoch [34/100]\n",
      "MSE: 70.31064176201188 - Pearson Correlation: 0.816495226451709\n",
      "Learning Rate: [7.333333333333334e-06]\n",
      "\n"
     ]
    },
    {
     "name": "stderr",
     "output_type": "stream",
     "text": [
      "100%|███████████████████████████████████████████| 12/12 [01:04<00:00,  5.37s/it]\n"
     ]
    },
    {
     "name": "stdout",
     "output_type": "stream",
     "text": [
      "Epoch [35/100]\n",
      "MSE: 70.35041688373754 - Pearson Correlation: 0.8443016746063308\n",
      "Learning Rate: [7.222222222222223e-06]\n",
      "\n"
     ]
    },
    {
     "name": "stderr",
     "output_type": "stream",
     "text": [
      "100%|███████████████████████████████████████████| 12/12 [01:06<00:00,  5.52s/it]\n"
     ]
    },
    {
     "name": "stdout",
     "output_type": "stream",
     "text": [
      "Epoch [36/100]\n",
      "MSE: 70.43196607068117 - Pearson Correlation: 0.8627392247238188\n",
      "Learning Rate: [7.111111111111112e-06]\n",
      "\n"
     ]
    },
    {
     "name": "stderr",
     "output_type": "stream",
     "text": [
      "100%|███████████████████████████████████████████| 12/12 [01:03<00:00,  5.32s/it]\n"
     ]
    },
    {
     "name": "stdout",
     "output_type": "stream",
     "text": [
      "Epoch [37/100]\n",
      "MSE: 70.94217968609368 - Pearson Correlation: 0.8507573330509859\n",
      "Learning Rate: [7.000000000000001e-06]\n",
      "\n"
     ]
    },
    {
     "name": "stderr",
     "output_type": "stream",
     "text": [
      "100%|███████████████████████████████████████████| 12/12 [01:06<00:00,  5.55s/it]\n"
     ]
    },
    {
     "name": "stdout",
     "output_type": "stream",
     "text": [
      "Epoch [38/100]\n",
      "MSE: 70.66004557187426 - Pearson Correlation: 0.8642580167077997\n",
      "Learning Rate: [6.888888888888889e-06]\n",
      "\n"
     ]
    },
    {
     "name": "stderr",
     "output_type": "stream",
     "text": [
      "100%|███████████████████████████████████████████| 12/12 [01:03<00:00,  5.30s/it]\n"
     ]
    },
    {
     "name": "stdout",
     "output_type": "stream",
     "text": [
      "Epoch [39/100]\n",
      "MSE: 70.68906251188115 - Pearson Correlation: 0.8528247920649664\n",
      "Learning Rate: [6.777777777777779e-06]\n",
      "\n"
     ]
    },
    {
     "name": "stderr",
     "output_type": "stream",
     "text": [
      "100%|███████████████████████████████████████████| 12/12 [01:07<00:00,  5.63s/it]\n"
     ]
    },
    {
     "name": "stdout",
     "output_type": "stream",
     "text": [
      "Epoch [40/100]\n",
      "MSE: 70.36241694386422 - Pearson Correlation: 0.8715112920365371\n",
      "Learning Rate: [6.666666666666667e-06]\n",
      "\n"
     ]
    },
    {
     "name": "stderr",
     "output_type": "stream",
     "text": [
      "100%|███████████████████████████████████████████| 12/12 [01:03<00:00,  5.27s/it]\n"
     ]
    },
    {
     "name": "stdout",
     "output_type": "stream",
     "text": [
      "Epoch [41/100]\n",
      "MSE: 70.47030004627486 - Pearson Correlation: 0.879905983683281\n",
      "Learning Rate: [6.555555555555556e-06]\n",
      "\n"
     ]
    },
    {
     "name": "stderr",
     "output_type": "stream",
     "text": [
      "100%|███████████████████████████████████████████| 12/12 [01:05<00:00,  5.50s/it]\n"
     ]
    },
    {
     "name": "stdout",
     "output_type": "stream",
     "text": [
      "Epoch [42/100]\n",
      "MSE: 70.3823342161246 - Pearson Correlation: 0.8866366520013421\n",
      "Learning Rate: [6.4444444444444445e-06]\n",
      "\n"
     ]
    },
    {
     "name": "stderr",
     "output_type": "stream",
     "text": [
      "100%|███████████████████████████████████████████| 12/12 [01:04<00:00,  5.37s/it]\n"
     ]
    },
    {
     "name": "stdout",
     "output_type": "stream",
     "text": [
      "Epoch [43/100]\n",
      "MSE: 70.38459227072786 - Pearson Correlation: 0.8886362245685064\n",
      "Learning Rate: [6.333333333333334e-06]\n",
      "\n"
     ]
    },
    {
     "name": "stderr",
     "output_type": "stream",
     "text": [
      "100%|███████████████████████████████████████████| 12/12 [01:05<00:00,  5.50s/it]\n"
     ]
    },
    {
     "name": "stdout",
     "output_type": "stream",
     "text": [
      "Epoch [44/100]\n",
      "MSE: 70.42634873266655 - Pearson Correlation: 0.8909330784223877\n",
      "Learning Rate: [6.222222222222222e-06]\n",
      "\n"
     ]
    },
    {
     "name": "stderr",
     "output_type": "stream",
     "text": [
      "100%|███████████████████████████████████████████| 12/12 [01:07<00:00,  5.62s/it]\n"
     ]
    },
    {
     "name": "stdout",
     "output_type": "stream",
     "text": [
      "Epoch [45/100]\n",
      "MSE: 70.36058372496423 - Pearson Correlation: 0.8875358457571679\n",
      "Learning Rate: [6.111111111111111e-06]\n",
      "\n"
     ]
    },
    {
     "name": "stderr",
     "output_type": "stream",
     "text": [
      "100%|███████████████████████████████████████████| 12/12 [01:05<00:00,  5.44s/it]\n"
     ]
    },
    {
     "name": "stdout",
     "output_type": "stream",
     "text": [
      "Epoch [46/100]\n",
      "MSE: 69.9631014111765 - Pearson Correlation: 0.8876010883771789\n",
      "Learning Rate: [6e-06]\n",
      "\n"
     ]
    },
    {
     "name": "stderr",
     "output_type": "stream",
     "text": [
      "100%|███████████████████████████████████████████| 12/12 [01:07<00:00,  5.63s/it]\n"
     ]
    },
    {
     "name": "stdout",
     "output_type": "stream",
     "text": [
      "Epoch [47/100]\n",
      "MSE: 70.24455596243466 - Pearson Correlation: 0.8869990348063979\n",
      "Learning Rate: [5.888888888888889e-06]\n",
      "\n"
     ]
    },
    {
     "name": "stderr",
     "output_type": "stream",
     "text": [
      "100%|███████████████████████████████████████████| 12/12 [01:03<00:00,  5.31s/it]\n"
     ]
    },
    {
     "name": "stdout",
     "output_type": "stream",
     "text": [
      "Epoch [48/100]\n",
      "MSE: 70.01032448988929 - Pearson Correlation: 0.8974880794258966\n",
      "Learning Rate: [5.777777777777778e-06]\n",
      "\n"
     ]
    },
    {
     "name": "stderr",
     "output_type": "stream",
     "text": [
      "100%|███████████████████████████████████████████| 12/12 [01:06<00:00,  5.58s/it]\n"
     ]
    },
    {
     "name": "stdout",
     "output_type": "stream",
     "text": [
      "Epoch [49/100]\n",
      "MSE: 69.9850459766836 - Pearson Correlation: 0.8966386355403072\n",
      "Learning Rate: [5.666666666666667e-06]\n",
      "\n"
     ]
    },
    {
     "name": "stderr",
     "output_type": "stream",
     "text": [
      "100%|███████████████████████████████████████████| 12/12 [01:03<00:00,  5.32s/it]\n"
     ]
    },
    {
     "name": "stdout",
     "output_type": "stream",
     "text": [
      "Epoch [50/100]\n",
      "MSE: 69.86455293527399 - Pearson Correlation: 0.9025348555595396\n",
      "Learning Rate: [5.555555555555556e-06]\n",
      "\n"
     ]
    },
    {
     "name": "stderr",
     "output_type": "stream",
     "text": [
      "100%|███████████████████████████████████████████| 12/12 [01:08<00:00,  5.67s/it]\n"
     ]
    },
    {
     "name": "stdout",
     "output_type": "stream",
     "text": [
      "Epoch [51/100]\n",
      "MSE: 69.76006938345472 - Pearson Correlation: 0.9011407346608095\n",
      "Learning Rate: [5.444444444444445e-06]\n",
      "\n"
     ]
    },
    {
     "name": "stderr",
     "output_type": "stream",
     "text": [
      "100%|███████████████████████████████████████████| 12/12 [01:04<00:00,  5.34s/it]\n"
     ]
    },
    {
     "name": "stdout",
     "output_type": "stream",
     "text": [
      "Epoch [52/100]\n",
      "MSE: 69.76254010271778 - Pearson Correlation: 0.9018928116226436\n",
      "Learning Rate: [5.333333333333334e-06]\n",
      "\n"
     ]
    },
    {
     "name": "stderr",
     "output_type": "stream",
     "text": [
      "100%|███████████████████████████████████████████| 12/12 [01:06<00:00,  5.51s/it]\n"
     ]
    },
    {
     "name": "stdout",
     "output_type": "stream",
     "text": [
      "Epoch [53/100]\n",
      "MSE: 70.09558311587506 - Pearson Correlation: 0.8856008974300913\n",
      "Learning Rate: [5.2222222222222226e-06]\n",
      "\n"
     ]
    },
    {
     "name": "stderr",
     "output_type": "stream",
     "text": [
      "100%|███████████████████████████████████████████| 12/12 [01:04<00:00,  5.39s/it]\n"
     ]
    },
    {
     "name": "stdout",
     "output_type": "stream",
     "text": [
      "Epoch [54/100]\n",
      "MSE: 69.85514095048218 - Pearson Correlation: 0.8963305866823449\n",
      "Learning Rate: [5.1111111111111115e-06]\n",
      "\n"
     ]
    },
    {
     "name": "stderr",
     "output_type": "stream",
     "text": [
      "100%|███████████████████████████████████████████| 12/12 [01:05<00:00,  5.42s/it]\n"
     ]
    },
    {
     "name": "stdout",
     "output_type": "stream",
     "text": [
      "Epoch [55/100]\n",
      "MSE: 69.68263299385329 - Pearson Correlation: 0.8900048355327761\n",
      "Learning Rate: [5e-06]\n",
      "\n"
     ]
    },
    {
     "name": "stderr",
     "output_type": "stream",
     "text": [
      "100%|███████████████████████████████████████████| 12/12 [01:05<00:00,  5.49s/it]\n"
     ]
    },
    {
     "name": "stdout",
     "output_type": "stream",
     "text": [
      "Epoch [56/100]\n",
      "MSE: 69.70115072670771 - Pearson Correlation: 0.8805536755328571\n",
      "Learning Rate: [4.888888888888889e-06]\n",
      "\n"
     ]
    },
    {
     "name": "stderr",
     "output_type": "stream",
     "text": [
      "100%|███████████████████████████████████████████| 12/12 [01:04<00:00,  5.38s/it]\n"
     ]
    },
    {
     "name": "stdout",
     "output_type": "stream",
     "text": [
      "Epoch [57/100]\n",
      "MSE: 69.46152547896222 - Pearson Correlation: 0.8754134649183246\n",
      "Learning Rate: [4.777777777777778e-06]\n",
      "\n"
     ]
    },
    {
     "name": "stderr",
     "output_type": "stream",
     "text": [
      "100%|███████████████████████████████████████████| 12/12 [01:06<00:00,  5.57s/it]\n"
     ]
    },
    {
     "name": "stdout",
     "output_type": "stream",
     "text": [
      "Epoch [58/100]\n",
      "MSE: 69.71114077553221 - Pearson Correlation: 0.8896311496460947\n",
      "Learning Rate: [4.666666666666667e-06]\n",
      "\n"
     ]
    },
    {
     "name": "stderr",
     "output_type": "stream",
     "text": [
      "100%|███████████████████████████████████████████| 12/12 [01:04<00:00,  5.35s/it]\n"
     ]
    },
    {
     "name": "stdout",
     "output_type": "stream",
     "text": [
      "Epoch [59/100]\n",
      "MSE: 69.73093044724087 - Pearson Correlation: 0.8989326380264414\n",
      "Learning Rate: [4.555555555555556e-06]\n",
      "\n"
     ]
    },
    {
     "name": "stderr",
     "output_type": "stream",
     "text": [
      "100%|███████████████████████████████████████████| 12/12 [01:07<00:00,  5.60s/it]\n"
     ]
    },
    {
     "name": "stdout",
     "output_type": "stream",
     "text": [
      "Epoch [60/100]\n",
      "MSE: 69.5799862684293 - Pearson Correlation: 0.897518011515794\n",
      "Learning Rate: [4.444444444444445e-06]\n",
      "\n"
     ]
    },
    {
     "name": "stderr",
     "output_type": "stream",
     "text": [
      "100%|███████████████████████████████████████████| 12/12 [01:03<00:00,  5.28s/it]\n"
     ]
    },
    {
     "name": "stdout",
     "output_type": "stream",
     "text": [
      "Epoch [61/100]\n",
      "MSE: 69.71337620317392 - Pearson Correlation: 0.9093165440665916\n",
      "Learning Rate: [4.333333333333334e-06]\n",
      "\n"
     ]
    },
    {
     "name": "stderr",
     "output_type": "stream",
     "text": [
      "100%|███████████████████████████████████████████| 12/12 [01:07<00:00,  5.63s/it]\n"
     ]
    },
    {
     "name": "stdout",
     "output_type": "stream",
     "text": [
      "Epoch [62/100]\n",
      "MSE: 69.99297215476867 - Pearson Correlation: 0.8969708617089371\n",
      "Learning Rate: [4.222222222222223e-06]\n",
      "\n"
     ]
    },
    {
     "name": "stderr",
     "output_type": "stream",
     "text": [
      "100%|███████████████████████████████████████████| 12/12 [01:04<00:00,  5.36s/it]\n"
     ]
    },
    {
     "name": "stdout",
     "output_type": "stream",
     "text": [
      "Epoch [63/100]\n",
      "MSE: 70.10891611952792 - Pearson Correlation: 0.8647128556651807\n",
      "Learning Rate: [4.111111111111112e-06]\n",
      "\n"
     ]
    },
    {
     "name": "stderr",
     "output_type": "stream",
     "text": [
      "100%|███████████████████████████████████████████| 12/12 [01:06<00:00,  5.55s/it]\n"
     ]
    },
    {
     "name": "stdout",
     "output_type": "stream",
     "text": [
      "Epoch [64/100]\n",
      "MSE: 70.34545547615265 - Pearson Correlation: 0.8387546141302821\n",
      "Learning Rate: [4e-06]\n",
      "\n"
     ]
    },
    {
     "name": "stderr",
     "output_type": "stream",
     "text": [
      "100%|███████████████████████████████████████████| 12/12 [01:05<00:00,  5.46s/it]\n"
     ]
    },
    {
     "name": "stdout",
     "output_type": "stream",
     "text": [
      "Epoch [65/100]\n",
      "MSE: 70.40183799699315 - Pearson Correlation: 0.8415462869653094\n",
      "Learning Rate: [3.888888888888889e-06]\n",
      "\n"
     ]
    },
    {
     "name": "stderr",
     "output_type": "stream",
     "text": [
      "100%|███████████████████████████████████████████| 12/12 [01:04<00:00,  5.41s/it]\n"
     ]
    },
    {
     "name": "stdout",
     "output_type": "stream",
     "text": [
      "Epoch [66/100]\n",
      "MSE: 69.79539001231531 - Pearson Correlation: 0.8902126591791115\n",
      "Learning Rate: [3.7777777777777777e-06]\n",
      "\n"
     ]
    },
    {
     "name": "stderr",
     "output_type": "stream",
     "text": [
      "100%|███████████████████████████████████████████| 12/12 [01:05<00:00,  5.49s/it]\n"
     ]
    },
    {
     "name": "stdout",
     "output_type": "stream",
     "text": [
      "Epoch [67/100]\n",
      "MSE: 69.5986448978567 - Pearson Correlation: 0.9000110359261068\n",
      "Learning Rate: [3.6666666666666666e-06]\n",
      "\n"
     ]
    },
    {
     "name": "stderr",
     "output_type": "stream",
     "text": [
      "100%|███████████████████████████████████████████| 12/12 [01:04<00:00,  5.40s/it]\n"
     ]
    },
    {
     "name": "stdout",
     "output_type": "stream",
     "text": [
      "Epoch [68/100]\n",
      "MSE: 69.65577195594047 - Pearson Correlation: 0.8947819369253357\n",
      "Learning Rate: [3.5555555555555555e-06]\n",
      "\n"
     ]
    },
    {
     "name": "stderr",
     "output_type": "stream",
     "text": [
      "100%|███████████████████████████████████████████| 12/12 [01:06<00:00,  5.53s/it]\n"
     ]
    },
    {
     "name": "stdout",
     "output_type": "stream",
     "text": [
      "Epoch [69/100]\n",
      "MSE: 69.324014246819 - Pearson Correlation: 0.9056557571028266\n",
      "Learning Rate: [3.4444444444444444e-06]\n",
      "\n"
     ]
    },
    {
     "name": "stderr",
     "output_type": "stream",
     "text": [
      "100%|███████████████████████████████████████████| 12/12 [01:04<00:00,  5.33s/it]\n"
     ]
    },
    {
     "name": "stdout",
     "output_type": "stream",
     "text": [
      "Epoch [70/100]\n",
      "MSE: 69.3717485758897 - Pearson Correlation: 0.9038198991342198\n",
      "Learning Rate: [3.3333333333333333e-06]\n",
      "\n"
     ]
    },
    {
     "name": "stderr",
     "output_type": "stream",
     "text": [
      "100%|███████████████████████████████████████████| 12/12 [01:07<00:00,  5.61s/it]\n"
     ]
    },
    {
     "name": "stdout",
     "output_type": "stream",
     "text": [
      "Epoch [71/100]\n",
      "MSE: 69.65138651381577 - Pearson Correlation: 0.9035169775933836\n",
      "Learning Rate: [3.2222222222222222e-06]\n",
      "\n"
     ]
    },
    {
     "name": "stderr",
     "output_type": "stream",
     "text": [
      "100%|███████████████████████████████████████████| 12/12 [01:03<00:00,  5.26s/it]\n"
     ]
    },
    {
     "name": "stdout",
     "output_type": "stream",
     "text": [
      "Epoch [72/100]\n",
      "MSE: 69.32958397193754 - Pearson Correlation: 0.9099260984146247\n",
      "Learning Rate: [3.111111111111111e-06]\n",
      "\n"
     ]
    },
    {
     "name": "stderr",
     "output_type": "stream",
     "text": [
      "100%|███████████████████████████████████████████| 12/12 [01:08<00:00,  5.68s/it]\n"
     ]
    },
    {
     "name": "stdout",
     "output_type": "stream",
     "text": [
      "Epoch [73/100]\n",
      "MSE: 69.28275038841493 - Pearson Correlation: 0.8944190081380218\n",
      "Learning Rate: [3e-06]\n",
      "\n"
     ]
    },
    {
     "name": "stderr",
     "output_type": "stream",
     "text": [
      "100%|███████████████████████████████████████████| 12/12 [01:03<00:00,  5.33s/it]\n"
     ]
    },
    {
     "name": "stdout",
     "output_type": "stream",
     "text": [
      "Epoch [74/100]\n",
      "MSE: 69.16152802978137 - Pearson Correlation: 0.896002702533736\n",
      "Learning Rate: [2.888888888888889e-06]\n",
      "\n"
     ]
    },
    {
     "name": "stderr",
     "output_type": "stream",
     "text": [
      "100%|███████████████████████████████████████████| 12/12 [01:05<00:00,  5.47s/it]\n"
     ]
    },
    {
     "name": "stdout",
     "output_type": "stream",
     "text": [
      "Epoch [75/100]\n",
      "MSE: 69.33312334833498 - Pearson Correlation: 0.9054628805653\n",
      "Learning Rate: [2.777777777777778e-06]\n",
      "\n"
     ]
    },
    {
     "name": "stderr",
     "output_type": "stream",
     "text": [
      "100%|███████████████████████████████████████████| 12/12 [01:04<00:00,  5.35s/it]\n"
     ]
    },
    {
     "name": "stdout",
     "output_type": "stream",
     "text": [
      "Epoch [76/100]\n",
      "MSE: 69.26908651415303 - Pearson Correlation: 0.9074988864320427\n",
      "Learning Rate: [2.666666666666667e-06]\n",
      "\n"
     ]
    },
    {
     "name": "stderr",
     "output_type": "stream",
     "text": [
      "100%|███████████████████████████████████████████| 12/12 [01:04<00:00,  5.40s/it]\n"
     ]
    },
    {
     "name": "stdout",
     "output_type": "stream",
     "text": [
      "Epoch [77/100]\n",
      "MSE: 69.28863250475308 - Pearson Correlation: 0.9093996122552304\n",
      "Learning Rate: [2.5555555555555557e-06]\n",
      "\n"
     ]
    },
    {
     "name": "stderr",
     "output_type": "stream",
     "text": [
      "100%|███████████████████████████████████████████| 12/12 [01:05<00:00,  5.46s/it]\n"
     ]
    },
    {
     "name": "stdout",
     "output_type": "stream",
     "text": [
      "Epoch [78/100]\n",
      "MSE: 69.25525567693177 - Pearson Correlation: 0.907936859987348\n",
      "Learning Rate: [2.4444444444444447e-06]\n",
      "\n"
     ]
    },
    {
     "name": "stderr",
     "output_type": "stream",
     "text": [
      "100%|███████████████████████████████████████████| 12/12 [01:04<00:00,  5.41s/it]\n"
     ]
    },
    {
     "name": "stdout",
     "output_type": "stream",
     "text": [
      "Epoch [79/100]\n",
      "MSE: 69.26283888894764 - Pearson Correlation: 0.9084234000239021\n",
      "Learning Rate: [2.3333333333333336e-06]\n",
      "\n"
     ]
    },
    {
     "name": "stderr",
     "output_type": "stream",
     "text": [
      "100%|███████████████████████████████████████████| 12/12 [01:09<00:00,  5.82s/it]\n"
     ]
    },
    {
     "name": "stdout",
     "output_type": "stream",
     "text": [
      "Epoch [80/100]\n",
      "MSE: 69.25229030734998 - Pearson Correlation: 0.9111618298216327\n",
      "Learning Rate: [2.2222222222222217e-06]\n",
      "\n"
     ]
    },
    {
     "name": "stderr",
     "output_type": "stream",
     "text": [
      "100%|███████████████████████████████████████████| 12/12 [01:03<00:00,  5.28s/it]\n"
     ]
    },
    {
     "name": "stdout",
     "output_type": "stream",
     "text": [
      "Epoch [81/100]\n",
      "MSE: 69.27456915244926 - Pearson Correlation: 0.9107408341209426\n",
      "Learning Rate: [2.1111111111111114e-06]\n",
      "\n"
     ]
    },
    {
     "name": "stderr",
     "output_type": "stream",
     "text": [
      "100%|███████████████████████████████████████████| 12/12 [01:06<00:00,  5.52s/it]\n"
     ]
    },
    {
     "name": "stdout",
     "output_type": "stream",
     "text": [
      "Epoch [82/100]\n",
      "MSE: 69.27591534931622 - Pearson Correlation: 0.9112088715500037\n",
      "Learning Rate: [1.9999999999999995e-06]\n",
      "\n"
     ]
    },
    {
     "name": "stderr",
     "output_type": "stream",
     "text": [
      "100%|███████████████████████████████████████████| 12/12 [01:03<00:00,  5.30s/it]\n"
     ]
    },
    {
     "name": "stdout",
     "output_type": "stream",
     "text": [
      "Epoch [83/100]\n",
      "MSE: 69.22548796988224 - Pearson Correlation: 0.9077277513827463\n",
      "Learning Rate: [1.8888888888888893e-06]\n",
      "\n"
     ]
    },
    {
     "name": "stderr",
     "output_type": "stream",
     "text": [
      "100%|███████████████████████████████████████████| 12/12 [01:14<00:00,  6.21s/it]\n"
     ]
    },
    {
     "name": "stdout",
     "output_type": "stream",
     "text": [
      "Epoch [84/100]\n",
      "MSE: 69.15818388472667 - Pearson Correlation: 0.9092328091481908\n",
      "Learning Rate: [1.7777777777777773e-06]\n",
      "\n"
     ]
    },
    {
     "name": "stderr",
     "output_type": "stream",
     "text": [
      "100%|███████████████████████████████████████████| 12/12 [01:11<00:00,  5.92s/it]\n"
     ]
    },
    {
     "name": "stdout",
     "output_type": "stream",
     "text": [
      "Epoch [85/100]\n",
      "MSE: 69.14906353641686 - Pearson Correlation: 0.9100899390508379\n",
      "Learning Rate: [1.666666666666667e-06]\n",
      "\n"
     ]
    },
    {
     "name": "stderr",
     "output_type": "stream",
     "text": [
      "100%|███████████████████████████████████████████| 12/12 [01:12<00:00,  6.08s/it]\n"
     ]
    },
    {
     "name": "stdout",
     "output_type": "stream",
     "text": [
      "Epoch [86/100]\n",
      "MSE: 69.11250944147186 - Pearson Correlation: 0.9069654576592887\n",
      "Learning Rate: [1.5555555555555552e-06]\n",
      "\n"
     ]
    },
    {
     "name": "stderr",
     "output_type": "stream",
     "text": [
      "100%|███████████████████████████████████████████| 12/12 [01:11<00:00,  6.00s/it]\n"
     ]
    },
    {
     "name": "stdout",
     "output_type": "stream",
     "text": [
      "Epoch [87/100]\n",
      "MSE: 69.06483740702417 - Pearson Correlation: 0.9071548319086588\n",
      "Learning Rate: [1.444444444444445e-06]\n",
      "\n"
     ]
    },
    {
     "name": "stderr",
     "output_type": "stream",
     "text": [
      "100%|███████████████████████████████████████████| 12/12 [01:12<00:00,  6.02s/it]\n"
     ]
    },
    {
     "name": "stdout",
     "output_type": "stream",
     "text": [
      "Epoch [88/100]\n",
      "MSE: 69.10608282814377 - Pearson Correlation: 0.9086028114482246\n",
      "Learning Rate: [1.333333333333333e-06]\n",
      "\n"
     ]
    },
    {
     "name": "stderr",
     "output_type": "stream",
     "text": [
      "100%|███████████████████████████████████████████| 12/12 [01:12<00:00,  6.02s/it]\n"
     ]
    },
    {
     "name": "stdout",
     "output_type": "stream",
     "text": [
      "Epoch [89/100]\n",
      "MSE: 69.12836480505709 - Pearson Correlation: 0.9114859451117415\n",
      "Learning Rate: [1.2222222222222228e-06]\n",
      "\n"
     ]
    },
    {
     "name": "stderr",
     "output_type": "stream",
     "text": [
      "100%|███████████████████████████████████████████| 12/12 [01:11<00:00,  5.95s/it]\n"
     ]
    },
    {
     "name": "stdout",
     "output_type": "stream",
     "text": [
      "Epoch [90/100]\n",
      "MSE: 69.14566042804982 - Pearson Correlation: 0.9109221581374147\n",
      "Learning Rate: [1.1111111111111108e-06]\n",
      "\n"
     ]
    },
    {
     "name": "stderr",
     "output_type": "stream",
     "text": [
      "100%|███████████████████████████████████████████| 12/12 [01:12<00:00,  6.06s/it]\n"
     ]
    },
    {
     "name": "stdout",
     "output_type": "stream",
     "text": [
      "Epoch [91/100]\n",
      "MSE: 69.16383656099008 - Pearson Correlation: 0.9144395175019036\n",
      "Learning Rate: [1.0000000000000006e-06]\n",
      "\n"
     ]
    },
    {
     "name": "stderr",
     "output_type": "stream",
     "text": [
      "100%|███████████████████████████████████████████| 12/12 [01:04<00:00,  5.33s/it]\n"
     ]
    },
    {
     "name": "stdout",
     "output_type": "stream",
     "text": [
      "Epoch [92/100]\n",
      "MSE: 69.20131721715727 - Pearson Correlation: 0.9149564537690525\n",
      "Learning Rate: [8.888888888888887e-07]\n",
      "\n"
     ]
    },
    {
     "name": "stderr",
     "output_type": "stream",
     "text": [
      "100%|███████████████████████████████████████████| 12/12 [01:06<00:00,  5.57s/it]\n"
     ]
    },
    {
     "name": "stdout",
     "output_type": "stream",
     "text": [
      "Epoch [93/100]\n",
      "MSE: 69.20160197245657 - Pearson Correlation: 0.9154533138673849\n",
      "Learning Rate: [7.777777777777784e-07]\n",
      "\n"
     ]
    },
    {
     "name": "stderr",
     "output_type": "stream",
     "text": [
      "100%|███████████████████████████████████████████| 12/12 [01:03<00:00,  5.27s/it]\n"
     ]
    },
    {
     "name": "stdout",
     "output_type": "stream",
     "text": [
      "Epoch [94/100]\n",
      "MSE: 69.19100169953443 - Pearson Correlation: 0.9162526413075558\n",
      "Learning Rate: [6.666666666666665e-07]\n",
      "\n"
     ]
    },
    {
     "name": "stderr",
     "output_type": "stream",
     "text": [
      "100%|███████████████████████████████████████████| 12/12 [01:07<00:00,  5.62s/it]\n"
     ]
    },
    {
     "name": "stdout",
     "output_type": "stream",
     "text": [
      "Epoch [95/100]\n",
      "MSE: 69.21287701990327 - Pearson Correlation: 0.9156327829101465\n",
      "Learning Rate: [5.555555555555563e-07]\n",
      "\n"
     ]
    },
    {
     "name": "stderr",
     "output_type": "stream",
     "text": [
      "100%|███████████████████████████████████████████| 12/12 [01:05<00:00,  5.45s/it]\n"
     ]
    },
    {
     "name": "stdout",
     "output_type": "stream",
     "text": [
      "Epoch [96/100]\n",
      "MSE: 69.19831856656872 - Pearson Correlation: 0.9160851275572897\n",
      "Learning Rate: [4.4444444444444433e-07]\n",
      "\n"
     ]
    },
    {
     "name": "stderr",
     "output_type": "stream",
     "text": [
      "100%|███████████████████████████████████████████| 12/12 [01:05<00:00,  5.46s/it]\n"
     ]
    },
    {
     "name": "stdout",
     "output_type": "stream",
     "text": [
      "Epoch [97/100]\n",
      "MSE: 69.18624407709989 - Pearson Correlation: 0.9159565148335377\n",
      "Learning Rate: [3.333333333333324e-07]\n",
      "\n"
     ]
    },
    {
     "name": "stderr",
     "output_type": "stream",
     "text": [
      "100%|███████████████████████████████████████████| 12/12 [01:04<00:00,  5.38s/it]\n"
     ]
    },
    {
     "name": "stdout",
     "output_type": "stream",
     "text": [
      "Epoch [98/100]\n",
      "MSE: 69.19580020934723 - Pearson Correlation: 0.9154263682197712\n",
      "Learning Rate: [2.2222222222222217e-07]\n",
      "\n"
     ]
    },
    {
     "name": "stderr",
     "output_type": "stream",
     "text": [
      "100%|███████████████████████████████████████████| 12/12 [01:04<00:00,  5.41s/it]\n"
     ]
    },
    {
     "name": "stdout",
     "output_type": "stream",
     "text": [
      "Epoch [99/100]\n",
      "MSE: 69.18132682285652 - Pearson Correlation: 0.9156773205400714\n",
      "Learning Rate: [1.1111111111111024e-07]\n",
      "\n"
     ]
    },
    {
     "name": "stderr",
     "output_type": "stream",
     "text": [
      "100%|███████████████████████████████████████████| 12/12 [01:05<00:00,  5.49s/it]\n"
     ]
    },
    {
     "name": "stdout",
     "output_type": "stream",
     "text": [
      "Epoch [100/100]\n",
      "MSE: 69.18152593553712 - Pearson Correlation: 0.9157353772478032\n",
      "Learning Rate: [0.0]\n",
      "\n"
     ]
    }
   ],
   "source": [
    "model = DataFusionModel().to(device)\n",
    "model.load_state_dict(torch.load(\"/Users/gufran/Desktop/PfsPredictionLungCancer/notebooks/checkpoint/multimodal.pt\"))\n",
    "\n",
    "criterion = nn.MSELoss()\n",
    "optimizer = torch.optim.Adam(model.parameters(), lr=0.00001)\n",
    "\n",
    "num_epochs = 100\n",
    "\n",
    "lr_scheduler=LinearDecayLR(optimizer, num_epochs, 10)\n",
    "\n",
    "for epoch in range(num_epochs):\n",
    "    model.train()\n",
    "\n",
    "    y_true_train = []\n",
    "    y_pred_train = []\n",
    "    \n",
    "    best_mse = 71.49900769051669\n",
    "    for batch in tqdm(train_loader):\n",
    "        patches = batch['patches'].to(device)\n",
    "        pfs_labels = batch['pfs_label'].to(device)\n",
    "        pcf_data = batch['pcf'].to(device)\n",
    "\n",
    "        optimizer.zero_grad()\n",
    "        outputs = model(patches, pcf_data)\n",
    "        loss = criterion(outputs, pfs_labels)\n",
    "        loss.backward()\n",
    "        optimizer.step()\n",
    "\n",
    "        y_true_train.extend(pfs_labels.cpu().numpy())\n",
    "        \n",
    "        for pred_val in outputs.detach().cpu().numpy():\n",
    "            y_pred_train.append(float(pred_val))\n",
    "      \n",
    "    lr_scheduler.step()\n",
    "    \n",
    "    mse_train = mean_squared_error(y_true_train, y_pred_train)\n",
    "    pearson_corr_train, _ = pearsonr(y_true_train, y_pred_train)\n",
    "    print(f\"Epoch [{epoch + 1}/{num_epochs}]\")\n",
    "    print(f\"MSE: {mse_train} - Pearson Correlation: {pearson_corr_train}\")\n",
    "    print(f\"Learning Rate: {lr_scheduler.get_lr()}\", end=\"\\n\\n\")\n",
    "    \n",
    "    if mse_train<best_mse:\n",
    "        best_mse = mse_train\n",
    "        torch.save(model.state_dict(), f\"/Users/gufran/Desktop/PfsPredictionLungCancer/notebooks/checkpoint/multimodal_post.pt\")"
   ]
  },
  {
   "cell_type": "code",
   "execution_count": 429,
   "id": "f7aee501-fe95-4d0e-a866-1c02c5202e54",
   "metadata": {
    "tags": []
   },
   "outputs": [
    {
     "data": {
      "text/plain": [
       "<All keys matched successfully>"
      ]
     },
     "execution_count": 429,
     "metadata": {},
     "output_type": "execute_result"
    }
   ],
   "source": [
    "model = DataFusionModel().to(device)\n",
    "# model.load_state_dict(torch.load(\"/Users/gufran/Desktop/PfsPredictionLungCancer/notebooks/checkpoint/multimodal.pt\"))\n",
    "model.load_state_dict(torch.load(\"/Users/gufran/Desktop/PfsPredictionLungCancer/notebooks/checkpoint/multimodal_post.pt\"))"
   ]
  },
  {
   "cell_type": "code",
   "execution_count": 430,
   "id": "5faf0cfa-921e-4cdd-8a63-c92cf0befdc1",
   "metadata": {
    "tags": []
   },
   "outputs": [
    {
     "name": "stderr",
     "output_type": "stream",
     "text": [
      " 43%|███████████████████▎                         | 3/7 [00:05<00:07,  1.95s/it]\n"
     ]
    },
    {
     "ename": "KeyboardInterrupt",
     "evalue": "",
     "output_type": "error",
     "traceback": [
      "\u001b[0;31m---------------------------------------------------------------------------\u001b[0m",
      "\u001b[0;31mKeyboardInterrupt\u001b[0m                         Traceback (most recent call last)",
      "Cell \u001b[0;32mIn[430], line 10\u001b[0m\n\u001b[1;32m      7\u001b[0m pfs_labels \u001b[38;5;241m=\u001b[39m batch[\u001b[38;5;124m'\u001b[39m\u001b[38;5;124mpfs_label\u001b[39m\u001b[38;5;124m'\u001b[39m]\u001b[38;5;241m.\u001b[39mto(device)\n\u001b[1;32m      8\u001b[0m pcf_data \u001b[38;5;241m=\u001b[39m batch[\u001b[38;5;124m'\u001b[39m\u001b[38;5;124mpcf\u001b[39m\u001b[38;5;124m'\u001b[39m]\u001b[38;5;241m.\u001b[39mto(device)\n\u001b[0;32m---> 10\u001b[0m outputs \u001b[38;5;241m=\u001b[39m model(patches, pcf_data)\n\u001b[1;32m     11\u001b[0m y_true_val\u001b[38;5;241m.\u001b[39mextend(pfs_labels\u001b[38;5;241m.\u001b[39mcpu()\u001b[38;5;241m.\u001b[39mnumpy())\n\u001b[1;32m     13\u001b[0m \u001b[38;5;28;01mfor\u001b[39;00m pred_val \u001b[38;5;129;01min\u001b[39;00m outputs\u001b[38;5;241m.\u001b[39mdetach()\u001b[38;5;241m.\u001b[39mcpu()\u001b[38;5;241m.\u001b[39mnumpy():\n",
      "File \u001b[0;32m~/anaconda3/lib/python3.11/site-packages/torch/nn/modules/module.py:1510\u001b[0m, in \u001b[0;36mModule._wrapped_call_impl\u001b[0;34m(self, *args, **kwargs)\u001b[0m\n\u001b[1;32m   1508\u001b[0m     \u001b[38;5;28;01mreturn\u001b[39;00m \u001b[38;5;28mself\u001b[39m\u001b[38;5;241m.\u001b[39m_compiled_call_impl(\u001b[38;5;241m*\u001b[39margs, \u001b[38;5;241m*\u001b[39m\u001b[38;5;241m*\u001b[39mkwargs)  \u001b[38;5;66;03m# type: ignore[misc]\u001b[39;00m\n\u001b[1;32m   1509\u001b[0m \u001b[38;5;28;01melse\u001b[39;00m:\n\u001b[0;32m-> 1510\u001b[0m     \u001b[38;5;28;01mreturn\u001b[39;00m \u001b[38;5;28mself\u001b[39m\u001b[38;5;241m.\u001b[39m_call_impl(\u001b[38;5;241m*\u001b[39margs, \u001b[38;5;241m*\u001b[39m\u001b[38;5;241m*\u001b[39mkwargs)\n",
      "File \u001b[0;32m~/anaconda3/lib/python3.11/site-packages/torch/nn/modules/module.py:1519\u001b[0m, in \u001b[0;36mModule._call_impl\u001b[0;34m(self, *args, **kwargs)\u001b[0m\n\u001b[1;32m   1514\u001b[0m \u001b[38;5;66;03m# If we don't have any hooks, we want to skip the rest of the logic in\u001b[39;00m\n\u001b[1;32m   1515\u001b[0m \u001b[38;5;66;03m# this function, and just call forward.\u001b[39;00m\n\u001b[1;32m   1516\u001b[0m \u001b[38;5;28;01mif\u001b[39;00m \u001b[38;5;129;01mnot\u001b[39;00m (\u001b[38;5;28mself\u001b[39m\u001b[38;5;241m.\u001b[39m_backward_hooks \u001b[38;5;129;01mor\u001b[39;00m \u001b[38;5;28mself\u001b[39m\u001b[38;5;241m.\u001b[39m_backward_pre_hooks \u001b[38;5;129;01mor\u001b[39;00m \u001b[38;5;28mself\u001b[39m\u001b[38;5;241m.\u001b[39m_forward_hooks \u001b[38;5;129;01mor\u001b[39;00m \u001b[38;5;28mself\u001b[39m\u001b[38;5;241m.\u001b[39m_forward_pre_hooks\n\u001b[1;32m   1517\u001b[0m         \u001b[38;5;129;01mor\u001b[39;00m _global_backward_pre_hooks \u001b[38;5;129;01mor\u001b[39;00m _global_backward_hooks\n\u001b[1;32m   1518\u001b[0m         \u001b[38;5;129;01mor\u001b[39;00m _global_forward_hooks \u001b[38;5;129;01mor\u001b[39;00m _global_forward_pre_hooks):\n\u001b[0;32m-> 1519\u001b[0m     \u001b[38;5;28;01mreturn\u001b[39;00m forward_call(\u001b[38;5;241m*\u001b[39margs, \u001b[38;5;241m*\u001b[39m\u001b[38;5;241m*\u001b[39mkwargs)\n\u001b[1;32m   1521\u001b[0m \u001b[38;5;28;01mtry\u001b[39;00m:\n\u001b[1;32m   1522\u001b[0m     result \u001b[38;5;241m=\u001b[39m \u001b[38;5;28;01mNone\u001b[39;00m\n",
      "Cell \u001b[0;32mIn[133], line 24\u001b[0m, in \u001b[0;36mDataFusionModel.forward\u001b[0;34m(self, img_batch, pcf_batch)\u001b[0m\n\u001b[1;32m     22\u001b[0m image_features_resnet \u001b[38;5;241m=\u001b[39m []\n\u001b[1;32m     23\u001b[0m \u001b[38;5;28;01mfor\u001b[39;00m patches \u001b[38;5;129;01min\u001b[39;00m img_batch:\n\u001b[0;32m---> 24\u001b[0m     patch_outputs \u001b[38;5;241m=\u001b[39m [\u001b[38;5;28mself\u001b[39m\u001b[38;5;241m.\u001b[39mresnet(patch\u001b[38;5;241m.\u001b[39munsqueeze(\u001b[38;5;241m0\u001b[39m)) \u001b[38;5;28;01mfor\u001b[39;00m patch \u001b[38;5;129;01min\u001b[39;00m patches]\n\u001b[1;32m     25\u001b[0m     aggregated_output \u001b[38;5;241m=\u001b[39m torch\u001b[38;5;241m.\u001b[39mstack(patch_outputs)\u001b[38;5;241m.\u001b[39mmean(dim\u001b[38;5;241m=\u001b[39m\u001b[38;5;241m0\u001b[39m)\n\u001b[1;32m     26\u001b[0m     aggregated_output \u001b[38;5;241m=\u001b[39m aggregated_output\u001b[38;5;241m.\u001b[39msqueeze()\n",
      "Cell \u001b[0;32mIn[133], line 24\u001b[0m, in \u001b[0;36m<listcomp>\u001b[0;34m(.0)\u001b[0m\n\u001b[1;32m     22\u001b[0m image_features_resnet \u001b[38;5;241m=\u001b[39m []\n\u001b[1;32m     23\u001b[0m \u001b[38;5;28;01mfor\u001b[39;00m patches \u001b[38;5;129;01min\u001b[39;00m img_batch:\n\u001b[0;32m---> 24\u001b[0m     patch_outputs \u001b[38;5;241m=\u001b[39m [\u001b[38;5;28mself\u001b[39m\u001b[38;5;241m.\u001b[39mresnet(patch\u001b[38;5;241m.\u001b[39munsqueeze(\u001b[38;5;241m0\u001b[39m)) \u001b[38;5;28;01mfor\u001b[39;00m patch \u001b[38;5;129;01min\u001b[39;00m patches]\n\u001b[1;32m     25\u001b[0m     aggregated_output \u001b[38;5;241m=\u001b[39m torch\u001b[38;5;241m.\u001b[39mstack(patch_outputs)\u001b[38;5;241m.\u001b[39mmean(dim\u001b[38;5;241m=\u001b[39m\u001b[38;5;241m0\u001b[39m)\n\u001b[1;32m     26\u001b[0m     aggregated_output \u001b[38;5;241m=\u001b[39m aggregated_output\u001b[38;5;241m.\u001b[39msqueeze()\n",
      "File \u001b[0;32m~/anaconda3/lib/python3.11/site-packages/torch/nn/modules/module.py:1510\u001b[0m, in \u001b[0;36mModule._wrapped_call_impl\u001b[0;34m(self, *args, **kwargs)\u001b[0m\n\u001b[1;32m   1508\u001b[0m     \u001b[38;5;28;01mreturn\u001b[39;00m \u001b[38;5;28mself\u001b[39m\u001b[38;5;241m.\u001b[39m_compiled_call_impl(\u001b[38;5;241m*\u001b[39margs, \u001b[38;5;241m*\u001b[39m\u001b[38;5;241m*\u001b[39mkwargs)  \u001b[38;5;66;03m# type: ignore[misc]\u001b[39;00m\n\u001b[1;32m   1509\u001b[0m \u001b[38;5;28;01melse\u001b[39;00m:\n\u001b[0;32m-> 1510\u001b[0m     \u001b[38;5;28;01mreturn\u001b[39;00m \u001b[38;5;28mself\u001b[39m\u001b[38;5;241m.\u001b[39m_call_impl(\u001b[38;5;241m*\u001b[39margs, \u001b[38;5;241m*\u001b[39m\u001b[38;5;241m*\u001b[39mkwargs)\n",
      "File \u001b[0;32m~/anaconda3/lib/python3.11/site-packages/torch/nn/modules/module.py:1519\u001b[0m, in \u001b[0;36mModule._call_impl\u001b[0;34m(self, *args, **kwargs)\u001b[0m\n\u001b[1;32m   1514\u001b[0m \u001b[38;5;66;03m# If we don't have any hooks, we want to skip the rest of the logic in\u001b[39;00m\n\u001b[1;32m   1515\u001b[0m \u001b[38;5;66;03m# this function, and just call forward.\u001b[39;00m\n\u001b[1;32m   1516\u001b[0m \u001b[38;5;28;01mif\u001b[39;00m \u001b[38;5;129;01mnot\u001b[39;00m (\u001b[38;5;28mself\u001b[39m\u001b[38;5;241m.\u001b[39m_backward_hooks \u001b[38;5;129;01mor\u001b[39;00m \u001b[38;5;28mself\u001b[39m\u001b[38;5;241m.\u001b[39m_backward_pre_hooks \u001b[38;5;129;01mor\u001b[39;00m \u001b[38;5;28mself\u001b[39m\u001b[38;5;241m.\u001b[39m_forward_hooks \u001b[38;5;129;01mor\u001b[39;00m \u001b[38;5;28mself\u001b[39m\u001b[38;5;241m.\u001b[39m_forward_pre_hooks\n\u001b[1;32m   1517\u001b[0m         \u001b[38;5;129;01mor\u001b[39;00m _global_backward_pre_hooks \u001b[38;5;129;01mor\u001b[39;00m _global_backward_hooks\n\u001b[1;32m   1518\u001b[0m         \u001b[38;5;129;01mor\u001b[39;00m _global_forward_hooks \u001b[38;5;129;01mor\u001b[39;00m _global_forward_pre_hooks):\n\u001b[0;32m-> 1519\u001b[0m     \u001b[38;5;28;01mreturn\u001b[39;00m forward_call(\u001b[38;5;241m*\u001b[39margs, \u001b[38;5;241m*\u001b[39m\u001b[38;5;241m*\u001b[39mkwargs)\n\u001b[1;32m   1521\u001b[0m \u001b[38;5;28;01mtry\u001b[39;00m:\n\u001b[1;32m   1522\u001b[0m     result \u001b[38;5;241m=\u001b[39m \u001b[38;5;28;01mNone\u001b[39;00m\n",
      "File \u001b[0;32m~/anaconda3/lib/python3.11/site-packages/torchvision/models/resnet.py:285\u001b[0m, in \u001b[0;36mResNet.forward\u001b[0;34m(self, x)\u001b[0m\n\u001b[1;32m    284\u001b[0m \u001b[38;5;28;01mdef\u001b[39;00m \u001b[38;5;21mforward\u001b[39m(\u001b[38;5;28mself\u001b[39m, x: Tensor) \u001b[38;5;241m-\u001b[39m\u001b[38;5;241m>\u001b[39m Tensor:\n\u001b[0;32m--> 285\u001b[0m     \u001b[38;5;28;01mreturn\u001b[39;00m \u001b[38;5;28mself\u001b[39m\u001b[38;5;241m.\u001b[39m_forward_impl(x)\n",
      "File \u001b[0;32m~/anaconda3/lib/python3.11/site-packages/torchvision/models/resnet.py:274\u001b[0m, in \u001b[0;36mResNet._forward_impl\u001b[0;34m(self, x)\u001b[0m\n\u001b[1;32m    271\u001b[0m x \u001b[38;5;241m=\u001b[39m \u001b[38;5;28mself\u001b[39m\u001b[38;5;241m.\u001b[39mmaxpool(x)\n\u001b[1;32m    273\u001b[0m x \u001b[38;5;241m=\u001b[39m \u001b[38;5;28mself\u001b[39m\u001b[38;5;241m.\u001b[39mlayer1(x)\n\u001b[0;32m--> 274\u001b[0m x \u001b[38;5;241m=\u001b[39m \u001b[38;5;28mself\u001b[39m\u001b[38;5;241m.\u001b[39mlayer2(x)\n\u001b[1;32m    275\u001b[0m x \u001b[38;5;241m=\u001b[39m \u001b[38;5;28mself\u001b[39m\u001b[38;5;241m.\u001b[39mlayer3(x)\n\u001b[1;32m    276\u001b[0m x \u001b[38;5;241m=\u001b[39m \u001b[38;5;28mself\u001b[39m\u001b[38;5;241m.\u001b[39mlayer4(x)\n",
      "File \u001b[0;32m~/anaconda3/lib/python3.11/site-packages/torch/nn/modules/module.py:1510\u001b[0m, in \u001b[0;36mModule._wrapped_call_impl\u001b[0;34m(self, *args, **kwargs)\u001b[0m\n\u001b[1;32m   1508\u001b[0m     \u001b[38;5;28;01mreturn\u001b[39;00m \u001b[38;5;28mself\u001b[39m\u001b[38;5;241m.\u001b[39m_compiled_call_impl(\u001b[38;5;241m*\u001b[39margs, \u001b[38;5;241m*\u001b[39m\u001b[38;5;241m*\u001b[39mkwargs)  \u001b[38;5;66;03m# type: ignore[misc]\u001b[39;00m\n\u001b[1;32m   1509\u001b[0m \u001b[38;5;28;01melse\u001b[39;00m:\n\u001b[0;32m-> 1510\u001b[0m     \u001b[38;5;28;01mreturn\u001b[39;00m \u001b[38;5;28mself\u001b[39m\u001b[38;5;241m.\u001b[39m_call_impl(\u001b[38;5;241m*\u001b[39margs, \u001b[38;5;241m*\u001b[39m\u001b[38;5;241m*\u001b[39mkwargs)\n",
      "File \u001b[0;32m~/anaconda3/lib/python3.11/site-packages/torch/nn/modules/module.py:1519\u001b[0m, in \u001b[0;36mModule._call_impl\u001b[0;34m(self, *args, **kwargs)\u001b[0m\n\u001b[1;32m   1514\u001b[0m \u001b[38;5;66;03m# If we don't have any hooks, we want to skip the rest of the logic in\u001b[39;00m\n\u001b[1;32m   1515\u001b[0m \u001b[38;5;66;03m# this function, and just call forward.\u001b[39;00m\n\u001b[1;32m   1516\u001b[0m \u001b[38;5;28;01mif\u001b[39;00m \u001b[38;5;129;01mnot\u001b[39;00m (\u001b[38;5;28mself\u001b[39m\u001b[38;5;241m.\u001b[39m_backward_hooks \u001b[38;5;129;01mor\u001b[39;00m \u001b[38;5;28mself\u001b[39m\u001b[38;5;241m.\u001b[39m_backward_pre_hooks \u001b[38;5;129;01mor\u001b[39;00m \u001b[38;5;28mself\u001b[39m\u001b[38;5;241m.\u001b[39m_forward_hooks \u001b[38;5;129;01mor\u001b[39;00m \u001b[38;5;28mself\u001b[39m\u001b[38;5;241m.\u001b[39m_forward_pre_hooks\n\u001b[1;32m   1517\u001b[0m         \u001b[38;5;129;01mor\u001b[39;00m _global_backward_pre_hooks \u001b[38;5;129;01mor\u001b[39;00m _global_backward_hooks\n\u001b[1;32m   1518\u001b[0m         \u001b[38;5;129;01mor\u001b[39;00m _global_forward_hooks \u001b[38;5;129;01mor\u001b[39;00m _global_forward_pre_hooks):\n\u001b[0;32m-> 1519\u001b[0m     \u001b[38;5;28;01mreturn\u001b[39;00m forward_call(\u001b[38;5;241m*\u001b[39margs, \u001b[38;5;241m*\u001b[39m\u001b[38;5;241m*\u001b[39mkwargs)\n\u001b[1;32m   1521\u001b[0m \u001b[38;5;28;01mtry\u001b[39;00m:\n\u001b[1;32m   1522\u001b[0m     result \u001b[38;5;241m=\u001b[39m \u001b[38;5;28;01mNone\u001b[39;00m\n",
      "File \u001b[0;32m~/anaconda3/lib/python3.11/site-packages/torch/nn/modules/container.py:217\u001b[0m, in \u001b[0;36mSequential.forward\u001b[0;34m(self, input)\u001b[0m\n\u001b[1;32m    215\u001b[0m \u001b[38;5;28;01mdef\u001b[39;00m \u001b[38;5;21mforward\u001b[39m(\u001b[38;5;28mself\u001b[39m, \u001b[38;5;28minput\u001b[39m):\n\u001b[1;32m    216\u001b[0m     \u001b[38;5;28;01mfor\u001b[39;00m module \u001b[38;5;129;01min\u001b[39;00m \u001b[38;5;28mself\u001b[39m:\n\u001b[0;32m--> 217\u001b[0m         \u001b[38;5;28minput\u001b[39m \u001b[38;5;241m=\u001b[39m module(\u001b[38;5;28minput\u001b[39m)\n\u001b[1;32m    218\u001b[0m     \u001b[38;5;28;01mreturn\u001b[39;00m \u001b[38;5;28minput\u001b[39m\n",
      "File \u001b[0;32m~/anaconda3/lib/python3.11/site-packages/torch/nn/modules/module.py:1510\u001b[0m, in \u001b[0;36mModule._wrapped_call_impl\u001b[0;34m(self, *args, **kwargs)\u001b[0m\n\u001b[1;32m   1508\u001b[0m     \u001b[38;5;28;01mreturn\u001b[39;00m \u001b[38;5;28mself\u001b[39m\u001b[38;5;241m.\u001b[39m_compiled_call_impl(\u001b[38;5;241m*\u001b[39margs, \u001b[38;5;241m*\u001b[39m\u001b[38;5;241m*\u001b[39mkwargs)  \u001b[38;5;66;03m# type: ignore[misc]\u001b[39;00m\n\u001b[1;32m   1509\u001b[0m \u001b[38;5;28;01melse\u001b[39;00m:\n\u001b[0;32m-> 1510\u001b[0m     \u001b[38;5;28;01mreturn\u001b[39;00m \u001b[38;5;28mself\u001b[39m\u001b[38;5;241m.\u001b[39m_call_impl(\u001b[38;5;241m*\u001b[39margs, \u001b[38;5;241m*\u001b[39m\u001b[38;5;241m*\u001b[39mkwargs)\n",
      "File \u001b[0;32m~/anaconda3/lib/python3.11/site-packages/torch/nn/modules/module.py:1519\u001b[0m, in \u001b[0;36mModule._call_impl\u001b[0;34m(self, *args, **kwargs)\u001b[0m\n\u001b[1;32m   1514\u001b[0m \u001b[38;5;66;03m# If we don't have any hooks, we want to skip the rest of the logic in\u001b[39;00m\n\u001b[1;32m   1515\u001b[0m \u001b[38;5;66;03m# this function, and just call forward.\u001b[39;00m\n\u001b[1;32m   1516\u001b[0m \u001b[38;5;28;01mif\u001b[39;00m \u001b[38;5;129;01mnot\u001b[39;00m (\u001b[38;5;28mself\u001b[39m\u001b[38;5;241m.\u001b[39m_backward_hooks \u001b[38;5;129;01mor\u001b[39;00m \u001b[38;5;28mself\u001b[39m\u001b[38;5;241m.\u001b[39m_backward_pre_hooks \u001b[38;5;129;01mor\u001b[39;00m \u001b[38;5;28mself\u001b[39m\u001b[38;5;241m.\u001b[39m_forward_hooks \u001b[38;5;129;01mor\u001b[39;00m \u001b[38;5;28mself\u001b[39m\u001b[38;5;241m.\u001b[39m_forward_pre_hooks\n\u001b[1;32m   1517\u001b[0m         \u001b[38;5;129;01mor\u001b[39;00m _global_backward_pre_hooks \u001b[38;5;129;01mor\u001b[39;00m _global_backward_hooks\n\u001b[1;32m   1518\u001b[0m         \u001b[38;5;129;01mor\u001b[39;00m _global_forward_hooks \u001b[38;5;129;01mor\u001b[39;00m _global_forward_pre_hooks):\n\u001b[0;32m-> 1519\u001b[0m     \u001b[38;5;28;01mreturn\u001b[39;00m forward_call(\u001b[38;5;241m*\u001b[39margs, \u001b[38;5;241m*\u001b[39m\u001b[38;5;241m*\u001b[39mkwargs)\n\u001b[1;32m   1521\u001b[0m \u001b[38;5;28;01mtry\u001b[39;00m:\n\u001b[1;32m   1522\u001b[0m     result \u001b[38;5;241m=\u001b[39m \u001b[38;5;28;01mNone\u001b[39;00m\n",
      "File \u001b[0;32m~/anaconda3/lib/python3.11/site-packages/torchvision/models/resnet.py:155\u001b[0m, in \u001b[0;36mBottleneck.forward\u001b[0;34m(self, x)\u001b[0m\n\u001b[1;32m    152\u001b[0m out \u001b[38;5;241m=\u001b[39m \u001b[38;5;28mself\u001b[39m\u001b[38;5;241m.\u001b[39mrelu(out)\n\u001b[1;32m    154\u001b[0m out \u001b[38;5;241m=\u001b[39m \u001b[38;5;28mself\u001b[39m\u001b[38;5;241m.\u001b[39mconv3(out)\n\u001b[0;32m--> 155\u001b[0m out \u001b[38;5;241m=\u001b[39m \u001b[38;5;28mself\u001b[39m\u001b[38;5;241m.\u001b[39mbn3(out)\n\u001b[1;32m    157\u001b[0m \u001b[38;5;28;01mif\u001b[39;00m \u001b[38;5;28mself\u001b[39m\u001b[38;5;241m.\u001b[39mdownsample \u001b[38;5;129;01mis\u001b[39;00m \u001b[38;5;129;01mnot\u001b[39;00m \u001b[38;5;28;01mNone\u001b[39;00m:\n\u001b[1;32m    158\u001b[0m     identity \u001b[38;5;241m=\u001b[39m \u001b[38;5;28mself\u001b[39m\u001b[38;5;241m.\u001b[39mdownsample(x)\n",
      "File \u001b[0;32m~/anaconda3/lib/python3.11/site-packages/torch/nn/modules/module.py:1510\u001b[0m, in \u001b[0;36mModule._wrapped_call_impl\u001b[0;34m(self, *args, **kwargs)\u001b[0m\n\u001b[1;32m   1508\u001b[0m     \u001b[38;5;28;01mreturn\u001b[39;00m \u001b[38;5;28mself\u001b[39m\u001b[38;5;241m.\u001b[39m_compiled_call_impl(\u001b[38;5;241m*\u001b[39margs, \u001b[38;5;241m*\u001b[39m\u001b[38;5;241m*\u001b[39mkwargs)  \u001b[38;5;66;03m# type: ignore[misc]\u001b[39;00m\n\u001b[1;32m   1509\u001b[0m \u001b[38;5;28;01melse\u001b[39;00m:\n\u001b[0;32m-> 1510\u001b[0m     \u001b[38;5;28;01mreturn\u001b[39;00m \u001b[38;5;28mself\u001b[39m\u001b[38;5;241m.\u001b[39m_call_impl(\u001b[38;5;241m*\u001b[39margs, \u001b[38;5;241m*\u001b[39m\u001b[38;5;241m*\u001b[39mkwargs)\n",
      "File \u001b[0;32m~/anaconda3/lib/python3.11/site-packages/torch/nn/modules/module.py:1519\u001b[0m, in \u001b[0;36mModule._call_impl\u001b[0;34m(self, *args, **kwargs)\u001b[0m\n\u001b[1;32m   1514\u001b[0m \u001b[38;5;66;03m# If we don't have any hooks, we want to skip the rest of the logic in\u001b[39;00m\n\u001b[1;32m   1515\u001b[0m \u001b[38;5;66;03m# this function, and just call forward.\u001b[39;00m\n\u001b[1;32m   1516\u001b[0m \u001b[38;5;28;01mif\u001b[39;00m \u001b[38;5;129;01mnot\u001b[39;00m (\u001b[38;5;28mself\u001b[39m\u001b[38;5;241m.\u001b[39m_backward_hooks \u001b[38;5;129;01mor\u001b[39;00m \u001b[38;5;28mself\u001b[39m\u001b[38;5;241m.\u001b[39m_backward_pre_hooks \u001b[38;5;129;01mor\u001b[39;00m \u001b[38;5;28mself\u001b[39m\u001b[38;5;241m.\u001b[39m_forward_hooks \u001b[38;5;129;01mor\u001b[39;00m \u001b[38;5;28mself\u001b[39m\u001b[38;5;241m.\u001b[39m_forward_pre_hooks\n\u001b[1;32m   1517\u001b[0m         \u001b[38;5;129;01mor\u001b[39;00m _global_backward_pre_hooks \u001b[38;5;129;01mor\u001b[39;00m _global_backward_hooks\n\u001b[1;32m   1518\u001b[0m         \u001b[38;5;129;01mor\u001b[39;00m _global_forward_hooks \u001b[38;5;129;01mor\u001b[39;00m _global_forward_pre_hooks):\n\u001b[0;32m-> 1519\u001b[0m     \u001b[38;5;28;01mreturn\u001b[39;00m forward_call(\u001b[38;5;241m*\u001b[39margs, \u001b[38;5;241m*\u001b[39m\u001b[38;5;241m*\u001b[39mkwargs)\n\u001b[1;32m   1521\u001b[0m \u001b[38;5;28;01mtry\u001b[39;00m:\n\u001b[1;32m   1522\u001b[0m     result \u001b[38;5;241m=\u001b[39m \u001b[38;5;28;01mNone\u001b[39;00m\n",
      "File \u001b[0;32m~/anaconda3/lib/python3.11/site-packages/torch/nn/modules/batchnorm.py:175\u001b[0m, in \u001b[0;36m_BatchNorm.forward\u001b[0;34m(self, input)\u001b[0m\n\u001b[1;32m    168\u001b[0m     bn_training \u001b[38;5;241m=\u001b[39m (\u001b[38;5;28mself\u001b[39m\u001b[38;5;241m.\u001b[39mrunning_mean \u001b[38;5;129;01mis\u001b[39;00m \u001b[38;5;28;01mNone\u001b[39;00m) \u001b[38;5;129;01mand\u001b[39;00m (\u001b[38;5;28mself\u001b[39m\u001b[38;5;241m.\u001b[39mrunning_var \u001b[38;5;129;01mis\u001b[39;00m \u001b[38;5;28;01mNone\u001b[39;00m)\n\u001b[1;32m    170\u001b[0m \u001b[38;5;250m\u001b[39m\u001b[38;5;124mr\u001b[39m\u001b[38;5;124;03m\"\"\"\u001b[39;00m\n\u001b[1;32m    171\u001b[0m \u001b[38;5;124;03mBuffers are only updated if they are to be tracked and we are in training mode. Thus they only need to be\u001b[39;00m\n\u001b[1;32m    172\u001b[0m \u001b[38;5;124;03mpassed when the update should occur (i.e. in training mode when they are tracked), or when buffer stats are\u001b[39;00m\n\u001b[1;32m    173\u001b[0m \u001b[38;5;124;03mused for normalization (i.e. in eval mode when buffers are not None).\u001b[39;00m\n\u001b[1;32m    174\u001b[0m \u001b[38;5;124;03m\"\"\"\u001b[39;00m\n\u001b[0;32m--> 175\u001b[0m \u001b[38;5;28;01mreturn\u001b[39;00m F\u001b[38;5;241m.\u001b[39mbatch_norm(\n\u001b[1;32m    176\u001b[0m     \u001b[38;5;28minput\u001b[39m,\n\u001b[1;32m    177\u001b[0m     \u001b[38;5;66;03m# If buffers are not to be tracked, ensure that they won't be updated\u001b[39;00m\n\u001b[1;32m    178\u001b[0m     \u001b[38;5;28mself\u001b[39m\u001b[38;5;241m.\u001b[39mrunning_mean\n\u001b[1;32m    179\u001b[0m     \u001b[38;5;28;01mif\u001b[39;00m \u001b[38;5;129;01mnot\u001b[39;00m \u001b[38;5;28mself\u001b[39m\u001b[38;5;241m.\u001b[39mtraining \u001b[38;5;129;01mor\u001b[39;00m \u001b[38;5;28mself\u001b[39m\u001b[38;5;241m.\u001b[39mtrack_running_stats\n\u001b[1;32m    180\u001b[0m     \u001b[38;5;28;01melse\u001b[39;00m \u001b[38;5;28;01mNone\u001b[39;00m,\n\u001b[1;32m    181\u001b[0m     \u001b[38;5;28mself\u001b[39m\u001b[38;5;241m.\u001b[39mrunning_var \u001b[38;5;28;01mif\u001b[39;00m \u001b[38;5;129;01mnot\u001b[39;00m \u001b[38;5;28mself\u001b[39m\u001b[38;5;241m.\u001b[39mtraining \u001b[38;5;129;01mor\u001b[39;00m \u001b[38;5;28mself\u001b[39m\u001b[38;5;241m.\u001b[39mtrack_running_stats \u001b[38;5;28;01melse\u001b[39;00m \u001b[38;5;28;01mNone\u001b[39;00m,\n\u001b[1;32m    182\u001b[0m     \u001b[38;5;28mself\u001b[39m\u001b[38;5;241m.\u001b[39mweight,\n\u001b[1;32m    183\u001b[0m     \u001b[38;5;28mself\u001b[39m\u001b[38;5;241m.\u001b[39mbias,\n\u001b[1;32m    184\u001b[0m     bn_training,\n\u001b[1;32m    185\u001b[0m     exponential_average_factor,\n\u001b[1;32m    186\u001b[0m     \u001b[38;5;28mself\u001b[39m\u001b[38;5;241m.\u001b[39meps,\n\u001b[1;32m    187\u001b[0m )\n",
      "File \u001b[0;32m~/anaconda3/lib/python3.11/site-packages/torch/nn/functional.py:2483\u001b[0m, in \u001b[0;36mbatch_norm\u001b[0;34m(input, running_mean, running_var, weight, bias, training, momentum, eps)\u001b[0m\n\u001b[1;32m   2480\u001b[0m \u001b[38;5;28;01mif\u001b[39;00m training:\n\u001b[1;32m   2481\u001b[0m     _verify_batch_size(\u001b[38;5;28minput\u001b[39m\u001b[38;5;241m.\u001b[39msize())\n\u001b[0;32m-> 2483\u001b[0m \u001b[38;5;28;01mreturn\u001b[39;00m torch\u001b[38;5;241m.\u001b[39mbatch_norm(\n\u001b[1;32m   2484\u001b[0m     \u001b[38;5;28minput\u001b[39m, weight, bias, running_mean, running_var, training, momentum, eps, torch\u001b[38;5;241m.\u001b[39mbackends\u001b[38;5;241m.\u001b[39mcudnn\u001b[38;5;241m.\u001b[39menabled\n\u001b[1;32m   2485\u001b[0m )\n",
      "\u001b[0;31mKeyboardInterrupt\u001b[0m: "
     ]
    }
   ],
   "source": [
    "model.eval()\n",
    "y_true_val = []\n",
    "y_pred_val = []\n",
    "\n",
    "for batch in tqdm(val_loader):\n",
    "    patches = batch['patches'].to(device)\n",
    "    pfs_labels = batch['pfs_label'].to(device)\n",
    "    pcf_data = batch['pcf'].to(device)\n",
    "\n",
    "    outputs = model(patches, pcf_data)\n",
    "    y_true_val.extend(pfs_labels.cpu().numpy())\n",
    "    \n",
    "    for pred_val in outputs.detach().cpu().numpy():\n",
    "        y_pred_val.append(float(pred_val))\n",
    "\n",
    "mse_val = mean_squared_error(y_true_val, y_pred_val)\n",
    "pearson_corr_val, _ = pearsonr(y_true_val, y_pred_val)\n",
    "print(f\"MSE: {mse_val} - Pearson Correlation: {pearson_corr_val}\")"
   ]
  },
  {
   "cell_type": "code",
   "execution_count": 431,
   "id": "767f9d3d-88dd-46a9-ab35-92fa01d50bd4",
   "metadata": {
    "tags": []
   },
   "outputs": [
    {
     "name": "stderr",
     "output_type": "stream",
     "text": [
      "100%|███████████████████████████████████████████| 12/12 [00:18<00:00,  1.51s/it]\n",
      "100%|█████████████████████████████████████████████| 7/7 [00:10<00:00,  1.44s/it]\n"
     ]
    }
   ],
   "source": [
    "def create_df(model, loader):\n",
    "    model_ = DataFusionModel(currently_training=False).to(device)\n",
    "    model_.load_state_dict(model.state_dict())\n",
    "\n",
    "    model_.eval()\n",
    "\n",
    "    features_list = []\n",
    "    pfs_values_list = []\n",
    "    for batch in tqdm(loader):\n",
    "        patches = batch['patches'].to(device)\n",
    "        pfs_labels = batch['pfs_label'].to(device)\n",
    "        pcf_data = batch['pcf'].to(device)\n",
    "\n",
    "        with torch.no_grad():\n",
    "            outputs = model_(patches, pcf_data)\n",
    "            \n",
    "            for o in outputs:\n",
    "                features_list.append(list(o.cpu().numpy()))\n",
    "        \n",
    "        pfs_values_list.extend(pfs_labels.cpu().numpy())\n",
    "        \n",
    "    df = pd.DataFrame(data=features_list, columns=[f'feature_{i}' for i in range(len(features_list[0]))])\n",
    "    df['pfs'] = pfs_values_list\n",
    "\n",
    "    return df\n",
    "\n",
    "model = DataFusionModel()\n",
    "# model.load_state_dict(torch.load(\"/Users/gufran/Desktop/PfsPredictionLungCancer/notebooks/checkpoint/multimodal.pt\"))\n",
    "model.load_state_dict(torch.load(\"/Users/gufran/Desktop/PfsPredictionLungCancer/notebooks/checkpoint/multimodal_post.pt\"))\n",
    "\n",
    "dftr = create_df(model, train_loader)\n",
    "dfte = create_df(model, val_loader)"
   ]
  },
  {
   "cell_type": "code",
   "execution_count": 432,
   "id": "175f26ef-c38c-473b-b3be-5177bd29c704",
   "metadata": {
    "tags": []
   },
   "outputs": [
    {
     "data": {
      "text/plain": [
       "((94, 257), (50, 257))"
      ]
     },
     "execution_count": 432,
     "metadata": {},
     "output_type": "execute_result"
    }
   ],
   "source": [
    "dftr.shape,dfte.shape"
   ]
  },
  {
   "cell_type": "code",
   "execution_count": 312,
   "id": "026d145f-1fe8-4bca-b96c-aad4bc8e9407",
   "metadata": {
    "tags": []
   },
   "outputs": [],
   "source": [
    "from sklearn.preprocessing import MinMaxScaler"
   ]
  },
  {
   "cell_type": "code",
   "execution_count": 369,
   "id": "04c1f1d4-24b3-4142-a77e-19ff81b5d0c5",
   "metadata": {
    "tags": []
   },
   "outputs": [],
   "source": [
    "# dftr.to_csv(\"/Users/gufran/Desktop/PfsPredictionLungCancer/data/multimodal_train.csv\", index=False)\n",
    "# dfte.to_csv(\"/Users/gufran/Desktop/PfsPredictionLungCancer/data/multimodal_val.csv\", index=False)"
   ]
  },
  {
   "cell_type": "code",
   "execution_count": 433,
   "id": "1e89c001-2d05-40fc-83c3-251637bae320",
   "metadata": {
    "tags": []
   },
   "outputs": [],
   "source": [
    "correlation_threshold = 0.01\n",
    "correlations = dftr.drop(\"pfs\", axis=1).corrwith(dftr['pfs'])\n",
    "selected_columns = correlations[(correlations >= correlation_threshold) | (correlations <= -correlation_threshold)].index\n",
    "\n",
    "selected_columns = list(selected_columns)\n",
    "# selected_columns"
   ]
  },
  {
   "cell_type": "code",
   "execution_count": 434,
   "id": "ea7c05bc-14cc-4f83-bc03-52d564106f16",
   "metadata": {
    "scrolled": true,
    "tags": []
   },
   "outputs": [
    {
     "name": "stdout",
     "output_type": "stream",
     "text": [
      "Correlation with feature_0: 0.10029362259466426\n",
      "Correlation with feature_1: -0.13271471427599973\n",
      "Correlation with feature_2: -0.09982973758072936\n",
      "Correlation with feature_3: -0.12855659023538688\n",
      "Correlation with feature_4: 0.11845733146837749\n",
      "Correlation with feature_5: -0.12640003813339756\n",
      "Correlation with feature_6: 0.1197360294789298\n",
      "Correlation with feature_7: -0.12649468462515984\n",
      "Correlation with feature_8: -0.13113971337685268\n",
      "Correlation with feature_9: 0.15578891084159424\n",
      "Correlation with feature_10: 0.1393835395433827\n",
      "Correlation with feature_11: -0.15029075916342893\n",
      "Correlation with feature_12: -0.17499163926315653\n",
      "Correlation with feature_13: -0.1303680371988665\n",
      "Correlation with feature_14: -0.12325858143177537\n",
      "Correlation with feature_15: -0.12997120196023348\n",
      "Correlation with feature_16: -0.14257498006767808\n",
      "Correlation with feature_17: -0.14664703979795815\n",
      "Correlation with feature_18: 0.15611935369007796\n",
      "Correlation with feature_19: 0.13629201945111172\n",
      "Correlation with feature_20: 0.15845593846528166\n",
      "Correlation with feature_21: 0.11667171138906568\n",
      "Correlation with feature_22: -0.1266817640690783\n",
      "Correlation with feature_23: -0.13398155347075133\n",
      "Correlation with feature_24: -0.17383686439235074\n",
      "Correlation with feature_25: 0.03095534387227924\n",
      "Correlation with feature_26: -0.14114604835700115\n",
      "Correlation with feature_27: -0.10315549567589245\n",
      "Correlation with feature_28: 0.1271578048492035\n",
      "Correlation with feature_29: 0.11499331423440372\n",
      "Correlation with feature_30: 0.04764160993908663\n",
      "Correlation with feature_31: -0.13709942384271806\n",
      "Correlation with feature_32: 0.1274600722172391\n",
      "Correlation with feature_33: 0.033232364453955845\n",
      "Correlation with feature_34: -0.07297852724694358\n",
      "Correlation with feature_35: -0.12229052701693406\n",
      "Correlation with feature_36: -0.13105046382109112\n",
      "Correlation with feature_37: -0.10130255965976481\n",
      "Correlation with feature_38: -0.09254696148448516\n",
      "Correlation with feature_39: -0.11579785183662149\n",
      "Correlation with feature_40: -0.12980851934237195\n",
      "Correlation with feature_41: -0.028937372554922732\n",
      "Correlation with feature_42: -0.05594623592581077\n",
      "Correlation with feature_43: 0.15850540196361762\n",
      "Correlation with feature_44: -0.11403442954818586\n",
      "Correlation with feature_45: 0.1499204116041998\n",
      "Correlation with feature_46: -0.12914548338653029\n",
      "Correlation with feature_47: 0.1178984494681797\n",
      "Correlation with feature_48: -0.13533033686288398\n",
      "Correlation with feature_49: -0.13860555574807437\n",
      "Correlation with feature_50: -0.14023294459085098\n",
      "Correlation with feature_51: -0.12431755262800506\n",
      "Correlation with feature_52: 0.11413391872160043\n",
      "Correlation with feature_53: -0.1289988685542156\n",
      "Correlation with feature_54: -0.09476158197705535\n",
      "Correlation with feature_55: 0.12664717514864807\n",
      "Correlation with feature_56: -0.12534955808491102\n",
      "Correlation with feature_57: -0.14587196374965716\n",
      "Correlation with feature_58: -0.14722415688449988\n",
      "Correlation with feature_59: -0.06366725405064286\n",
      "Correlation with feature_60: 0.12989355360199473\n",
      "Correlation with feature_61: 0.12913973847767987\n",
      "Correlation with feature_62: 0.1287254088558641\n",
      "Correlation with feature_63: -0.11141044379686421\n",
      "Correlation with feature_64: -0.13044686938132968\n",
      "Correlation with feature_65: 0.12292023018404016\n",
      "Correlation with feature_66: -0.12626869981863295\n",
      "Correlation with feature_67: -0.13842718267267057\n",
      "Correlation with feature_68: 0.14076178889321772\n",
      "Correlation with feature_69: -0.1521043191661911\n",
      "Correlation with feature_70: -0.12209133484384978\n",
      "Correlation with feature_71: -0.13258994148070435\n",
      "Correlation with feature_72: -0.1287545834281487\n",
      "Correlation with feature_73: -0.11165387754656296\n",
      "Correlation with feature_74: -0.12212973030607661\n",
      "Correlation with feature_75: 0.1389629690328069\n",
      "Correlation with feature_76: -0.14871929291179845\n",
      "Correlation with feature_77: 0.1408512661193906\n",
      "Correlation with feature_78: 0.12191263190210547\n",
      "Correlation with feature_79: -0.13718372907991117\n",
      "Correlation with feature_80: -0.15238821264825542\n",
      "Correlation with feature_81: -0.13041059406148828\n",
      "Correlation with feature_82: -0.10599297858673333\n",
      "Correlation with feature_83: -0.13140056585388343\n",
      "Correlation with feature_84: 0.12861805407640617\n",
      "Correlation with feature_85: -0.12401255056114915\n",
      "Correlation with feature_86: -0.14513391450835586\n",
      "Correlation with feature_87: -0.1310769943963359\n",
      "Correlation with feature_88: 0.11592422297006709\n",
      "Correlation with feature_89: -0.13046566716933755\n",
      "Correlation with feature_90: -0.12830913980537587\n",
      "Correlation with feature_91: -0.014478774728980874\n",
      "Correlation with feature_92: -0.14820069548024137\n",
      "Correlation with feature_93: -0.13410164887662626\n",
      "Correlation with feature_94: 0.09060422835491741\n",
      "Correlation with feature_95: -0.12453252854660814\n",
      "Correlation with feature_96: 0.13266286895060497\n",
      "Correlation with feature_97: -0.13118020162970534\n",
      "Correlation with feature_98: -0.0883671766327629\n",
      "Correlation with feature_99: 0.1392685502565171\n",
      "Correlation with feature_100: 0.11722177727578478\n",
      "Correlation with feature_101: 0.017956929204832214\n",
      "Correlation with feature_102: -0.13824382452480738\n",
      "Correlation with feature_103: 0.1338947673860412\n",
      "Correlation with feature_104: 0.15593237337015273\n",
      "Correlation with feature_105: 0.1501029927725356\n",
      "Correlation with feature_106: 0.1218628732585675\n",
      "Correlation with feature_107: -0.058815466801031155\n",
      "Correlation with feature_108: -0.13381409473876396\n",
      "Correlation with feature_109: -0.0922525024448478\n",
      "Correlation with feature_110: -0.08894061626449169\n",
      "Correlation with feature_111: 0.12279123887927856\n",
      "Correlation with feature_112: -0.03287279284769727\n",
      "Correlation with feature_113: -0.1276595914154348\n",
      "Correlation with feature_114: 0.1288333263513125\n",
      "Correlation with feature_115: -0.12279434950511513\n",
      "Correlation with feature_116: 0.12875969054933598\n",
      "Correlation with feature_117: 0.147552091368719\n",
      "Correlation with feature_118: -0.0979539544021644\n",
      "Correlation with feature_119: -0.03401948732631674\n",
      "Correlation with feature_120: 0.13200774559750417\n",
      "Correlation with feature_121: -0.12959734667995862\n",
      "Correlation with feature_122: -0.1197955986085248\n",
      "Correlation with feature_123: 0.12947379482006838\n",
      "Correlation with feature_124: 0.13508483905688762\n",
      "Correlation with feature_125: 0.1230799188830522\n",
      "Correlation with feature_126: 0.15520893363993377\n",
      "Correlation with feature_127: 0.12630547124204886\n",
      "Correlation with feature_128: -0.1495622748924339\n",
      "Correlation with feature_129: -0.1162087284893181\n",
      "Correlation with feature_130: 0.1707949467282413\n",
      "Correlation with feature_131: 0.14764469252800508\n",
      "Correlation with feature_132: 0.13224970280991882\n",
      "Correlation with feature_133: 0.12588602042852842\n",
      "Correlation with feature_134: 0.14230582486598872\n",
      "Correlation with feature_135: 0.12931253199364895\n",
      "Correlation with feature_136: -0.04246073290765438\n",
      "Correlation with feature_137: -0.13370350246577384\n",
      "Correlation with feature_138: -0.12901371073055165\n",
      "Correlation with feature_139: -0.1427081481783431\n",
      "Correlation with feature_140: 0.13780025143810568\n",
      "Correlation with feature_141: -0.06920270691089829\n",
      "Correlation with feature_142: -0.11301206936351411\n",
      "Correlation with feature_143: 0.11493784292525698\n",
      "Correlation with feature_144: -0.12447399410232615\n",
      "Correlation with feature_145: 0.10450004215601429\n",
      "Correlation with feature_146: -0.06717163311548702\n",
      "Correlation with feature_147: 0.11251482322390213\n",
      "Correlation with feature_148: 0.11927198292047178\n",
      "Correlation with feature_149: -0.13052073126809569\n",
      "Correlation with feature_150: 0.145812345891343\n",
      "Correlation with feature_151: 0.15561471514684166\n",
      "Correlation with feature_152: 0.12903160872797667\n",
      "Correlation with feature_153: 0.05151002376849015\n",
      "Correlation with feature_154: -0.16009558225159687\n",
      "Correlation with feature_155: -0.14064348891931422\n",
      "Correlation with feature_156: 0.0487646777367414\n",
      "Correlation with feature_157: 0.12913884705120018\n",
      "Correlation with feature_158: -0.13015517024807494\n",
      "Correlation with feature_159: 0.12068248586055937\n",
      "Correlation with feature_160: 0.13624544884507866\n",
      "Correlation with feature_161: -0.1646306088690614\n",
      "Correlation with feature_162: -0.07725615637038648\n",
      "Correlation with feature_163: -0.13548150813344778\n",
      "Correlation with feature_164: 0.1096797288165444\n",
      "Correlation with feature_165: -0.1443484283329022\n",
      "Correlation with feature_166: 0.12682951479402627\n",
      "Correlation with feature_167: 0.12664299742987592\n",
      "Correlation with feature_168: 0.11786483703053924\n",
      "Correlation with feature_169: 0.12120883030459263\n",
      "Correlation with feature_170: -0.13046322944924524\n",
      "Correlation with feature_171: -0.15270581640814687\n",
      "Correlation with feature_172: 0.12107886453972992\n",
      "Correlation with feature_173: 0.12744700587701344\n",
      "Correlation with feature_174: -0.11795354868187728\n",
      "Correlation with feature_175: -0.12413516334357268\n",
      "Correlation with feature_176: -0.12804165764610087\n",
      "Correlation with feature_177: -0.13730061058081452\n",
      "Correlation with feature_178: 0.12152840820697257\n",
      "Correlation with feature_179: -0.09384787258693278\n",
      "Correlation with feature_180: -0.14871708366003836\n",
      "Correlation with feature_181: -0.12874044070801474\n",
      "Correlation with feature_182: -0.15224098380260578\n",
      "Correlation with feature_183: -0.012696984550539265\n",
      "Correlation with feature_184: 0.13183054719391976\n",
      "Correlation with feature_185: -0.07961502511413783\n",
      "Correlation with feature_186: 0.1410351281324587\n",
      "Correlation with feature_187: -0.12786646391376205\n",
      "Correlation with feature_188: 0.12252052265934195\n",
      "Correlation with feature_189: -0.1435694172532488\n",
      "Correlation with feature_190: -0.13695935705391982\n",
      "Correlation with feature_191: 0.14080163527816575\n",
      "Correlation with feature_192: -0.09980020687053547\n",
      "Correlation with feature_193: 0.12872718038731587\n",
      "Correlation with feature_194: -0.1455412067941989\n",
      "Correlation with feature_195: 0.11090622942778555\n",
      "Correlation with feature_196: 0.10385561010781583\n",
      "Correlation with feature_197: 0.13590391881399594\n",
      "Correlation with feature_198: -0.07139680186453727\n",
      "Correlation with feature_199: 0.12278986774009537\n",
      "Correlation with feature_200: 0.06892523425605149\n",
      "Correlation with feature_201: -0.12862264613375532\n",
      "Correlation with feature_202: -0.09401023418547237\n",
      "Correlation with feature_203: -0.07823944349733747\n",
      "Correlation with feature_204: -0.10763164614327224\n",
      "Correlation with feature_205: -0.056005680691532465\n",
      "Correlation with feature_206: 0.10088521020548236\n",
      "Correlation with feature_207: 0.1514459990376998\n",
      "Correlation with feature_208: -0.15498060849402398\n",
      "Correlation with feature_209: 0.1511893000438352\n",
      "Correlation with feature_210: -0.14548835820550995\n",
      "Correlation with feature_211: 0.043057596641744716\n",
      "Correlation with feature_212: -0.11279455032157187\n",
      "Correlation with feature_213: 0.01411271303673887\n",
      "Correlation with feature_214: 0.12349343836199997\n",
      "Correlation with feature_215: -0.15311653285077753\n",
      "Correlation with feature_216: 0.10733889544417453\n",
      "Correlation with feature_217: -0.11862628565738866\n",
      "Correlation with feature_218: -0.13686545845979903\n",
      "Correlation with feature_219: -0.1262178870751082\n",
      "Correlation with feature_220: -0.13502978578071415\n",
      "Correlation with feature_221: 0.1351431196128545\n",
      "Correlation with feature_222: 0.05217746371210575\n",
      "Correlation with feature_223: -0.11809604217306315\n",
      "Correlation with feature_224: -0.13212898534764925\n",
      "Correlation with feature_225: 0.12140484957512102\n",
      "Correlation with feature_226: 0.1587252250792634\n",
      "Correlation with feature_227: 0.04506716055901598\n",
      "Correlation with feature_228: -0.1756148391236688\n",
      "Correlation with feature_229: -0.14559773938875376\n",
      "Correlation with feature_230: -0.130666291650316\n",
      "Correlation with feature_231: -0.12404973586765465\n",
      "Correlation with feature_232: -0.11504309666803726\n",
      "Correlation with feature_233: -0.1252571748805825\n",
      "Correlation with feature_234: -0.07894369276294265\n",
      "Correlation with feature_235: 0.13033371652907477\n",
      "Correlation with feature_236: -0.12515900962136584\n",
      "Correlation with feature_237: -0.12018351610877243\n",
      "Correlation with feature_238: -0.12948629919812193\n",
      "Correlation with feature_239: 0.15062442036839016\n",
      "Correlation with feature_240: -0.12010808516290519\n",
      "Correlation with feature_241: 0.04502853144501022\n",
      "Correlation with feature_242: -0.0856683540556144\n",
      "Correlation with feature_243: -0.16477787368723062\n",
      "Correlation with feature_244: -0.09176964306617884\n",
      "Correlation with feature_245: 0.13496857602480633\n",
      "Correlation with feature_246: 0.10455686608129638\n",
      "Correlation with feature_247: 0.09461653310811045\n",
      "Correlation with feature_248: -0.12856417403460754\n",
      "Correlation with feature_249: 0.10667692211347464\n",
      "Correlation with feature_250: -0.12735978507197993\n",
      "Correlation with feature_251: -0.10330493719583997\n",
      "Correlation with feature_252: -0.0983871511328645\n",
      "Correlation with feature_253: 0.15114907907726965\n",
      "Correlation with feature_254: -0.1243337504397653\n",
      "Correlation with feature_255: 0.14452782546382636\n"
     ]
    }
   ],
   "source": [
    "for sc in selected_columns:\n",
    "    if sc in [\"dmp_pt_id\", \"pfs\"]: continue\n",
    "    print(f\"Correlation with {sc}: {dftr['pfs'].corr(dftr[sc])}\")"
   ]
  },
  {
   "cell_type": "code",
   "execution_count": 435,
   "id": "8392d36a-8713-45d7-94b0-fbc4f247b51a",
   "metadata": {
    "tags": []
   },
   "outputs": [],
   "source": [
    "# dftr_s = dftr[selected_columns+[\"pfs\"]]\n",
    "# dfte_s = dfte[selected_columns+[\"pfs\"]]\n",
    "\n",
    "dftr_s = dftr\n",
    "dfte_s = dfte"
   ]
  },
  {
   "cell_type": "code",
   "execution_count": 436,
   "id": "1794281a-34a0-42a6-b038-766187629721",
   "metadata": {
    "tags": []
   },
   "outputs": [],
   "source": [
    "X_train, y_train = dftr_s.drop([\"pfs\"], axis=1), dftr_s[\"pfs\"]\n",
    "X_test, y_test = dfte_s.drop([\"pfs\"], axis=1), dfte_s[\"pfs\"]"
   ]
  },
  {
   "cell_type": "code",
   "execution_count": 437,
   "id": "03ee7d65-90cd-4256-9a05-d174253b0bbe",
   "metadata": {
    "tags": []
   },
   "outputs": [],
   "source": [
    "classifiers_reg = {\n",
    "    'SVM': {\n",
    "        'name': 'Support Vector Machine',\n",
    "        'classifier': SVR(),\n",
    "        'param_grid': {'C': [0.1, 1.0, 5.0, 10.0], 'kernel': ['linear', 'rbf']}\n",
    "    },\n",
    "    'XGBoost': {\n",
    "        'name': 'XGBoost',\n",
    "        'classifier': XGBRegressor(),\n",
    "        'param_grid': {'n_estimators': [50, 100, 200], 'max_depth': [3, 4, 5]}\n",
    "    },\n",
    "    'AdaBoost': {\n",
    "        'name': 'AdaBoost',\n",
    "        'classifier': AdaBoostRegressor(),\n",
    "        'param_grid': {'n_estimators': [50, 100, 200], 'learning_rate': [0.1, 0.5, 1.0]}\n",
    "    },\n",
    "    'RandomForest': {\n",
    "        'name': 'Random Forest',\n",
    "        'classifier': RandomForestRegressor(),\n",
    "        'param_grid': {'n_estimators': [50, 100, 200], 'max_depth': [None, 10, 20]}\n",
    "    },\n",
    "    'DecisionTree': {\n",
    "        'name': 'Decision Tree',\n",
    "        'classifier': DecisionTreeRegressor(),\n",
    "        'param_grid': {'max_depth': [None, 10, 20]}\n",
    "    }\n",
    "}"
   ]
  },
  {
   "cell_type": "code",
   "execution_count": 401,
   "id": "6620331e-f8fa-402e-adee-ee42c35baa95",
   "metadata": {
    "tags": []
   },
   "outputs": [],
   "source": [
    "# best_models = {}\n",
    "\n",
    "# for clf_name, clf_info in classifiers_reg.items():\n",
    "#     print(f\"Performing GridSearchCV for {clf_info['name']}...\")\n",
    "    \n",
    "#     clf = clf_info['classifier']\n",
    "#     param_grid = clf_info['param_grid']\n",
    "    \n",
    "#     grid_search = GridSearchCV(clf, param_grid, cv=5, scoring='neg_mean_squared_error', n_jobs=-1)\n",
    "#     grid_search.fit(X_train, y_train)\n",
    "\n",
    "#     best_models[clf_name] = grid_search.best_estimator_\n",
    "\n",
    "# print()\n",
    "\n",
    "# for clf_name, best_model in best_models.items():\n",
    "#     print(f\"Evaluating {clf_name} on test data...\")\n",
    "    \n",
    "#     y_pred = best_model.predict(X_test)\n",
    "\n",
    "#     mse = mean_squared_error(y_test, y_pred)\n",
    "#     pearson_coefficient, _ = pearsonr(y_test, y_pred)\n",
    "    \n",
    "#     print(f\"Mean Squared Error on Test Data: {mse:.4f}\")\n",
    "#     print(f\"Pearson Correlation Coefficient on Test Data: {pearson_coefficient:.4f}\\n\")"
   ]
  },
  {
   "cell_type": "code",
   "execution_count": 441,
   "id": "d5a0ab24-ff55-43f4-b3fc-ff3b5d966884",
   "metadata": {
    "tags": []
   },
   "outputs": [
    {
     "name": "stdout",
     "output_type": "stream",
     "text": [
      "Mean Squared Error on Test Data (Bagging): 35.6142\n",
      "Pearson Correlation Coefficient on Test Data (Bagging): 0.3929\n",
      "\n"
     ]
    }
   ],
   "source": [
    "from sklearn.ensemble import BaggingRegressor\n",
    "\n",
    "bagging_reg = BaggingRegressor(base_estimator=SVR(kernel='rbf', epsilon=0.2, C=1.0), n_estimators=2, random_state=42)  # You can customize parameters\n",
    "bagging_reg.fit(X_train, y_train)\n",
    "\n",
    "y_pred_bagging = bagging_reg.predict(X_test)\n",
    "mse_bagging = mean_squared_error(y_test, y_pred_bagging)\n",
    "pearson_coefficient_bagging, _ = pearsonr(y_test, y_pred_bagging)\n",
    "\n",
    "# if mse_bagging<40:\n",
    "print(f\"Mean Squared Error on Test Data (Bagging): {mse_bagging:.4f}\")\n",
    "print(f\"Pearson Correlation Coefficient on Test Data (Bagging): {pearson_coefficient_bagging:.4f}\\n\")"
   ]
  },
  {
   "cell_type": "code",
   "execution_count": 287,
   "id": "ac7f49ca-aa6c-421c-8a8c-117f386c5253",
   "metadata": {
    "tags": []
   },
   "outputs": [],
   "source": [
    "best_models[\"BaggingRegressor\"] = bagging_reg"
   ]
  },
  {
   "cell_type": "code",
   "execution_count": 288,
   "id": "6706811b-b5c9-4595-99bf-8634df52973e",
   "metadata": {
    "tags": []
   },
   "outputs": [
    {
     "data": {
      "text/plain": [
       "dict_items([('SVM', SVR(C=0.1)), ('AdaBoost', AdaBoostRegressor(learning_rate=0.1, n_estimators=100)), ('RandomForest', RandomForestRegressor(max_depth=10, n_estimators=200)), ('DecisionTree', DecisionTreeRegressor()), ('BaggingRegressor', BaggingRegressor(base_estimator=SVR(), n_estimators=2, random_state=42))])"
      ]
     },
     "execution_count": 288,
     "metadata": {},
     "output_type": "execute_result"
    }
   ],
   "source": [
    "best_models.items()"
   ]
  },
  {
   "cell_type": "code",
   "execution_count": 388,
   "id": "a8474a6f-fd8f-4f5d-950e-23eafe4a822c",
   "metadata": {
    "tags": []
   },
   "outputs": [
    {
     "name": "stdout",
     "output_type": "stream",
     "text": [
      "Mean Squared Error on Test Data (Voting): 67.7944\n",
      "Pearson Correlation Coefficient on Test Data (Voting): -0.0827\n",
      "\n"
     ]
    }
   ],
   "source": [
    "from sklearn.ensemble import VotingRegressor\n",
    "\n",
    "voting_reg = VotingRegressor(estimators=list(best_models.items()))\n",
    "voting_reg.fit(X_train, y_train)\n",
    "\n",
    "y_pred_voting = voting_reg.predict(X_test)\n",
    "mse_voting = mean_squared_error(y_test, y_pred_voting)\n",
    "pearson_coefficient_voting, _ = pearsonr(y_test, y_pred_voting)\n",
    "\n",
    "print(f\"Mean Squared Error on Test Data (Voting): {mse_voting:.4f}\")\n",
    "print(f\"Pearson Correlation Coefficient on Test Data (Voting): {pearson_coefficient_voting:.4f}\\n\")"
   ]
  },
  {
   "cell_type": "code",
   "execution_count": null,
   "id": "78ac565f-ce21-4521-bbae-d05330e008ea",
   "metadata": {},
   "outputs": [],
   "source": []
  }
 ],
 "metadata": {
  "kernelspec": {
   "display_name": "Python 3 (ipykernel)",
   "language": "python",
   "name": "python3"
  },
  "language_info": {
   "codemirror_mode": {
    "name": "ipython",
    "version": 3
   },
   "file_extension": ".py",
   "mimetype": "text/x-python",
   "name": "python",
   "nbconvert_exporter": "python",
   "pygments_lexer": "ipython3",
   "version": "3.11.5"
  }
 },
 "nbformat": 4,
 "nbformat_minor": 5
}
